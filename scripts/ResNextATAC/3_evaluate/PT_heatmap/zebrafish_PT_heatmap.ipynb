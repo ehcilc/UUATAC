{
 "cells": [
  {
   "cell_type": "code",
   "execution_count": null,
   "id": "fa0ccb43-e26e-4b50-82aa-b6c8387307e3",
   "metadata": {},
   "outputs": [],
   "source": [
    "import sys\n",
    "sys.path.append(\"/software/path/prefix/NvTK/\")\n",
    "import h5py, os, argparse, logging, time\n",
    "\n",
    "import numpy as np\n",
    "import pandas as pd\n",
    "\n",
    "import torch\n",
    "from torch import nn\n",
    "from torch.optim import Adam\n",
    "from torch.utils.data import DataLoader\n",
    "\n",
    "import NvTK\n",
    "from NvTK import Trainer\n",
    "from NvTK.Evaluator import calculate_correlation, calculate_pr, calculate_roc\n",
    "from NvTK.Explainer import get_activate_W, meme_generate, save_activate_seqlets, calc_frequency_W\n",
    "\n",
    "import matplotlib.pyplot as plt\n",
    "from NvTK.Explainer import seq_logo, plot_seq_logo\n",
    "\n",
    "#from NvTK import resnet18\n",
    "from NvTK.Modules import BasicPredictor\n",
    "# set_all_random_seed\n",
    "NvTK.set_random_seed()\n",
    "NvTK.set_torch_seed()\n",
    "NvTK.set_torch_benchmark()\n",
    "device = torch.device(\"cuda\" if torch.cuda.is_available() else \"cpu\")\n",
    "\n",
    "sys.path.append(\"/file/path/prefix/\")\n",
    "n_tasks=50027 #cell num\n",
    "from ResNeXt_conv1_128_btnk_2dense import *\n",
    "model = resnext34(num_classes = n_tasks)\n",
    "\n",
    "# define criterion\n",
    "criterion = nn.BCELoss().to(device)\n",
    "\n",
    "# define optimizer\n",
    "optimizer = Adam(model.parameters(), lr=1e-3, betas=(0.9, 0.999), eps=1e-08, weight_decay=0,)\n",
    "\n",
    "# define trainer\n",
    "trainer = Trainer(model, criterion, optimizer, device, \n",
    "                    patience=10, tasktype='binary_classification', metric_sample=100,\n",
    "                    use_tensorbord=False)\n",
    "## reload best model\n",
    "model = trainer.load_best_model('./Log/best_model.pth')\n",
    "model.eval()"
   ]
  },
  {
   "cell_type": "code",
   "execution_count": null,
   "id": "7c9a37c5-16c2-43ee-b372-829d68780f30",
   "metadata": {},
   "outputs": [],
   "source": [
    "# unpack h5file\n",
    "h5file = h5py.File('/file/path/prefix/Zebrafish_5wCells_7wPeaks_3wnegative.shuffled.noimpute.500bp.20230916.h5', 'r')\n",
    "X = h5file[\"pmat\"][\"X\"][:].swapaxes(-1,1).astype(np.float32)\n",
    "peak_idx = h5file['pmat']['pmat_sc']['i'][:]\n",
    "cell_idx = h5file['pmat']['pmat_sc']['j'][:]\n",
    "x = h5file['pmat']['pmat_sc']['x'][:]\n",
    "dim = h5file['pmat']['pmat_sc']['dim'][:]\n",
    "y = np.zeros((dim[0], dim[1]), dtype = np.float32)\n",
    "y[peak_idx, cell_idx] = x\n",
    "features = h5file[\"pmat\"][\"peak\"][:]\n",
    "h5file.close()\n",
    "\n",
    "\n",
    "\n",
    "# unpack anno\n",
    "n_tasks = y.shape[-1]\n",
    "mask = features[:,-1].astype(str)\n",
    "train_idx, val_idx, test_idx = mask=='train', mask=='val', mask=='test'\n",
    "x_train, x_val, x_test = X[train_idx], X[val_idx], X[test_idx]\n",
    "y_train, y_val, y_test = y[train_idx], y[val_idx], y[test_idx]\n",
    "# np.sum(train_idx), np.sum(val_idx), np.sum(test_idx)\n",
    "\n",
    "\n",
    "# define data loader\n",
    "batch_size =100\n",
    "train_loader = DataLoader(list(zip(x_train, y_train)), batch_size=batch_size,\n",
    "                            shuffle=True, num_workers=0, drop_last=False, pin_memory=True)\n",
    "validate_loader = DataLoader(list(zip(x_val, y_val)), batch_size=batch_size, \n",
    "                            shuffle=False, num_workers=0, drop_last=False, pin_memory=True)\n",
    "test_loader = DataLoader(list(zip(x_test, y_test)), batch_size=batch_size, \n",
    "                            shuffle=False, num_workers=0, drop_last=False, pin_memory=True)"
   ]
  },
  {
   "cell_type": "code",
   "execution_count": null,
   "id": "b5805535-0079-4ec1-a6d1-2e9b1f291ae2",
   "metadata": {},
   "outputs": [],
   "source": [
    "test_loader"
   ]
  },
  {
   "cell_type": "code",
   "execution_count": null,
   "id": "06861e55-563f-44b8-9ea3-bc7af41f8347",
   "metadata": {},
   "outputs": [],
   "source": [
    "_, _, test_predictions, test_targets = trainer.predict(test_loader)"
   ]
  },
  {
   "cell_type": "code",
   "execution_count": null,
   "id": "4b85beeb-cbcb-46fa-b9fe-9f8b159d5e58",
   "metadata": {},
   "outputs": [],
   "source": [
    "test_predictions.shape"
   ]
  },
  {
   "cell_type": "code",
   "execution_count": null,
   "id": "3cb3c6f3-25db-4e04-874f-655f3ac8354d",
   "metadata": {},
   "outputs": [],
   "source": [
    "test_targets.shape"
   ]
  },
  {
   "cell_type": "code",
   "execution_count": null,
   "id": "1b713928-50a6-42f3-ad18-49d9a957e5d6",
   "metadata": {},
   "outputs": [],
   "source": [
    "import pandas as pd\n",
    "anno = pd.read_table('./Zebrafish_anno_5w.txt')\n",
    "anno"
   ]
  },
  {
   "cell_type": "code",
   "execution_count": null,
   "id": "71444634-3575-4a60-a77d-efe1e9fdfbd9",
   "metadata": {},
   "outputs": [],
   "source": [
    "pred_data=pd.DataFrame(test_predictions).T\n",
    "pred_data['subcluster'] = anno['id'].values\n",
    "pred_data_mean = pred_data.groupby(['subcluster']).mean()\n",
    "pred_data_mean"
   ]
  },
  {
   "cell_type": "code",
   "execution_count": null,
   "id": "6ea13158-3425-49fc-a986-adcee0d73450",
   "metadata": {},
   "outputs": [],
   "source": [
    "target_data=pd.DataFrame(test_targets).T\n",
    "target_data['subcluster'] = anno['id'].values\n",
    "target_data_mean = target_data.groupby(['subcluster']).mean()\n",
    "target_data_mean"
   ]
  },
  {
   "cell_type": "code",
   "execution_count": null,
   "id": "f98ebb3f-7935-4674-b38e-c748a2f73857",
   "metadata": {},
   "outputs": [],
   "source": [
    "corr = np.corrcoef(pred_data_mean.T, target_data_mean.T, rowvar=False)\n",
    "corr.shape"
   ]
  },
  {
   "cell_type": "code",
   "execution_count": null,
   "id": "b021379c-c2b1-4941-946c-f9b1debc3fb4",
   "metadata": {},
   "outputs": [],
   "source": [
    "corr_pt = pd.DataFrame(corr[:int(corr.shape[0]/2),int(corr.shape[1]/2):], #corr[:12,12:],\n",
    "                       index=pred_data_mean.T.columns,#.map(lambda x:x+\"_pred\"),\n",
    "                       columns=target_data_mean.T.columns)#.map(lambda x:x+\"_target\"))"
   ]
  },
  {
   "cell_type": "code",
   "execution_count": null,
   "id": "e2158998-a8ba-4a90-8505-ba8b03e8fdc8",
   "metadata": {},
   "outputs": [],
   "source": [
    "corr_pt"
   ]
  },
  {
   "cell_type": "code",
   "execution_count": null,
   "id": "9a22f59a-609f-42fd-8097-a9cbc5bb3370",
   "metadata": {},
   "outputs": [],
   "source": [
    "np.mean(np.diagonal(corr_pt.to_numpy()))"
   ]
  },
  {
   "cell_type": "code",
   "execution_count": null,
   "id": "d11bdf75-4c30-4bac-840e-d2130a973643",
   "metadata": {},
   "outputs": [],
   "source": [
    "import seaborn as sns\n",
    "g2 = sns.clustermap(corr_pt, cmap='viridis',\n",
    "               #col_colors=anno_color[[\"colors_lineage\"]],\n",
    "               #row_colors=anno_color[[\"colors_lineage\"]],\n",
    "               row_cluster=False, \n",
    "               col_cluster=False, \n",
    "#                standard_scale=1,\n",
    "               z_score=1,\n",
    "               vmin=0, vmax=1\n",
    "              )\n",
    "g2.savefig(\"./PTheatmap_pred-targ.pdf\")"
   ]
  },
  {
   "cell_type": "code",
   "execution_count": null,
   "id": "073e6de2-1f86-4da1-992d-ca9b2cae176f",
   "metadata": {},
   "outputs": [],
   "source": [
    "color = (\"#CB99CC\",  \"#ED6245\", \"#6D6CF5\", \"#CCCD67\",  \"#FCE28D\", \"#E9F297\"  , \"#BEE6A0\",   \"#2D9687\",   \"#3288BD\",\"#83D4D8\")\n",
    "regions = (\"Endothelial\", \"Epithelial\", \"Erythroid\" , \"Hepatocyte\", \"Immune\",\"Muscle\",\"Neural\",\"Secretory\",\"Stromal\",'Reproductive')\n",
    "color_regions = {x:y for x,y in zip(regions, color)}\n",
    "color_regions"
   ]
  },
  {
   "cell_type": "code",
   "execution_count": null,
   "id": "31fc3bfd-3595-4c4c-a48e-cf0c0fd12bd3",
   "metadata": {},
   "outputs": [],
   "source": [
    "anno_color = anno\n",
    "anno_color[\"colors_lineage\"] = anno_color[['lineage']].applymap(lambda x: color_regions[x])\n",
    "anno_color"
   ]
  },
  {
   "cell_type": "code",
   "execution_count": null,
   "id": "ca201e8d-caa4-476f-b658-2681f538fc83",
   "metadata": {},
   "outputs": [],
   "source": [
    "celltype_anno = anno_color[[\"id\", \"lineage\", \"colors_lineage\"]].drop_duplicates().set_index([\"id\"]).loc[np.unique(anno.id.values)].colors_lineage\n",
    "celltype_anno"
   ]
  },
  {
   "cell_type": "code",
   "execution_count": null,
   "id": "af6b64d7-b024-47e5-b7e3-ffe9edacc097",
   "metadata": {},
   "outputs": [],
   "source": [
    "lut = {cluster:color_regions.get(cluster) for cluster in anno_color.lineage.unique()}\n",
    "lut"
   ]
  },
  {
   "cell_type": "code",
   "execution_count": null,
   "id": "e18dd045-8457-4bd4-9358-1456e461b142",
   "metadata": {},
   "outputs": [],
   "source": [
    "import seaborn as sns\n",
    "import matplotlib.pyplot as plt\n",
    "from matplotlib.patches import Patch"
   ]
  },
  {
   "cell_type": "code",
   "execution_count": null,
   "id": "7bf0e3c6-34c4-4286-8486-0f59e87fa60a",
   "metadata": {},
   "outputs": [],
   "source": []
  },
  {
   "cell_type": "code",
   "execution_count": null,
   "id": "573a3acc-61a0-4802-ab19-ef620d64a371",
   "metadata": {},
   "outputs": [],
   "source": [
    "output_fname='./PTheatmap_pred-targ_legend_zf.pdf'\n",
    "plt.figure(figsize=(25,25))\n",
    "g= sns.clustermap(corr_pt, cmap='viridis',\n",
    "               #col_colors=anno_color[[\"colors_lineage\"]],\n",
    "               #row_colors=anno_color[[\"colors_lineage\"]],\n",
    "               row_cluster=False, \n",
    "               col_cluster=False, \n",
    "#                standard_scale=1,\n",
    "               z_score=1,\n",
    "               vmin=0, vmax=1,col_colors=celltype_anno,row_colors=celltype_anno,colors_ratio=0.02\n",
    "              )\n",
    "\n",
    "handles = [Patch(facecolor=lut[name]) for name in lut]\n",
    "plt.legend(handles, lut, title='CellLieange',\n",
    "               bbox_to_anchor=(0.15, 0.75), bbox_transform=plt.gcf().transFigure, loc='upper right')\n",
    "\n",
    "plt.savefig(output_fname)\n",
    "plt.show()\n",
    "plt.close()"
   ]
  },
  {
   "cell_type": "code",
   "execution_count": null,
   "id": "41101ccd-725e-4058-8ae2-0c5e981ca86a",
   "metadata": {},
   "outputs": [],
   "source": []
  }
 ],
 "metadata": {
  "kernelspec": {
   "display_name": "scvi",
   "language": "python",
   "name": "scvi"
  },
  "language_info": {
   "codemirror_mode": {
    "name": "ipython",
    "version": 3
   },
   "file_extension": ".py",
   "mimetype": "text/x-python",
   "name": "python",
   "nbconvert_exporter": "python",
   "pygments_lexer": "ipython3",
   "version": "3.9.16"
  }
 },
 "nbformat": 4,
 "nbformat_minor": 5
}
