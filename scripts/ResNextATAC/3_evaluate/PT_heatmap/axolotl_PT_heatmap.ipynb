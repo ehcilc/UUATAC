{
 "cells": [
  {
   "cell_type": "code",
   "execution_count": null,
   "id": "c7335c3c-742a-445a-8881-f9f058e0acd7",
   "metadata": {},
   "outputs": [],
   "source": [
    "import sys\n",
    "sys.path.append(\"/software/path/prefix/NvTK/\")\n",
    "import h5py, os, argparse, logging, time\n",
    "\n",
    "import numpy as np\n",
    "import pandas as pd\n",
    "\n",
    "import torch\n",
    "from torch import nn\n",
    "from torch.optim import Adam\n",
    "from torch.utils.data import DataLoader\n",
    "\n",
    "import NvTK\n",
    "from NvTK import Trainer\n",
    "from NvTK.Evaluator import calculate_correlation, calculate_pr, calculate_roc\n",
    "from NvTK.Explainer import get_activate_W, meme_generate, save_activate_seqlets, calc_frequency_W\n",
    "\n",
    "import matplotlib.pyplot as plt\n",
    "from NvTK.Explainer import seq_logo, plot_seq_logo\n",
    "\n",
    "#from NvTK import resnet18\n",
    "from NvTK.Modules import BasicPredictor\n",
    "# set_all_random_seed\n",
    "NvTK.set_random_seed()\n",
    "NvTK.set_torch_seed()\n",
    "NvTK.set_torch_benchmark()\n",
    "device = torch.device(\"cuda\" if torch.cuda.is_available() else \"cpu\")\n",
    "\n",
    "sys.path.append(\"/file/path/prefix/\")\n",
    "n_tasks=50025 #cell num\n",
    "from ResNeXt_conv1_128_btnk_2dense import *\n",
    "model = resnext34(num_classes = n_tasks)\n",
    "\n",
    "# define criterion\n",
    "criterion = nn.BCELoss().to(device)\n",
    "\n",
    "# define optimizer\n",
    "optimizer = Adam(model.parameters(), lr=1e-3, betas=(0.9, 0.999), eps=1e-08, weight_decay=0,)\n",
    "\n",
    "# define trainer\n",
    "trainer = Trainer(model, criterion, optimizer, device, \n",
    "                    patience=10, tasktype='binary_classification', metric_sample=100,\n",
    "                    use_tensorbord=False)\n",
    "## reload best model\n",
    "model = trainer.load_best_model('./Log/best_model.pth')\n",
    "model.eval()"
   ]
  },
  {
   "cell_type": "code",
   "execution_count": null,
   "id": "b7ef505e-c4b6-4851-b9a8-ee9ed9a3e8eb",
   "metadata": {},
   "outputs": [],
   "source": [
    "# unpack h5file\n",
    "h5file = h5py.File('/file/path/prefix/Axolotl_5wCells_8wPeaks_4wnegative.shuffled.noimpute.500bp.20230904.h5', 'r')\n",
    "X = h5file[\"pmat\"][\"X\"][:].swapaxes(-1,1).astype(np.float32)\n",
    "peak_idx = h5file['pmat']['pmat_sc']['i'][:]\n",
    "cell_idx = h5file['pmat']['pmat_sc']['j'][:]\n",
    "x = h5file['pmat']['pmat_sc']['x'][:]\n",
    "dim = h5file['pmat']['pmat_sc']['dim'][:]\n",
    "y = np.zeros((dim[0], dim[1]), dtype = np.float32)\n",
    "y[peak_idx, cell_idx] = x\n",
    "features = h5file[\"pmat\"][\"peak\"][:]\n",
    "h5file.close()\n",
    "\n",
    "\n",
    "\n",
    "# unpack anno\n",
    "n_tasks = y.shape[-1]\n",
    "mask = features[:,-1].astype(str)\n",
    "train_idx, val_idx, test_idx = mask=='train', mask=='val', mask=='test'\n",
    "x_train, x_val, x_test = X[train_idx], X[val_idx], X[test_idx]\n",
    "y_train, y_val, y_test = y[train_idx], y[val_idx], y[test_idx]\n",
    "# np.sum(train_idx), np.sum(val_idx), np.sum(test_idx)\n",
    "\n",
    "\n",
    "# define data loader\n",
    "batch_size =100\n",
    "train_loader = DataLoader(list(zip(x_train, y_train)), batch_size=batch_size,\n",
    "                            shuffle=True, num_workers=0, drop_last=False, pin_memory=True)\n",
    "validate_loader = DataLoader(list(zip(x_val, y_val)), batch_size=batch_size, \n",
    "                            shuffle=False, num_workers=0, drop_last=False, pin_memory=True)\n",
    "test_loader = DataLoader(list(zip(x_test, y_test)), batch_size=batch_size, \n",
    "                            shuffle=False, num_workers=0, drop_last=False, pin_memory=True)"
   ]
  },
  {
   "cell_type": "code",
   "execution_count": null,
   "id": "7b0129c4-1763-4ef5-a51e-295113b0d1fe",
   "metadata": {},
   "outputs": [],
   "source": [
    "test_loader"
   ]
  },
  {
   "cell_type": "code",
   "execution_count": null,
   "id": "709c83e6-8c02-4d80-b582-5118b4724b47",
   "metadata": {},
   "outputs": [],
   "source": [
    "_, _, test_predictions, test_targets = trainer.predict(test_loader)"
   ]
  },
  {
   "cell_type": "code",
   "execution_count": null,
   "id": "53a1418f-23bd-4581-8ce4-378ce4ffb1e7",
   "metadata": {},
   "outputs": [],
   "source": [
    "test_predictions.shape"
   ]
  },
  {
   "cell_type": "code",
   "execution_count": null,
   "id": "7b3e072b-f0a4-439f-869a-5ac1e085760a",
   "metadata": {},
   "outputs": [],
   "source": [
    "test_targets.shape"
   ]
  },
  {
   "cell_type": "code",
   "execution_count": null,
   "id": "4e405d51-91b8-4b87-a0b1-1cbb4fda1316",
   "metadata": {},
   "outputs": [],
   "source": [
    "import pandas as pd\n",
    "anno = pd.read_table('./Axolotl_anno_5w.txt')\n",
    "anno"
   ]
  },
  {
   "cell_type": "code",
   "execution_count": null,
   "id": "0610de05-033a-45c4-b183-8faf8c0304d1",
   "metadata": {},
   "outputs": [],
   "source": [
    "pd.value_counts(anno.id)"
   ]
  },
  {
   "cell_type": "code",
   "execution_count": null,
   "id": "d50083d6-b789-449c-bbb4-4bf3dfef66ef",
   "metadata": {},
   "outputs": [],
   "source": [
    "pred_data=pd.DataFrame(test_predictions).T\n",
    "pred_data['subcluster'] = anno['id'].values\n",
    "pred_data_mean = pred_data.groupby(['subcluster']).mean()\n",
    "pred_data_mean"
   ]
  },
  {
   "cell_type": "code",
   "execution_count": null,
   "id": "e81a1052-14f0-490c-977a-7d023ea2ce74",
   "metadata": {},
   "outputs": [],
   "source": [
    "target_data=pd.DataFrame(test_targets).T\n",
    "target_data['subcluster'] = anno['id'].values\n",
    "target_data_mean = target_data.groupby(['subcluster']).mean()\n",
    "target_data_mean"
   ]
  },
  {
   "cell_type": "code",
   "execution_count": null,
   "id": "86a17cdb-fe91-40a3-ba91-9662f01f5142",
   "metadata": {},
   "outputs": [],
   "source": [
    "corr = np.corrcoef(pred_data_mean.T, target_data_mean.T, rowvar=False)\n",
    "corr.shape"
   ]
  },
  {
   "cell_type": "code",
   "execution_count": null,
   "id": "f245e237-0f69-47bf-8308-9f44f4ddde55",
   "metadata": {},
   "outputs": [],
   "source": [
    "corr_pt = pd.DataFrame(corr[:int(corr.shape[0]/2),int(corr.shape[1]/2):], #corr[:12,12:],\n",
    "                       index=pred_data_mean.T.columns,#.map(lambda x:x+\"_pred\"),\n",
    "                       columns=target_data_mean.T.columns)#.map(lambda x:x+\"_target\"))"
   ]
  },
  {
   "cell_type": "code",
   "execution_count": null,
   "id": "8c03db82-e55c-4ccd-af3d-433dfea041a2",
   "metadata": {},
   "outputs": [],
   "source": [
    "corr_pt"
   ]
  },
  {
   "cell_type": "code",
   "execution_count": null,
   "id": "c5b8710c-6aa4-4a9d-8f39-2b7d820b35ac",
   "metadata": {},
   "outputs": [],
   "source": [
    "np.mean(np.diagonal(corr_pt.to_numpy()))"
   ]
  },
  {
   "cell_type": "code",
   "execution_count": null,
   "id": "f1153358-6c70-41c2-b804-94d202d5c928",
   "metadata": {},
   "outputs": [],
   "source": [
    "import seaborn as sns\n",
    "g2 = sns.clustermap(corr_pt, cmap='viridis',\n",
    "               #col_colors=anno_color[[\"colors_lineage\"]],\n",
    "               #row_colors=anno_color[[\"colors_lineage\"]],\n",
    "               row_cluster=False, \n",
    "               col_cluster=False, \n",
    "#                standard_scale=1,\n",
    "               z_score=1,\n",
    "               vmin=0, vmax=1\n",
    "              )\n",
    "g2.savefig(\"./PTheatmap_pred-targ.pdf\")"
   ]
  },
  {
   "cell_type": "code",
   "execution_count": null,
   "id": "803fef50-6412-42a1-91c5-a434238dd780",
   "metadata": {},
   "outputs": [],
   "source": [
    "color = (\"#CB99CC\",  \"#ED6245\", \"#6D6CF5\", \"#CCCD67\",  \"#FCE28D\", \"#E9F297\"  , \"#BEE6A0\",   \"#2D9687\",   \"#3288BD\",\"#83D4D8\")\n",
    "regions = (\"Endothelial\", \"Epithelial\", \"Erythroid\" , \"Hepatocyte\", \"Immune\",\"Muscle\",\"Neural\",\"Secretory\",\"Stromal\",'Reproductive')\n",
    "color_regions = {x:y for x,y in zip(regions, color)}\n",
    "color_regions"
   ]
  },
  {
   "cell_type": "code",
   "execution_count": null,
   "id": "d1ea8d3b-87a7-40f7-94a3-f0803ea5e885",
   "metadata": {},
   "outputs": [],
   "source": [
    "anno_color = anno\n",
    "anno_color[\"colors_lineage\"] = anno_color[['lineage']].applymap(lambda x: color_regions[x])\n",
    "anno_color"
   ]
  },
  {
   "cell_type": "code",
   "execution_count": null,
   "id": "63d9c8b5-9d7f-4c53-b6ed-a17db1636397",
   "metadata": {},
   "outputs": [],
   "source": [
    "celltype_anno = anno_color[[\"id\", \"lineage\", \"colors_lineage\"]].drop_duplicates().set_index([\"id\"]).loc[np.unique(anno.id.values)].colors_lineage\n",
    "celltype_anno"
   ]
  },
  {
   "cell_type": "code",
   "execution_count": null,
   "id": "60442646-6fe3-428f-8345-2dd5bb71ca35",
   "metadata": {},
   "outputs": [],
   "source": [
    "lut = {cluster:color_regions.get(cluster) for cluster in anno_color.lineage.unique()}\n",
    "lut"
   ]
  },
  {
   "cell_type": "code",
   "execution_count": null,
   "id": "92c7516c-c788-4107-92d2-6b5cfdb15d46",
   "metadata": {},
   "outputs": [],
   "source": [
    "import seaborn as sns\n",
    "import matplotlib.pyplot as plt\n",
    "from matplotlib.patches import Patch"
   ]
  },
  {
   "cell_type": "code",
   "execution_count": null,
   "id": "90ad257e-8962-4bc8-ae04-c36433897284",
   "metadata": {},
   "outputs": [],
   "source": [
    "output_fname='./PTheatmap_pred-targ_legend_ax.pdf'\n",
    "plt.figure(figsize=(25,25))\n",
    "g= sns.clustermap(corr_pt, cmap='viridis',\n",
    "               #col_colors=anno_color[[\"colors_lineage\"]],\n",
    "               #row_colors=anno_color[[\"colors_lineage\"]],\n",
    "               row_cluster=False, \n",
    "               col_cluster=False, \n",
    "#                standard_scale=1,\n",
    "               z_score=1,\n",
    "               vmin=0, vmax=1,col_colors=celltype_anno,row_colors=celltype_anno,colors_ratio=0.02\n",
    "              )\n",
    "\n",
    "handles = [Patch(facecolor=lut[name]) for name in lut]\n",
    "plt.legend(handles, lut, title='CellLieange',\n",
    "               bbox_to_anchor=(0.15, 0.75), bbox_transform=plt.gcf().transFigure, loc='upper right')\n",
    "\n",
    "plt.savefig(output_fname)\n",
    "plt.show()\n",
    "plt.close()"
   ]
  }
 ],
 "metadata": {
  "kernelspec": {
   "display_name": "scvi",
   "language": "python",
   "name": "scvi"
  },
  "language_info": {
   "codemirror_mode": {
    "name": "ipython",
    "version": 3
   },
   "file_extension": ".py",
   "mimetype": "text/x-python",
   "name": "python",
   "nbconvert_exporter": "python",
   "pygments_lexer": "ipython3",
   "version": "3.9.16"
  }
 },
 "nbformat": 4,
 "nbformat_minor": 5
}
