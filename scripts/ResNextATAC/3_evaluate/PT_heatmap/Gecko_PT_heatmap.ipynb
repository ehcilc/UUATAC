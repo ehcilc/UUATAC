{
 "cells": [
  {
   "cell_type": "code",
   "execution_count": null,
   "id": "a56f0733-8816-43e7-a680-972bafccb9f9",
   "metadata": {},
   "outputs": [],
   "source": [
    "import sys\n",
    "sys.path.append(\"/software/path/prefix/NvTK/\")\n",
    "import h5py, os, argparse, logging, time\n",
    "\n",
    "import numpy as np\n",
    "import pandas as pd\n",
    "\n",
    "import torch\n",
    "from torch import nn\n",
    "from torch.optim import Adam\n",
    "from torch.utils.data import DataLoader\n",
    "\n",
    "import NvTK\n",
    "from NvTK import Trainer\n",
    "from NvTK.Evaluator import calculate_correlation, calculate_pr, calculate_roc\n",
    "from NvTK.Explainer import get_activate_W, meme_generate, save_activate_seqlets, calc_frequency_W\n",
    "\n",
    "import matplotlib.pyplot as plt\n",
    "from NvTK.Explainer import seq_logo, plot_seq_logo\n",
    "\n",
    "#from NvTK import resnet18\n",
    "from NvTK.Modules import BasicPredictor\n",
    "# set_all_random_seed\n",
    "NvTK.set_random_seed()\n",
    "NvTK.set_torch_seed()\n",
    "NvTK.set_torch_benchmark()\n",
    "device = torch.device(\"cuda\" if torch.cuda.is_available() else \"cpu\")\n",
    "\n",
    "sys.path.append(\"/file/path/prefix/\")\n",
    "n_tasks=50029 #cell num\n",
    "from ResNeXt_conv1_128_btnk_2dense import *\n",
    "model = resnext34(num_classes = n_tasks)\n",
    "\n",
    "# define criterion\n",
    "criterion = nn.BCELoss().to(device)\n",
    "\n",
    "# define optimizer\n",
    "optimizer = Adam(model.parameters(), lr=1e-3, betas=(0.9, 0.999), eps=1e-08, weight_decay=0,)\n",
    "\n",
    "# define trainer\n",
    "trainer = Trainer(model, criterion, optimizer, device, \n",
    "                    patience=10, tasktype='binary_classification', metric_sample=100,\n",
    "                    use_tensorbord=False)\n",
    "## reload best model\n",
    "model = trainer.load_best_model('./Log/best_model.pth')\n",
    "model.eval()"
   ]
  },
  {
   "cell_type": "code",
   "execution_count": null,
   "id": "275cc40a-0f04-4914-b1f3-6319846910ab",
   "metadata": {},
   "outputs": [],
   "source": [
    "# unpack h5file\n",
    "h5file = h5py.File('/file/path/prefix/Gecko_5wCells_13wPeaks_6wnegative.shuffled.noimpute.500bp.20230901.h5', 'r')\n",
    "X = h5file[\"pmat\"][\"X\"][:].swapaxes(-1,1).astype(np.float32)\n",
    "peak_idx = h5file['pmat']['pmat_sc']['i'][:]\n",
    "cell_idx = h5file['pmat']['pmat_sc']['j'][:]\n",
    "x = h5file['pmat']['pmat_sc']['x'][:]\n",
    "dim = h5file['pmat']['pmat_sc']['dim'][:]\n",
    "y = np.zeros((dim[0], dim[1]), dtype = np.float32)\n",
    "y[peak_idx, cell_idx] = x\n",
    "features = h5file[\"pmat\"][\"peak\"][:]\n",
    "h5file.close()\n",
    "\n",
    "\n",
    "\n",
    "# unpack anno\n",
    "n_tasks = y.shape[-1]\n",
    "mask = features[:,-1].astype(str)\n",
    "train_idx, val_idx, test_idx = mask=='train', mask=='val', mask=='test'\n",
    "x_train, x_val, x_test = X[train_idx], X[val_idx], X[test_idx]\n",
    "y_train, y_val, y_test = y[train_idx], y[val_idx], y[test_idx]\n",
    "# np.sum(train_idx), np.sum(val_idx), np.sum(test_idx)\n",
    "\n",
    "\n",
    "# define data loader\n",
    "batch_size =100\n",
    "train_loader = DataLoader(list(zip(x_train, y_train)), batch_size=batch_size,\n",
    "                            shuffle=True, num_workers=0, drop_last=False, pin_memory=True)\n",
    "validate_loader = DataLoader(list(zip(x_val, y_val)), batch_size=batch_size, \n",
    "                            shuffle=False, num_workers=0, drop_last=False, pin_memory=True)\n",
    "test_loader = DataLoader(list(zip(x_test, y_test)), batch_size=batch_size, \n",
    "                            shuffle=False, num_workers=0, drop_last=False, pin_memory=True)"
   ]
  },
  {
   "cell_type": "code",
   "execution_count": null,
   "id": "8b09f354-6812-42f2-802f-77d08f86e512",
   "metadata": {},
   "outputs": [],
   "source": [
    "test_loader"
   ]
  },
  {
   "cell_type": "code",
   "execution_count": null,
   "id": "10871a4d-28b7-4604-99e0-2cdae15cbc50",
   "metadata": {},
   "outputs": [],
   "source": [
    "_, _, test_predictions, test_targets = trainer.predict(test_loader)"
   ]
  },
  {
   "cell_type": "code",
   "execution_count": null,
   "id": "68336efc-aa93-47d2-8b03-b392f8765227",
   "metadata": {},
   "outputs": [],
   "source": [
    "test_predictions.shape"
   ]
  },
  {
   "cell_type": "code",
   "execution_count": null,
   "id": "df4d689a-68a1-49dc-9770-a507e6e297ca",
   "metadata": {},
   "outputs": [],
   "source": [
    "test_targets.shape"
   ]
  },
  {
   "cell_type": "code",
   "execution_count": null,
   "id": "04f88c9e-596b-47d2-b72b-6112fa51f603",
   "metadata": {},
   "outputs": [],
   "source": [
    "import pandas as pd\n",
    "anno = pd.read_table('./Gecko_anno_5w.txt')\n",
    "anno"
   ]
  },
  {
   "cell_type": "code",
   "execution_count": null,
   "id": "1ed322d2-8197-41db-8fbf-7915975c20e9",
   "metadata": {},
   "outputs": [],
   "source": [
    "pd.value_counts(anno.id)"
   ]
  },
  {
   "cell_type": "code",
   "execution_count": null,
   "id": "47329f4a-c249-45c1-95aa-f19c00c694ff",
   "metadata": {},
   "outputs": [],
   "source": [
    "pred_data=pd.DataFrame(test_predictions).T\n",
    "pred_data['subcluster'] = anno['id'].values\n",
    "pred_data_mean = pred_data.groupby(['subcluster']).mean()\n",
    "pred_data_mean"
   ]
  },
  {
   "cell_type": "code",
   "execution_count": null,
   "id": "5d162378-77fa-446c-aef4-f94c6ba3fed1",
   "metadata": {},
   "outputs": [],
   "source": [
    "target_data=pd.DataFrame(test_targets).T\n",
    "target_data['subcluster'] = anno['id'].values\n",
    "target_data_mean = target_data.groupby(['subcluster']).mean()\n",
    "target_data_mean"
   ]
  },
  {
   "cell_type": "code",
   "execution_count": null,
   "id": "b533f40d-e7e0-45f5-8d3d-b12ca6bc80d8",
   "metadata": {},
   "outputs": [],
   "source": [
    "corr = np.corrcoef(pred_data_mean.T, target_data_mean.T, rowvar=False)\n",
    "corr.shape"
   ]
  },
  {
   "cell_type": "code",
   "execution_count": null,
   "id": "a074a2a1-0e3c-40c4-8561-20f326fa0b16",
   "metadata": {},
   "outputs": [],
   "source": [
    "corr_pt = pd.DataFrame(corr[:int(corr.shape[0]/2),int(corr.shape[1]/2):], #corr[:12,12:],\n",
    "                       index=pred_data_mean.T.columns,#.map(lambda x:x+\"_pred\"),\n",
    "                       columns=target_data_mean.T.columns)#.map(lambda x:x+\"_target\"))"
   ]
  },
  {
   "cell_type": "code",
   "execution_count": null,
   "id": "a876a46e-76c6-41e2-a504-788d8b1fbc53",
   "metadata": {},
   "outputs": [],
   "source": [
    "corr_pt"
   ]
  },
  {
   "cell_type": "code",
   "execution_count": null,
   "id": "eef2db0d-9e2d-4c00-a9d7-30d683768c7d",
   "metadata": {},
   "outputs": [],
   "source": [
    "np.mean(np.diagonal(corr_pt.to_numpy()))"
   ]
  },
  {
   "cell_type": "code",
   "execution_count": null,
   "id": "5d9a8dcd-c9dd-4b6e-a52a-45b15ac81568",
   "metadata": {},
   "outputs": [],
   "source": [
    "import seaborn as sns\n",
    "g2 = sns.clustermap(corr_pt, cmap='viridis',\n",
    "               #col_colors=anno_color[[\"colors_lineage\"]],\n",
    "               #row_colors=anno_color[[\"colors_lineage\"]],\n",
    "               row_cluster=False, \n",
    "               col_cluster=False, \n",
    "#                standard_scale=1,\n",
    "               z_score=1,\n",
    "               vmin=0, vmax=1\n",
    "              )\n",
    "g2.savefig(\"./PTheatmap_pred-targ.pdf\")"
   ]
  },
  {
   "cell_type": "code",
   "execution_count": null,
   "id": "d3233779-a756-4b11-a398-0c47be81dad7",
   "metadata": {},
   "outputs": [],
   "source": [
    "color = (\"#CB99CC\",  \"#ED6245\", \"#6D6CF5\", \"#CCCD67\",  \"#FCE28D\", \"#E9F297\"  , \"#BEE6A0\",   \"#2D9687\",   \"#3288BD\",\"#83D4D8\")\n",
    "regions = (\"Endothelial\", \"Epithelial\", \"Erythroid\" , \"Hepatocyte\", \"Immune\",\"Muscle\",\"Neural\",\"Secretory\",\"Stromal\",'Reproductive')\n",
    "color_regions = {x:y for x,y in zip(regions, color)}\n",
    "color_regions"
   ]
  },
  {
   "cell_type": "code",
   "execution_count": null,
   "id": "495537ac-a438-4197-9426-35c8db951773",
   "metadata": {},
   "outputs": [],
   "source": [
    "anno_color = anno\n",
    "anno_color[\"colors_lineage\"] = anno_color[['lineage']].applymap(lambda x: color_regions[x])\n",
    "anno_color"
   ]
  },
  {
   "cell_type": "code",
   "execution_count": null,
   "id": "6c11d18b-a251-441e-b893-d65f59b3ae65",
   "metadata": {},
   "outputs": [],
   "source": [
    "celltype_anno = anno_color[[\"id\", \"lineage\", \"colors_lineage\"]].drop_duplicates().set_index([\"id\"]).loc[np.unique(anno.id.values)].colors_lineage\n",
    "celltype_anno"
   ]
  },
  {
   "cell_type": "code",
   "execution_count": null,
   "id": "809af28a-9907-4abb-b737-934834ce1df2",
   "metadata": {},
   "outputs": [],
   "source": [
    "lut = {cluster:color_regions.get(cluster) for cluster in anno_color.lineage.unique()}\n",
    "lut"
   ]
  },
  {
   "cell_type": "code",
   "execution_count": null,
   "id": "336f4f94-a98c-4756-aadd-9db86ecd39cb",
   "metadata": {},
   "outputs": [],
   "source": [
    "import seaborn as sns\n",
    "import matplotlib.pyplot as plt\n",
    "from matplotlib.patches import Patch"
   ]
  },
  {
   "cell_type": "code",
   "execution_count": null,
   "id": "45ed885f-4a8a-47e4-81f0-73632ba01928",
   "metadata": {},
   "outputs": [],
   "source": [
    "output_fname='./PTheatmap_pred-targ_legend_gecko.pdf'\n",
    "plt.figure(figsize=(25,25))\n",
    "g= sns.clustermap(corr_pt, cmap='viridis',\n",
    "               #col_colors=anno_color[[\"colors_lineage\"]],\n",
    "               #row_colors=anno_color[[\"colors_lineage\"]],\n",
    "               row_cluster=False, \n",
    "               col_cluster=False, \n",
    "#                standard_scale=1,\n",
    "               z_score=1,\n",
    "               vmin=0, vmax=1,col_colors=celltype_anno,row_colors=celltype_anno,colors_ratio=0.02\n",
    "              )\n",
    "\n",
    "handles = [Patch(facecolor=lut[name]) for name in lut]\n",
    "plt.legend(handles, lut, title='CellLieange',\n",
    "               bbox_to_anchor=(0.15, 0.75), bbox_transform=plt.gcf().transFigure, loc='upper right')\n",
    "\n",
    "plt.savefig(output_fname)\n",
    "plt.show()\n",
    "plt.close()"
   ]
  }
 ],
 "metadata": {
  "kernelspec": {
   "display_name": "scvi",
   "language": "python",
   "name": "scvi"
  },
  "language_info": {
   "codemirror_mode": {
    "name": "ipython",
    "version": 3
   },
   "file_extension": ".py",
   "mimetype": "text/x-python",
   "name": "python",
   "nbconvert_exporter": "python",
   "pygments_lexer": "ipython3",
   "version": "3.9.16"
  }
 },
 "nbformat": 4,
 "nbformat_minor": 5
}
