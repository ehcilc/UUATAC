{
 "cells": [
  {
   "cell_type": "code",
   "execution_count": null,
   "id": "752d9924-d5ef-4321-975b-1deea70709bb",
   "metadata": {},
   "outputs": [],
   "source": [
    "import sys\n",
    "sys.path.append(\"/software/path/prefix/NvTK/\")\n",
    "import h5py, os, argparse, logging, time\n",
    "\n",
    "import numpy as np\n",
    "import pandas as pd\n",
    "\n",
    "import torch\n",
    "from torch import nn\n",
    "from torch.optim import Adam\n",
    "from torch.utils.data import DataLoader\n",
    "\n",
    "import NvTK\n",
    "from NvTK import Trainer\n",
    "from NvTK.Evaluator import calculate_correlation, calculate_pr, calculate_roc\n",
    "from NvTK.Explainer import get_activate_W, meme_generate, save_activate_seqlets, calc_frequency_W\n",
    "\n",
    "import matplotlib.pyplot as plt\n",
    "from NvTK.Explainer import seq_logo, plot_seq_logo\n",
    "\n",
    "#from NvTK import resnet18\n",
    "from NvTK.Modules import BasicPredictor\n",
    "# set_all_random_seed\n",
    "NvTK.set_random_seed()\n",
    "NvTK.set_torch_seed()\n",
    "NvTK.set_torch_benchmark()\n",
    "device = torch.device(\"cuda\" if torch.cuda.is_available() else \"cpu\")\n",
    "\n",
    "sys.path.append(\"/file/path/prefix/\")\n",
    "n_tasks=50040 #cell num\n",
    "from ResNeXt_conv1_128_btnk_2dense import *\n",
    "model = resnext34(num_classes = n_tasks)\n",
    "\n",
    "# define criterion\n",
    "criterion = nn.BCELoss().to(device)\n",
    "\n",
    "# define optimizer\n",
    "optimizer = Adam(model.parameters(), lr=1e-3, betas=(0.9, 0.999), eps=1e-08, weight_decay=0,)\n",
    "\n",
    "# define trainer\n",
    "trainer = Trainer(model, criterion, optimizer, device, \n",
    "                    patience=10, tasktype='binary_classification', metric_sample=100,\n",
    "                    use_tensorbord=False)\n",
    "## reload best model\n",
    "model = trainer.load_best_model('./Log/best_model.pth')\n",
    "model.eval()"
   ]
  },
  {
   "cell_type": "code",
   "execution_count": null,
   "id": "b9db6fa7-9811-455c-b2e3-33d053f8579d",
   "metadata": {},
   "outputs": [],
   "source": [
    "# unpack h5file\n",
    "h5file = h5py.File('/file/path/prefix/Femalemus_5wCells_17wPeaks_8wnegative.shuffled.noimpute.500bp.20230822.h5', 'r')\n",
    "X = h5file[\"pmat\"][\"X\"][:].swapaxes(-1,1).astype(np.float32)\n",
    "peak_idx = h5file['pmat']['pmat_sc']['i'][:]\n",
    "cell_idx = h5file['pmat']['pmat_sc']['j'][:]\n",
    "x = h5file['pmat']['pmat_sc']['x'][:]\n",
    "dim = h5file['pmat']['pmat_sc']['dim'][:]\n",
    "y = np.zeros((dim[0], dim[1]), dtype = np.float32)\n",
    "y[peak_idx, cell_idx] = x\n",
    "features = h5file[\"pmat\"][\"peak\"][:]\n",
    "h5file.close()\n",
    "\n",
    "\n",
    "\n",
    "# unpack anno\n",
    "n_tasks = y.shape[-1]\n",
    "mask = features[:,-1].astype(str)\n",
    "train_idx, val_idx, test_idx = mask=='train', mask=='val', mask=='test'\n",
    "x_train, x_val, x_test = X[train_idx], X[val_idx], X[test_idx]\n",
    "y_train, y_val, y_test = y[train_idx], y[val_idx], y[test_idx]\n",
    "# np.sum(train_idx), np.sum(val_idx), np.sum(test_idx)\n",
    "\n",
    "\n",
    "# define data loader\n",
    "batch_size =100\n",
    "train_loader = DataLoader(list(zip(x_train, y_train)), batch_size=batch_size,\n",
    "                            shuffle=True, num_workers=0, drop_last=False, pin_memory=True)\n",
    "validate_loader = DataLoader(list(zip(x_val, y_val)), batch_size=batch_size, \n",
    "                            shuffle=False, num_workers=0, drop_last=False, pin_memory=True)\n",
    "test_loader = DataLoader(list(zip(x_test, y_test)), batch_size=batch_size, \n",
    "                            shuffle=False, num_workers=0, drop_last=False, pin_memory=True)"
   ]
  },
  {
   "cell_type": "code",
   "execution_count": null,
   "id": "10a27a19-141d-4bfa-81e0-a868c1ccd0ac",
   "metadata": {},
   "outputs": [],
   "source": [
    "test_loader"
   ]
  },
  {
   "cell_type": "code",
   "execution_count": null,
   "id": "63f7ccf1-0919-472e-99ff-179f9f80b89b",
   "metadata": {},
   "outputs": [],
   "source": [
    "_, _, test_predictions, test_targets = trainer.predict(test_loader)"
   ]
  },
  {
   "cell_type": "code",
   "execution_count": null,
   "id": "5a476ad1-825d-444e-8bb1-85d41c0d9059",
   "metadata": {},
   "outputs": [],
   "source": [
    "test_predictions.shape"
   ]
  },
  {
   "cell_type": "code",
   "execution_count": null,
   "id": "21ea7a44-0750-415a-8695-68630c8c31f8",
   "metadata": {},
   "outputs": [],
   "source": [
    "test_targets.shape"
   ]
  },
  {
   "cell_type": "code",
   "execution_count": null,
   "id": "cc7f1e43-5f50-4c48-8c0f-d84258fa857a",
   "metadata": {},
   "outputs": [],
   "source": [
    "import pandas as pd\n",
    "anno = pd.read_table('./Female_mus_anno_5w.txt')\n",
    "anno"
   ]
  },
  {
   "cell_type": "code",
   "execution_count": null,
   "id": "53cf5dd7-e67c-4ec3-993e-5a60b4b980fa",
   "metadata": {},
   "outputs": [],
   "source": [
    "pd.value_counts(anno.id)"
   ]
  },
  {
   "cell_type": "code",
   "execution_count": null,
   "id": "ed26065e-ebc3-44cc-8c4c-d8ced7012920",
   "metadata": {},
   "outputs": [],
   "source": [
    "pred_data=pd.DataFrame(test_predictions).T\n",
    "pred_data['subcluster'] = anno['id'].values\n",
    "pred_data_mean = pred_data.groupby(['subcluster']).mean()\n",
    "pred_data_mean"
   ]
  },
  {
   "cell_type": "code",
   "execution_count": null,
   "id": "67eb4ce2-c554-405b-8c2b-cba441e309e7",
   "metadata": {},
   "outputs": [],
   "source": [
    "target_data=pd.DataFrame(test_targets).T\n",
    "target_data['subcluster'] = anno['id'].values\n",
    "target_data_mean = target_data.groupby(['subcluster']).mean()\n",
    "target_data_mean"
   ]
  },
  {
   "cell_type": "code",
   "execution_count": null,
   "id": "d6edc741-4371-4947-abdf-10a55de94889",
   "metadata": {},
   "outputs": [],
   "source": [
    "corr = np.corrcoef(pred_data_mean.T, target_data_mean.T, rowvar=False)\n",
    "corr.shape"
   ]
  },
  {
   "cell_type": "code",
   "execution_count": null,
   "id": "bfa66d24-e809-4383-8dd7-b5d39e02589c",
   "metadata": {},
   "outputs": [],
   "source": [
    "corr_pt = pd.DataFrame(corr[:int(corr.shape[0]/2),int(corr.shape[1]/2):], #corr[:12,12:],\n",
    "                       index=pred_data_mean.T.columns,#.map(lambda x:x+\"_pred\"),\n",
    "                       columns=target_data_mean.T.columns)#.map(lambda x:x+\"_target\"))"
   ]
  },
  {
   "cell_type": "code",
   "execution_count": null,
   "id": "aa6b3249-24ec-4ba8-817c-73b93f6c922d",
   "metadata": {},
   "outputs": [],
   "source": [
    "corr_pt"
   ]
  },
  {
   "cell_type": "code",
   "execution_count": null,
   "id": "1e78eec6-88a5-444d-a862-f2fab64d069b",
   "metadata": {},
   "outputs": [],
   "source": [
    "np.mean(np.diagonal(corr_pt.to_numpy()))"
   ]
  },
  {
   "cell_type": "code",
   "execution_count": null,
   "id": "295b9d37-b250-4b0b-b9d7-3a93d93386c2",
   "metadata": {},
   "outputs": [],
   "source": [
    "import seaborn as sns\n",
    "g2 = sns.clustermap(corr_pt, cmap='viridis',\n",
    "               #col_colors=anno_color[[\"colors_lineage\"]],\n",
    "               #row_colors=anno_color[[\"colors_lineage\"]],\n",
    "               row_cluster=False, \n",
    "               col_cluster=False, \n",
    "#                standard_scale=1,\n",
    "               z_score=1,\n",
    "               vmin=0, vmax=1\n",
    "              )\n",
    "g2.savefig(\"./PTheatmap_pred-targ.pdf\")"
   ]
  },
  {
   "cell_type": "code",
   "execution_count": null,
   "id": "97591b5a-3481-4dcf-b595-f754afd9f2d8",
   "metadata": {},
   "outputs": [],
   "source": [
    "color = (\"#CB99CC\",  \"#ED6245\", \"#6D6CF5\", \"#CCCD67\",  \"#FCE28D\", \"#E9F297\"  , \"#BEE6A0\",   \"#2D9687\",   \"#3288BD\",\"#83D4D8\")\n",
    "regions = (\"Endothelial\", \"Epithelial\", \"Erythroid\" , \"Hepatocyte\", \"Immune\",\"Muscle\",\"Neural\",\"Secretory\",\"Stromal\",'Reproductive')\n",
    "color_regions = {x:y for x,y in zip(regions, color)}\n",
    "color_regions"
   ]
  },
  {
   "cell_type": "code",
   "execution_count": null,
   "id": "9a94aa55-564f-41da-838e-b7c235e28cd1",
   "metadata": {},
   "outputs": [],
   "source": [
    "anno_color = anno\n",
    "anno_color[\"colors_lineage\"] = anno_color[['lineage']].applymap(lambda x: color_regions[x])\n",
    "anno_color"
   ]
  },
  {
   "cell_type": "code",
   "execution_count": null,
   "id": "6f47a02b-9a66-4942-918e-e49e3e40fde1",
   "metadata": {},
   "outputs": [],
   "source": [
    "celltype_anno = anno_color[[\"id\", \"lineage\", \"colors_lineage\"]].drop_duplicates().set_index([\"id\"]).loc[np.unique(anno.id.values)].colors_lineage\n",
    "celltype_anno"
   ]
  },
  {
   "cell_type": "code",
   "execution_count": null,
   "id": "047d7424-3f3a-46f3-8c7b-36bf12ed7f02",
   "metadata": {},
   "outputs": [],
   "source": [
    "lut = {cluster:color_regions.get(cluster) for cluster in anno_color.lineage.unique()}\n",
    "lut"
   ]
  },
  {
   "cell_type": "code",
   "execution_count": null,
   "id": "bceeae05-2100-43a6-a698-dec3e2ea665a",
   "metadata": {},
   "outputs": [],
   "source": [
    "import seaborn as sns\n",
    "import matplotlib.pyplot as plt\n",
    "from matplotlib.patches import Patch"
   ]
  },
  {
   "cell_type": "code",
   "execution_count": null,
   "id": "baf4675f-8180-4210-a30a-e9434ae43f03",
   "metadata": {},
   "outputs": [],
   "source": [
    "output_fname='./PTheatmap_pred-targ_legend_1020.pdf'\n",
    "plt.figure(figsize=(25,25))\n",
    "g= sns.clustermap(corr_pt, cmap='viridis',\n",
    "               #col_colors=anno_color[[\"colors_lineage\"]],\n",
    "               #row_colors=anno_color[[\"colors_lineage\"]],\n",
    "               row_cluster=False, \n",
    "               col_cluster=False, \n",
    "#                standard_scale=1,\n",
    "               z_score=1,\n",
    "               vmin=0, vmax=1,col_colors=celltype_anno,row_colors=celltype_anno,colors_ratio=0.02\n",
    "              )\n",
    "\n",
    "handles = [Patch(facecolor=lut[name]) for name in lut]\n",
    "plt.legend(handles, lut, title='CellLieange',\n",
    "               bbox_to_anchor=(0.15, 0.75), bbox_transform=plt.gcf().transFigure, loc='upper right')\n",
    "\n",
    "plt.savefig(output_fname)\n",
    "plt.show()\n",
    "plt.close()"
   ]
  }
 ],
 "metadata": {
  "kernelspec": {
   "display_name": "scvi",
   "language": "python",
   "name": "scvi"
  },
  "language_info": {
   "codemirror_mode": {
    "name": "ipython",
    "version": 3
   },
   "file_extension": ".py",
   "mimetype": "text/x-python",
   "name": "python",
   "nbconvert_exporter": "python",
   "pygments_lexer": "ipython3",
   "version": "3.9.16"
  }
 },
 "nbformat": 4,
 "nbformat_minor": 5
}
