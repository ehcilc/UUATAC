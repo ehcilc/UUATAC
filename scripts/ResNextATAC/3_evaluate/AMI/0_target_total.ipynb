{
 "cells": [
  {
   "cell_type": "code",
   "execution_count": null,
   "id": "24e92f46-5889-42b3-8083-968440011187",
   "metadata": {},
   "outputs": [],
   "source": [
    "import h5py\n",
    "import pysam\n",
    "\n",
    "import numpy as np\n",
    "import pandas as pd\n",
    "from scipy.sparse import coo_matrix,csc_matrix\n",
    "\n",
    "import seaborn as sns\n",
    "import matplotlib.pyplot as plt\n",
    "import scanpy as sc\n",
    "import os\n",
    "import anndata"
   ]
  },
  {
   "cell_type": "code",
   "execution_count": null,
   "id": "55f51bd0-fc63-459a-932d-470147061e76",
   "metadata": {},
   "outputs": [],
   "source": [
    "# unpack h5file\n",
    "h5file = h5py.File('/file/path/prefix/Femalemus_5wCells_17wPeaks_8wnegative.shuffled.noimpute.500bp.20230822.h5', 'r')\n",
    "X = h5file[\"pmat\"][\"X\"][:].swapaxes(-1,1).astype(np.float32)\n",
    "peak_idx = h5file['pmat']['pmat_sc']['i'][:]\n",
    "cell_idx = h5file['pmat']['pmat_sc']['j'][:]\n",
    "x = h5file['pmat']['pmat_sc']['x'][:]\n",
    "dim = h5file['pmat']['pmat_sc']['dim'][:]\n",
    "y = np.zeros((dim[0], dim[1]), dtype = np.float32)\n",
    "y[peak_idx, cell_idx] = x\n",
    "features = h5file[\"pmat\"][\"peak\"][:]\n",
    "h5file.close()"
   ]
  },
  {
   "cell_type": "code",
   "execution_count": null,
   "id": "d8f9397c-528e-4ac2-9a8c-cd35658be432",
   "metadata": {},
   "outputs": [],
   "source": [
    "test_targets=y"
   ]
  },
  {
   "cell_type": "code",
   "execution_count": null,
   "id": "296bdfe3-ec30-4cb5-a69a-8ffd3a48f282",
   "metadata": {},
   "outputs": [],
   "source": [
    "import scipy.sparse\n",
    "from scipy import sparse\n",
    "test_targets=sparse.csr_matrix(test_targets)"
   ]
  },
  {
   "cell_type": "code",
   "execution_count": null,
   "id": "d39f3572-db3a-4496-8b36-5db8eeeb53b6",
   "metadata": {},
   "outputs": [],
   "source": [
    "from scipy.io import mmwrite\n",
    "mmwrite('/file/path/prefix/pmat_target_total.mtx',test_targets)"
   ]
  },
  {
   "cell_type": "code",
   "execution_count": null,
   "id": "73bdc39e-7980-4089-8082-3a85e9d62f94",
   "metadata": {},
   "outputs": [],
   "source": [
    "df=pd.DataFrame(features)\n",
    "df.to_csv('/file/path/prefix/peak_total.csv')"
   ]
  }
 ],
 "metadata": {
  "kernelspec": {
   "display_name": "scvi",
   "language": "python",
   "name": "scvi"
  },
  "language_info": {
   "codemirror_mode": {
    "name": "ipython",
    "version": 3
   },
   "file_extension": ".py",
   "mimetype": "text/x-python",
   "name": "python",
   "nbconvert_exporter": "python",
   "pygments_lexer": "ipython3",
   "version": "3.9.16"
  }
 },
 "nbformat": 4,
 "nbformat_minor": 5
}
