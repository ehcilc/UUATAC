{
 "cells": [
  {
   "cell_type": "code",
   "execution_count": null,
   "id": "dba370d1-fd9d-403f-963d-beafa05cd943",
   "metadata": {},
   "outputs": [],
   "source": [
    "import h5py\n",
    "import pysam\n",
    "\n",
    "import numpy as np\n",
    "import pandas as pd\n",
    "from scipy.sparse import coo_matrix,csc_matrix\n",
    "\n",
    "import seaborn as sns\n",
    "import matplotlib.pyplot as plt\n",
    "import scanpy as sc\n",
    "import os\n",
    "import anndata"
   ]
  },
  {
   "cell_type": "code",
   "execution_count": null,
   "id": "8020ecf4-9446-4ecb-b2d9-6472b22dac6a",
   "metadata": {},
   "outputs": [],
   "source": [
    "os.chdir('/file/path/prefix/')"
   ]
  },
  {
   "cell_type": "code",
   "execution_count": null,
   "id": "acdcd818-ce70-436a-9a95-d7dfad00671c",
   "metadata": {},
   "outputs": [],
   "source": [
    "#target"
   ]
  },
  {
   "cell_type": "code",
   "execution_count": null,
   "id": "227ad745-7481-4310-8c3a-2d279109101b",
   "metadata": {},
   "outputs": [],
   "source": [
    "mat = csc_matrix(arg1=(50040,2304))\n",
    "ad = sc.AnnData(mat)"
   ]
  },
  {
   "cell_type": "code",
   "execution_count": null,
   "id": "258c1b86-9aba-4d0a-9a11-5de876a30feb",
   "metadata": {},
   "outputs": [],
   "source": [
    "ad"
   ]
  },
  {
   "cell_type": "code",
   "execution_count": null,
   "id": "933ce96a-52db-438f-a546-bf83f588f617",
   "metadata": {},
   "outputs": [],
   "source": [
    "anno=pd.read_csv('./meta_target_total.csv')\n",
    "anno"
   ]
  },
  {
   "cell_type": "code",
   "execution_count": null,
   "id": "7dfc9833-7ac0-4af5-9dd4-3e3d6cd9e4ae",
   "metadata": {},
   "outputs": [],
   "source": [
    "ad.obs_names=anno.barcode.values"
   ]
  },
  {
   "cell_type": "code",
   "execution_count": null,
   "id": "2b2dbbbc-92ff-4810-a856-4aab8da84d9e",
   "metadata": {},
   "outputs": [],
   "source": [
    "ad.obs_names"
   ]
  },
  {
   "cell_type": "code",
   "execution_count": null,
   "id": "24ff21f5-cc46-4c27-be41-1e4912868edc",
   "metadata": {},
   "outputs": [],
   "source": [
    "tsne=pd.read_csv('./tsne_target_total.csv',index_col=0)\n",
    "tsne"
   ]
  },
  {
   "cell_type": "code",
   "execution_count": null,
   "id": "9aaf8c9b-8a03-4e50-8a65-437d37901566",
   "metadata": {},
   "outputs": [],
   "source": [
    "tsne1=tsne.loc[anno.barcode.values,]"
   ]
  },
  {
   "cell_type": "code",
   "execution_count": null,
   "id": "db1f1fbc-2672-4f9e-8dfe-7087b70a5df0",
   "metadata": {},
   "outputs": [],
   "source": [
    "ad.obsm['X_tsne'] = np.array(tsne1)"
   ]
  },
  {
   "cell_type": "code",
   "execution_count": null,
   "id": "e917634c-d1e6-42e9-961d-14df38d90c35",
   "metadata": {},
   "outputs": [],
   "source": [
    "cluster=pd.read_csv('./meta_cluster_target_total.csv')\n",
    "cluster"
   ]
  },
  {
   "cell_type": "code",
   "execution_count": null,
   "id": "fe5d91c6-57b0-4f48-9c38-8c1f1e69bca7",
   "metadata": {},
   "outputs": [],
   "source": [
    "ad.obs['cluster'] = cluster.seurat_clusters.values.astype(str)"
   ]
  },
  {
   "cell_type": "code",
   "execution_count": null,
   "id": "f2e1692e-cdc6-463c-b35a-cf8f3dc8a144",
   "metadata": {},
   "outputs": [],
   "source": [
    "sc.settings.verbosity = 3\n",
    "sc.settings.set_figure_params(dpi=300, facecolor='white')"
   ]
  },
  {
   "cell_type": "code",
   "execution_count": null,
   "id": "0af9b9e8-fe61-4a67-8524-321051358844",
   "metadata": {},
   "outputs": [],
   "source": [
    "col=pd.read_csv('color.csv')"
   ]
  },
  {
   "cell_type": "code",
   "execution_count": null,
   "id": "fc40a261-8b48-4520-a946-e0e32b306845",
   "metadata": {},
   "outputs": [],
   "source": [
    "sc.pl.tsne(ad, color=['cluster'],legend_loc='on data',legend_fontsize=4,palette=list(col['col'].values),save='_target')"
   ]
  },
  {
   "cell_type": "code",
   "execution_count": null,
   "id": "4c53927b-e2d0-4baa-9281-e3d025700dd3",
   "metadata": {},
   "outputs": [],
   "source": [
    "#pred"
   ]
  },
  {
   "cell_type": "code",
   "execution_count": null,
   "id": "72234068-4105-4b3c-9834-6a2a87f3e481",
   "metadata": {},
   "outputs": [],
   "source": [
    "mat = csc_matrix(arg1=(50040,2304))\n",
    "ad1 = sc.AnnData(mat)"
   ]
  },
  {
   "cell_type": "code",
   "execution_count": null,
   "id": "122afb72-472f-44e8-9b31-dc31dcd4a7de",
   "metadata": {},
   "outputs": [],
   "source": [
    "anno=pd.read_csv('./meta_pred_total.csv')\n",
    "anno"
   ]
  },
  {
   "cell_type": "code",
   "execution_count": null,
   "id": "139db213-d1b1-41a7-af49-46cc364239c1",
   "metadata": {},
   "outputs": [],
   "source": [
    "ad1.obs_names=anno.barcode.values"
   ]
  },
  {
   "cell_type": "code",
   "execution_count": null,
   "id": "dd432cd0-e1fe-4480-a93d-bb31ca30ed10",
   "metadata": {},
   "outputs": [],
   "source": [
    "tsne=pd.read_csv('./tsne_pred_total.csv',index_col=0)\n",
    "tsne"
   ]
  },
  {
   "cell_type": "code",
   "execution_count": null,
   "id": "b9857687-e552-4fe3-b1ea-dbfc32aad963",
   "metadata": {},
   "outputs": [],
   "source": [
    "tsne1=tsne.loc[anno.barcode.values,]"
   ]
  },
  {
   "cell_type": "code",
   "execution_count": null,
   "id": "0bfb3ff1-69b5-45d5-ad4b-07091108e59f",
   "metadata": {},
   "outputs": [],
   "source": [
    "ad1.obsm['X_tsne'] = np.array(tsne1)"
   ]
  },
  {
   "cell_type": "code",
   "execution_count": null,
   "id": "c07e539f-dc29-4f20-85a6-13e3ba43257f",
   "metadata": {},
   "outputs": [],
   "source": [
    "cluster=pd.read_csv('./meta_cluster_pred_total.csv')\n",
    "cluster"
   ]
  },
  {
   "cell_type": "code",
   "execution_count": null,
   "id": "c5ad9879-5f70-4274-a071-9a248ff60327",
   "metadata": {},
   "outputs": [],
   "source": [
    "ad1.obs['cluster'] = cluster.seurat_clusters.values.astype(str)"
   ]
  },
  {
   "cell_type": "code",
   "execution_count": null,
   "id": "f413a5c7-e2f2-4398-8d77-75331c0d03a4",
   "metadata": {},
   "outputs": [],
   "source": [
    "sc.pl.tsne(ad1, color=['cluster'],legend_loc='on data',legend_fontsize=4,palette=list(col['col'].values),save='_pred')"
   ]
  },
  {
   "cell_type": "code",
   "execution_count": null,
   "id": "5278f8e7-6988-4dcd-adfc-d13baa4d20c8",
   "metadata": {},
   "outputs": [],
   "source": [
    "#ami"
   ]
  },
  {
   "cell_type": "code",
   "execution_count": null,
   "id": "f88c9e29-5db8-413d-a90d-904e6df24c20",
   "metadata": {},
   "outputs": [],
   "source": [
    "import sklearn.metrics"
   ]
  },
  {
   "cell_type": "code",
   "execution_count": null,
   "id": "78c92922-6df0-423d-adcc-1244179288bd",
   "metadata": {},
   "outputs": [],
   "source": [
    "ami=sklearn.metrics.adjusted_mutual_info_score(ad.obs['cluster'].values.astype(str),ad1.obs['cluster'].values.astype(str))\n",
    "ami"
   ]
  }
 ],
 "metadata": {
  "kernelspec": {
   "display_name": "Python 3 (ipykernel)",
   "language": "python",
   "name": "python3"
  },
  "language_info": {
   "codemirror_mode": {
    "name": "ipython",
    "version": 3
   },
   "file_extension": ".py",
   "mimetype": "text/x-python",
   "name": "python",
   "nbconvert_exporter": "python",
   "pygments_lexer": "ipython3",
   "version": "3.9.12"
  }
 },
 "nbformat": 4,
 "nbformat_minor": 5
}
