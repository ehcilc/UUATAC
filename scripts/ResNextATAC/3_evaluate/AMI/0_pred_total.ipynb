{
 "cells": [
  {
   "cell_type": "code",
   "execution_count": null,
   "id": "bc33a636-7745-4295-ba7b-e9487711d882",
   "metadata": {},
   "outputs": [],
   "source": [
    "#create new model (input:onehot-seq;output:peak represent)"
   ]
  },
  {
   "cell_type": "code",
   "execution_count": null,
   "id": "650f296d-7d8f-4189-9521-77febf4f15ae",
   "metadata": {},
   "outputs": [],
   "source": [
    "import sys\n",
    "sys.path.append('/software/path/prefix')"
   ]
  },
  {
   "cell_type": "code",
   "execution_count": null,
   "id": "d2f245ec-8bca-4b31-b179-c162d5c58651",
   "metadata": {},
   "outputs": [],
   "source": [
    "from ResNeXt_modified import *"
   ]
  },
  {
   "cell_type": "code",
   "execution_count": null,
   "id": "0058029a-144d-4cbf-b735-06c2860d3f1f",
   "metadata": {},
   "outputs": [],
   "source": [
    "model_new = resnext34()"
   ]
  },
  {
   "cell_type": "code",
   "execution_count": null,
   "id": "d9a2f651-0500-4da9-8451-7459764f92e4",
   "metadata": {},
   "outputs": [],
   "source": [
    "model_new"
   ]
  },
  {
   "cell_type": "code",
   "execution_count": null,
   "id": "98eccaa4-33dc-4472-ac3c-63f2cfb669d1",
   "metadata": {},
   "outputs": [],
   "source": [
    "import h5py, os, argparse, logging, time\n",
    "\n",
    "import numpy as np\n",
    "import pandas as pd\n",
    "\n",
    "import torch\n",
    "from torch import nn\n",
    "from torch.optim import Adam\n",
    "from torch.utils.data import DataLoader"
   ]
  },
  {
   "cell_type": "code",
   "execution_count": null,
   "id": "06b3b4ca-09a0-43dd-bfe0-f837f518a94c",
   "metadata": {},
   "outputs": [],
   "source": [
    "# unpack h5file\n",
    "h5file = h5py.File('/file/path/prefix/Femalemus_5wCells_17wPeaks_8wnegative.shuffled.noimpute.500bp.20230822.h5', 'r')\n",
    "X = h5file[\"pmat\"][\"X\"][:].swapaxes(-1,1).astype(np.float32)\n",
    "peak_idx = h5file['pmat']['pmat_sc']['i'][:]\n",
    "cell_idx = h5file['pmat']['pmat_sc']['j'][:]\n",
    "x = h5file['pmat']['pmat_sc']['x'][:]\n",
    "dim = h5file['pmat']['pmat_sc']['dim'][:]\n",
    "y = np.zeros((dim[0], dim[1]), dtype = np.float32)\n",
    "y[peak_idx, cell_idx] = x\n",
    "features = h5file[\"pmat\"][\"peak\"][:]\n",
    "h5file.close()"
   ]
  },
  {
   "cell_type": "code",
   "execution_count": null,
   "id": "01e476fd-646f-4793-87d7-fcf90647da9a",
   "metadata": {},
   "outputs": [],
   "source": [
    "#load para"
   ]
  },
  {
   "cell_type": "code",
   "execution_count": null,
   "id": "270feba7-ff5c-4637-9c80-2743ad3cd9c5",
   "metadata": {},
   "outputs": [],
   "source": [
    "load_params = torch.load(\"./Log/best_model.pth\")\n",
    "model_params = model_new.state_dict()"
   ]
  },
  {
   "cell_type": "code",
   "execution_count": null,
   "id": "e594601a-bd8c-418e-8b52-3c03e489373f",
   "metadata": {},
   "outputs": [],
   "source": [
    "model_params.keys()"
   ]
  },
  {
   "cell_type": "code",
   "execution_count": null,
   "id": "cfbf6e71-9967-4cc5-ba0a-08d3f2b07091",
   "metadata": {},
   "outputs": [],
   "source": [
    "# extract the corresponding params\n",
    "co_params = {k: v for k, v in load_params.items() if k in model_params.keys()}"
   ]
  },
  {
   "cell_type": "code",
   "execution_count": null,
   "id": "27d94df2-cf49-4d5e-995c-a19e5198d544",
   "metadata": {},
   "outputs": [],
   "source": [
    "co_params.keys()"
   ]
  },
  {
   "cell_type": "code",
   "execution_count": null,
   "id": "0d86e82b-e202-4371-b01f-a5fb22eebf93",
   "metadata": {},
   "outputs": [],
   "source": [
    "model_params.update(co_params)\n",
    "model_new.load_state_dict(model_params)"
   ]
  },
  {
   "cell_type": "code",
   "execution_count": null,
   "id": "236dcefd-1663-4b45-9dad-05c5e7adc995",
   "metadata": {},
   "outputs": [],
   "source": [
    "X.shape"
   ]
  },
  {
   "cell_type": "code",
   "execution_count": null,
   "id": "6f23c12e-e4b1-47df-9e58-1464ebb9a1b5",
   "metadata": {},
   "outputs": [],
   "source": [
    "cell_embed=load_params['fc1.dense.weight']"
   ]
  },
  {
   "cell_type": "code",
   "execution_count": null,
   "id": "020b0984-f5d4-433c-b44d-43606d67e3ef",
   "metadata": {},
   "outputs": [],
   "source": [
    "cell_embed.shape"
   ]
  },
  {
   "cell_type": "code",
   "execution_count": null,
   "id": "06e986c6-b3e3-4d14-8c7a-3f034991119f",
   "metadata": {},
   "outputs": [],
   "source": [
    "device = torch.device(\"cuda\" if torch.cuda.is_available() else \"cpu\")"
   ]
  },
  {
   "cell_type": "code",
   "execution_count": null,
   "id": "25abb94a-bb97-4cb2-86c6-a8e14fa1b938",
   "metadata": {},
   "outputs": [],
   "source": [
    "model_new.eval()"
   ]
  },
  {
   "cell_type": "code",
   "execution_count": null,
   "id": "bba30975-a03e-4b6c-9c56-221b0463031b",
   "metadata": {},
   "outputs": [],
   "source": [
    "model_new.to(device)"
   ]
  },
  {
   "cell_type": "code",
   "execution_count": null,
   "id": "265a0bb3-f52a-4ac4-a6af-1208f2fb5a5c",
   "metadata": {},
   "outputs": [],
   "source": [
    "w=cell_embed.cpu().numpy()"
   ]
  },
  {
   "cell_type": "code",
   "execution_count": null,
   "id": "01f1f72f-4255-44b4-ae3a-cf4c47505a96",
   "metadata": {},
   "outputs": [],
   "source": [
    "import scipy.sparse\n",
    "from scipy import sparse\n",
    "import anndata\n",
    "n_samples = X.shape[0]\n",
    "from tqdm import tqdm\n",
    "bs = 100\n",
    "y_pred = []\n",
    "for i in tqdm(range(0, n_samples, bs)):#\n",
    "    X_batch = X[i:i+bs, ...]\n",
    "    X_batch = torch.from_numpy(X_batch).to(device)\n",
    "    y_pred_batch = model_new.forward(X_batch).squeeze().cpu().data.numpy()\n",
    "   # y_pred_batch= np.where(y_pred_batch > t, 1, 0).astype(np.float32)\n",
    "    y_pred_batch=y_pred_batch.astype(np.float32)\n",
    "    y_pred_batch=np.dot(y_pred_batch,w.T)\n",
    "    y_pred_batch=np.divide(1,1+np.exp(-y_pred_batch))\n",
    "    tmp= np.where(y_pred_batch>0.95, 1, 0).astype(np.float32)\n",
    "    ad1=anndata.AnnData(tmp)\n",
    "    ad1.X=sparse.csr_matrix(ad1.X)\n",
    "    y_pred.append(ad1)"
   ]
  },
  {
   "cell_type": "code",
   "execution_count": null,
   "id": "d5877d5f-ff09-458d-99fa-f0a9fa87ec45",
   "metadata": {},
   "outputs": [],
   "source": [
    "ad=anndata.concat(y_pred,join='outer')"
   ]
  },
  {
   "cell_type": "code",
   "execution_count": null,
   "id": "6f15063a-67ad-40e5-9da4-2c60a012fe5f",
   "metadata": {},
   "outputs": [],
   "source": [
    "ad"
   ]
  },
  {
   "cell_type": "code",
   "execution_count": null,
   "id": "619d9cc0-59f9-4521-9d62-a4a15b09bb1d",
   "metadata": {},
   "outputs": [],
   "source": [
    "tmp=ad.X.toarray()"
   ]
  },
  {
   "cell_type": "code",
   "execution_count": null,
   "id": "b655a81d-bef5-4139-955f-8cc5c2274c6b",
   "metadata": {},
   "outputs": [],
   "source": [
    "tmp=sparse.csr_matrix(tmp)"
   ]
  },
  {
   "cell_type": "code",
   "execution_count": null,
   "id": "ecf0d707-55e9-4f27-8c6a-58422005e8fe",
   "metadata": {},
   "outputs": [],
   "source": [
    "from scipy.io import mmwrite\n",
    "mmwrite('/file/path/prefix/pmat_pred_imputed_total.mtx',tmp)"
   ]
  },
  {
   "cell_type": "code",
   "execution_count": null,
   "id": "da6a0e54-8de0-4164-8ffe-00525e45e9ff",
   "metadata": {},
   "outputs": [],
   "source": []
  }
 ],
 "metadata": {
  "kernelspec": {
   "display_name": "scvi",
   "language": "python",
   "name": "scvi"
  },
  "language_info": {
   "codemirror_mode": {
    "name": "ipython",
    "version": 3
   },
   "file_extension": ".py",
   "mimetype": "text/x-python",
   "name": "python",
   "nbconvert_exporter": "python",
   "pygments_lexer": "ipython3",
   "version": "3.9.16"
  }
 },
 "nbformat": 4,
 "nbformat_minor": 5
}
