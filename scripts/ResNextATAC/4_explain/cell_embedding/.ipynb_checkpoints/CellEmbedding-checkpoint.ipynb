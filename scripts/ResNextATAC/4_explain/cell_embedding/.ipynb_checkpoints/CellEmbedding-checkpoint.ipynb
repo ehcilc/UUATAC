{
 "cells": [
  {
   "cell_type": "raw",
   "id": "9aa4597f-b509-4ad9-8390-261980a6173a",
   "metadata": {},
   "source": [
    "import sys\n",
    "sys.path.append(\"/software/path/prefix/NvTK/\")\n",
    "import h5py, os, argparse, logging, time\n",
    "\n",
    "import numpy as np\n",
    "import pandas as pd\n",
    "\n",
    "import torch\n",
    "from torch import nn\n",
    "from torch.optim import Adam\n",
    "from torch.utils.data import DataLoader\n",
    "\n",
    "import NvTK\n",
    "from NvTK import Trainer\n",
    "from NvTK.Evaluator import calculate_correlation, calculate_pr, calculate_roc\n",
    "from NvTK.Explainer import get_activate_W, meme_generate, save_activate_seqlets, calc_frequency_W\n",
    "\n",
    "import matplotlib.pyplot as plt\n",
    "from NvTK.Explainer import seq_logo, plot_seq_logo\n",
    "\n",
    "#from NvTK import resnet18\n",
    "from NvTK.Modules import BasicPredictor\n",
    "# set_all_random_seed\n",
    "NvTK.set_random_seed()\n",
    "NvTK.set_torch_seed()\n",
    "NvTK.set_torch_benchmark()\n",
    "device = torch.device(\"cuda\" if torch.cuda.is_available() else \"cpu\")\n",
    "import scanpy as sc\n",
    "\n",
    "\n",
    "sys.path.append(\"/file/path/prefix/\")\n",
    "n_tasks=50040 #cell num \n",
    "from ResNeXt_conv1_128_btnk_2dense import *\n",
    "model = resnext34(num_classes = n_tasks)\n",
    "\n",
    "# define criterion\n",
    "criterion = nn.BCELoss().to(device)\n",
    "\n",
    "# define optimizer\n",
    "optimizer = Adam(model.parameters(), lr=1e-3, betas=(0.9, 0.999), eps=1e-08, weight_decay=0,)\n",
    "\n",
    "# define trainer\n",
    "trainer = Trainer(model, criterion, optimizer, device, \n",
    "                    patience=10, tasktype='binary_classification', metric_sample=100,\n",
    "                    use_tensorbord=False)\n",
    "## reload best model\n",
    "model = trainer.load_best_model('./Log/best_model.pth')\n",
    "model.eval()"
   ]
  },
  {
   "cell_type": "raw",
   "id": "4ae8217a-0e18-4691-9295-a3e3aefff103",
   "metadata": {},
   "source": [
    "# Extrac FC layer weight -> cell embedding "
   ]
  },
  {
   "cell_type": "raw",
   "id": "542c2e12-5045-419b-a47c-df21231b420a",
   "metadata": {},
   "source": [
    "cell_embedding = model.state_dict()['fc1.dense.weight']\n",
    "cell_embedding.shape"
   ]
  },
  {
   "cell_type": "raw",
   "id": "eee13532-a9c5-4b9f-90e2-609e95de4823",
   "metadata": {},
   "source": [
    "w = cell_embedding.cpu().numpy()\n",
    "w.shape"
   ]
  },
  {
   "cell_type": "raw",
   "id": "49eceec5-8972-4270-9908-cf26fe7b557f",
   "metadata": {},
   "source": [
    "adata = sc.AnnData(w)\n",
    "adata"
   ]
  },
  {
   "cell_type": "raw",
   "id": "27f65cbd-6930-4957-bff4-fadd2c607acd",
   "metadata": {},
   "source": [
    "sc.set_figure_params(dpi=100, color_map = 'viridis_r')\n",
    "sc.settings.verbosity = 1\n",
    "sc.logging.print_header()"
   ]
  },
  {
   "cell_type": "raw",
   "id": "7f225a41-696d-4567-bcf5-33bc782fec32",
   "metadata": {},
   "source": [
    "anno = pd.read_table('./Female_mus_anno_5w.txt')\n",
    "anno"
   ]
  },
  {
   "cell_type": "raw",
   "id": "17627269-cc44-4671-93f2-836e08ab838a",
   "metadata": {},
   "source": [
    "adata.obs['anno'] = anno.anno.values\n",
    "adata.obs['lineage'] = anno.lineage.values\n",
    "adata.obs['tissue'] = anno.Sample.values"
   ]
  },
  {
   "cell_type": "raw",
   "id": "bcce615b-77d9-486b-9882-666ce7d71ced",
   "metadata": {},
   "source": [
    "%%time\n",
    "adata.obsm['projection'] = w\n",
    "sc.pp.neighbors(adata, use_rep='projection')\n",
    "sc.tl.tsne(adata)"
   ]
  },
  {
   "cell_type": "raw",
   "id": "8fe92f64-fccc-4215-a238-6ea194b1ee81",
   "metadata": {},
   "source": [
    "sc.pl.tsne(adata, color=['anno'], save=\".w.anno\")"
   ]
  },
  {
   "cell_type": "raw",
   "id": "1aa46ae8-bea8-4097-8a02-bc2bb329479c",
   "metadata": {},
   "source": [
    "sc.pl.tsne(adata, color=['tissue'], save=\".w.tissue\")"
   ]
  },
  {
   "cell_type": "raw",
   "id": "c2eb406e-e58b-4af8-bfed-120bf6528770",
   "metadata": {},
   "source": [
    "sc.pl.tsne(adata, color=['lineage'], save=\".w.lineage\")"
   ]
  }
 ],
 "metadata": {
  "kernelspec": {
   "display_name": "scvi",
   "language": "python",
   "name": "scvi"
  },
  "language_info": {
   "codemirror_mode": {
    "name": "ipython",
    "version": 3
   },
   "file_extension": ".py",
   "mimetype": "text/x-python",
   "name": "python",
   "nbconvert_exporter": "python",
   "pygments_lexer": "ipython3",
   "version": "3.9.16"
  }
 },
 "nbformat": 4,
 "nbformat_minor": 5
}
