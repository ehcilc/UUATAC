{
 "cells": [
  {
   "cell_type": "code",
   "execution_count": null,
   "id": "5eb33391-7446-4642-b949-e85edbea4bfc",
   "metadata": {},
   "outputs": [],
   "source": [
    "import sys\n",
    "sys.path.append(\"/software/path/prefix/NvTK/\")\n",
    "import h5py, os, argparse, logging, time\n",
    "\n",
    "import numpy as np\n",
    "import pandas as pd\n",
    "\n",
    "import torch\n",
    "from torch import nn\n",
    "from torch.optim import Adam\n",
    "from torch.utils.data import DataLoader\n",
    "\n",
    "import NvTK\n",
    "from NvTK import Trainer\n",
    "from NvTK.Evaluator import calculate_correlation, calculate_pr, calculate_roc\n",
    "from NvTK.Explainer import get_activate_W, meme_generate, save_activate_seqlets, calc_frequency_W\n",
    "\n",
    "import matplotlib.pyplot as plt\n",
    "from NvTK.Explainer import seq_logo, plot_seq_logo\n",
    "\n",
    "#from NvTK import resnet18\n",
    "from NvTK.Modules import BasicPredictor\n",
    "# set_all_random_seed\n",
    "NvTK.set_random_seed()\n",
    "NvTK.set_torch_seed()\n",
    "NvTK.set_torch_benchmark()\n",
    "device = torch.device(\"cuda\" if torch.cuda.is_available() else \"cpu\")\n",
    "import scanpy as sc\n",
    "\n",
    "\n",
    "sys.path.append(\"/file/path/prefix/\")\n",
    "n_tasks=50040 #cell num \n",
    "from ResNeXt_conv1_128_btnk_2dense import *\n",
    "model = resnext34(num_classes = n_tasks)\n",
    "\n",
    "# define criterion\n",
    "criterion = nn.BCELoss().to(device)\n",
    "\n",
    "# define optimizer\n",
    "optimizer = Adam(model.parameters(), lr=1e-3, betas=(0.9, 0.999), eps=1e-08, weight_decay=0,)\n",
    "\n",
    "# define trainer\n",
    "trainer = Trainer(model, criterion, optimizer, device, \n",
    "                    patience=10, tasktype='binary_classification', metric_sample=100,\n",
    "                    use_tensorbord=False)\n",
    "## reload best model\n",
    "model = trainer.load_best_model('./Log/best_model.pth')\n",
    "model.eval()"
   ]
  },
  {
   "cell_type": "code",
   "execution_count": null,
   "id": "4ebdcc2e-2708-43a8-8b35-c2c3069d49c3",
   "metadata": {},
   "outputs": [],
   "source": [
    "# Extrac FC layer weight -> cell embedding "
   ]
  },
  {
   "cell_type": "code",
   "execution_count": null,
   "id": "00429865-dbcf-483b-bc07-a725e2ec44c6",
   "metadata": {},
   "outputs": [],
   "source": [
    "cell_embedding = model.state_dict()['fc1.dense.weight']\n",
    "cell_embedding.shape"
   ]
  },
  {
   "cell_type": "code",
   "execution_count": null,
   "id": "9d1d0916-3839-427d-b367-9907bcfc4b6c",
   "metadata": {},
   "outputs": [],
   "source": [
    "w = cell_embedding.cpu().numpy()\n",
    "w.shape"
   ]
  },
  {
   "cell_type": "code",
   "execution_count": null,
   "id": "c31c3e0e-eb07-4f69-9874-3af24636ab9c",
   "metadata": {},
   "outputs": [],
   "source": [
    "adata = sc.AnnData(w)\n",
    "adata"
   ]
  },
  {
   "cell_type": "code",
   "execution_count": null,
   "id": "5727f930-3bd4-4304-bb8b-c2b6f1df35d8",
   "metadata": {},
   "outputs": [],
   "source": [
    "sc.set_figure_params(dpi=100, color_map = 'viridis_r')\n",
    "sc.settings.verbosity = 1\n",
    "sc.logging.print_header()"
   ]
  },
  {
   "cell_type": "code",
   "execution_count": null,
   "id": "dc831f53-8b21-4f3a-9e57-8d4288a26e1b",
   "metadata": {},
   "outputs": [],
   "source": [
    "anno = pd.read_table('./Female_mus_anno_5w.txt')\n",
    "anno"
   ]
  },
  {
   "cell_type": "code",
   "execution_count": null,
   "id": "60260a6b-edfb-4679-bec0-b877ed0fb18f",
   "metadata": {},
   "outputs": [],
   "source": [
    "adata.obs['anno'] = anno.anno.values\n",
    "adata.obs['lineage'] = anno.lineage.values\n",
    "adata.obs['tissue'] = anno.Sample.values"
   ]
  },
  {
   "cell_type": "code",
   "execution_count": null,
   "id": "c9c424cc-7cfe-4781-ae0d-3ead97a84f2d",
   "metadata": {},
   "outputs": [],
   "source": [
    "%%time\n",
    "adata.obsm['projection'] = w\n",
    "sc.pp.neighbors(adata, use_rep='projection')\n",
    "sc.tl.tsne(adata)"
   ]
  },
  {
   "cell_type": "code",
   "execution_count": null,
   "id": "9501e06b-4f8f-4f8a-88d7-2603f089f91a",
   "metadata": {},
   "outputs": [],
   "source": [
    "sc.pl.tsne(adata, color=['anno'], save=\".w.anno\")"
   ]
  },
  {
   "cell_type": "code",
   "execution_count": null,
   "id": "61b87ab9-0bce-45ed-9586-50f8cd22f355",
   "metadata": {},
   "outputs": [],
   "source": [
    "sc.pl.tsne(adata, color=['tissue'], save=\".w.tissue\")"
   ]
  },
  {
   "cell_type": "code",
   "execution_count": null,
   "id": "3a50a5eb-c46e-4bb1-9c6d-d6f0de4b78d6",
   "metadata": {},
   "outputs": [],
   "source": [
    "sc.pl.tsne(adata, color=['lineage'], save=\".w.lineage\")"
   ]
  }
 ],
 "metadata": {
  "kernelspec": {
   "display_name": "scvi",
   "language": "python",
   "name": "scvi"
  },
  "language_info": {
   "codemirror_mode": {
    "name": "ipython",
    "version": 3
   },
   "file_extension": ".py",
   "mimetype": "text/x-python",
   "name": "python",
   "nbconvert_exporter": "python",
   "pygments_lexer": "ipython3",
   "version": "3.9.16"
  }
 },
 "nbformat": 4,
 "nbformat_minor": 5
}
