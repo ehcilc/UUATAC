{
 "cells": [
  {
   "cell_type": "code",
   "execution_count": null,
   "id": "be0cc4d2-cd16-4464-91a0-8b8f9f9ffe6b",
   "metadata": {
    "jp-MarkdownHeadingCollapsed": true,
    "tags": []
   },
   "outputs": [],
   "source": [
    "import sys\n",
    "sys.path.append(\"/software/path/prefix/NvTK/\")\n",
    "import h5py, os, argparse, logging, time\n",
    "\n",
    "import numpy as np\n",
    "import pandas as pd\n",
    "\n",
    "import torch\n",
    "from torch import nn\n",
    "from torch.optim import Adam\n",
    "from torch.utils.data import DataLoader\n",
    "\n",
    "import NvTK\n",
    "from NvTK import Trainer\n",
    "from NvTK.Evaluator import calculate_correlation, calculate_pr, calculate_roc\n",
    "from NvTK.Explainer import get_activate_W, meme_generate, save_activate_seqlets, calc_frequency_W\n",
    "\n",
    "import matplotlib.pyplot as plt\n",
    "from NvTK.Explainer import seq_logo, plot_seq_logo\n",
    "\n",
    "#from NvTK import resnet18\n",
    "from NvTK.Modules import BasicPredictor\n",
    "# set_all_random_seed\n",
    "NvTK.set_random_seed()\n",
    "NvTK.set_torch_seed()\n",
    "NvTK.set_torch_benchmark()\n",
    "device = torch.device(\"cuda\" if torch.cuda.is_available() else \"cpu\")\n",
    "\n",
    "sys.path.append(\"/file/path/prefix/\")\n",
    "n_tasks=50029 #cell num\n",
    "from ResNeXt_conv1_128_btnk_2dense import *\n",
    "model = resnext34(num_classes = n_tasks)\n",
    "\n",
    "# define criterion\n",
    "criterion = nn.BCELoss().to(device)\n",
    "\n",
    "# define optimizer\n",
    "optimizer = Adam(model.parameters(), lr=1e-3, betas=(0.9, 0.999), eps=1e-08, weight_decay=0,)\n",
    "\n",
    "# define trainer\n",
    "trainer = Trainer(model, criterion, optimizer, device, \n",
    "                    patience=10, tasktype='binary_classification', metric_sample=100,\n",
    "                    use_tensorbord=False)\n",
    "## reload best model\n",
    "model = trainer.load_best_model('./Log/best_model.pth')\n",
    "model.to(device)\n",
    "model.eval()"
   ]
  },
  {
   "cell_type": "code",
   "execution_count": null,
   "id": "9bd0b133-f0c5-4d54-9c17-0699a9871334",
   "metadata": {},
   "outputs": [],
   "source": [
    "#load testing data"
   ]
  },
  {
   "cell_type": "code",
   "execution_count": null,
   "id": "ca6d8d71-0f7d-40cf-bcf3-43b9eefa5e76",
   "metadata": {},
   "outputs": [],
   "source": [
    "# unpack h5file\n",
    "h5file = h5py.File('/file/path/prefix/Chicken_5wCells_16wPeaks_8wnegative.shuffled.noimpute.500bp.20230901.h5', 'r')\n",
    "X = h5file[\"pmat\"][\"X\"][:].swapaxes(-1,1).astype(np.float32)\n",
    "peak_idx = h5file['pmat']['pmat_sc']['i'][:]\n",
    "cell_idx = h5file['pmat']['pmat_sc']['j'][:]\n",
    "x = h5file['pmat']['pmat_sc']['x'][:]\n",
    "dim = h5file['pmat']['pmat_sc']['dim'][:]\n",
    "y = np.zeros((dim[0], dim[1]), dtype = np.float32)\n",
    "y[peak_idx, cell_idx] = x\n",
    "features = h5file[\"pmat\"][\"peak\"][:]\n",
    "h5file.close()\n",
    "\n",
    "\n",
    "# unpack anno\n",
    "n_tasks = y.shape[-1]\n",
    "mask = features[:,-1].astype(str)\n",
    "train_idx, val_idx, test_idx = mask=='train', mask=='val', mask=='test'\n",
    "x_train, x_val, x_test = X[train_idx], X[val_idx], X[test_idx]\n",
    "y_train, y_val, y_test = y[train_idx], y[val_idx], y[test_idx]\n",
    "# np.sum(train_idx), np.sum(val_idx), np.sum(test_idx)\n",
    "\n",
    "\n",
    "# define data loader\n",
    "batch_size =100\n",
    "test_loader = DataLoader(list(zip(x_test, y_test)), batch_size=batch_size, \n",
    "                            shuffle=False, num_workers=0, drop_last=False, pin_memory=True)"
   ]
  },
  {
   "cell_type": "code",
   "execution_count": null,
   "id": "fa4bf4ac-21dc-4104-90e0-2324263c117d",
   "metadata": {},
   "outputs": [],
   "source": [
    "test_loader "
   ]
  },
  {
   "cell_type": "code",
   "execution_count": null,
   "id": "14906db3-d9d0-4858-a0bd-7501d105e6f6",
   "metadata": {},
   "outputs": [],
   "source": [
    "_, _, test_predictions, test_targets = trainer.predict(test_loader)"
   ]
  },
  {
   "cell_type": "code",
   "execution_count": null,
   "id": "c6e70ae2-637d-4334-a126-6d6b87a27280",
   "metadata": {},
   "outputs": [],
   "source": [
    "test_predictions.shape"
   ]
  },
  {
   "cell_type": "code",
   "execution_count": null,
   "id": "33c64ec5-13d9-4ace-b6ca-b071d0ba838d",
   "metadata": {},
   "outputs": [],
   "source": [
    "#filter"
   ]
  },
  {
   "cell_type": "code",
   "execution_count": null,
   "id": "8f81db14-1472-4319-a5da-4ca2b9d520e9",
   "metadata": {},
   "outputs": [],
   "source": [
    "from NvTK.Explainer import get_fmap, meme_generate, calc_frequency_W,get_activate_W_from_fmap\n",
    "from NvTK.Explainer.Featuremap import ActivateFeaturesHook"
   ]
  },
  {
   "cell_type": "code",
   "execution_count": null,
   "id": "f3bd8a28-5da7-43eb-a179-7491247d0e35",
   "metadata": {},
   "outputs": [],
   "source": [
    "fmap, X = get_fmap(model, model.conv1, test_loader)\n",
    "fmap.shape, X.shape"
   ]
  },
  {
   "cell_type": "code",
   "execution_count": null,
   "id": "24167544-25d8-4b5f-83aa-f098af079cb4",
   "metadata": {},
   "outputs": [],
   "source": [
    "fmap=fmap.squeeze()"
   ]
  },
  {
   "cell_type": "code",
   "execution_count": null,
   "id": "965dfcac-a0f9-4b11-9dc0-31e8c825b922",
   "metadata": {},
   "outputs": [],
   "source": [
    "fmap.shape"
   ]
  },
  {
   "cell_type": "code",
   "execution_count": null,
   "id": "3dcaf74f-1f8e-4389-84c2-8b3ee9097be3",
   "metadata": {},
   "outputs": [],
   "source": [
    "os.makedirs('./Motif',exist_ok=True)"
   ]
  },
  {
   "cell_type": "code",
   "execution_count": null,
   "id": "af0137e7-712d-4278-a663-fa1854c9f295",
   "metadata": {},
   "outputs": [],
   "source": [
    "from NvTK.Explainer import get_activate_W_from_fmap"
   ]
  },
  {
   "cell_type": "code",
   "execution_count": null,
   "id": "0c85e796-46af-4bdc-8af7-242eb4af0519",
   "metadata": {},
   "outputs": [],
   "source": [
    "W= get_activate_W_from_fmap(fmap, X, pool=1, threshold=0.9, motif_width=7,pad=3)\n",
    "W.shape"
   ]
  },
  {
   "cell_type": "code",
   "execution_count": null,
   "id": "bf3f5685-0239-493f-9873-94fa5b874cc4",
   "metadata": {},
   "outputs": [],
   "source": [
    "from NvTK.Explainer.MotifVisualize import plot_filter_heatmap,filter_heatmap\n",
    "import  matplotlib\n",
    "import matplotlib.pyplot as plt\n",
    "from mpl_toolkits.axes_grid1 import make_axes_locatable\n",
    "plot_filter_heatmap(W, factor=None, fig_size=(10,4), save=False)"
   ]
  },
  {
   "cell_type": "code",
   "execution_count": null,
   "id": "3b22db15-a6de-43ed-960f-79ee0ffbd6dc",
   "metadata": {},
   "outputs": [],
   "source": [
    "meme_generate(W, output_file=\"./Motif/meme_conv1.txt\")"
   ]
  },
  {
   "cell_type": "code",
   "execution_count": null,
   "id": "e742b423-11c8-446b-a89b-ac5faaace3b2",
   "metadata": {},
   "outputs": [],
   "source": [
    "#calculate frequency"
   ]
  },
  {
   "cell_type": "code",
   "execution_count": null,
   "id": "d42e7f48-7575-4eeb-ab4c-88af434b41bf",
   "metadata": {},
   "outputs": [],
   "source": [
    "from NvTK.Explainer.Motif import calc_frequency_W,calc_motif_IC,calc_motif_frequency"
   ]
  },
  {
   "cell_type": "code",
   "execution_count": null,
   "id": "fb4301a1-69f7-4152-945a-c9ea92756e21",
   "metadata": {},
   "outputs": [],
   "source": [
    "W_freq,W_IC = calc_frequency_W(W, background=0.25)"
   ]
  },
  {
   "cell_type": "code",
   "execution_count": null,
   "id": "c28a39fa-3795-4c60-95be-54a63168b05d",
   "metadata": {},
   "outputs": [],
   "source": [
    "len(W_freq)"
   ]
  },
  {
   "cell_type": "code",
   "execution_count": null,
   "id": "1c4292dd-b05a-4b05-860f-0cb759244577",
   "metadata": {},
   "outputs": [],
   "source": [
    "W_freq[:5]"
   ]
  },
  {
   "cell_type": "code",
   "execution_count": null,
   "id": "ffd6c907-673d-414d-a52c-96f2590080a8",
   "metadata": {},
   "outputs": [],
   "source": [
    "pd.DataFrame({\"freq\":W_freq, \"IC\":W_IC}).to_csv(\"./Motif/W_IC_freq.csv\")"
   ]
  }
 ],
 "metadata": {
  "kernelspec": {
   "display_name": "scvi",
   "language": "python",
   "name": "scvi"
  },
  "language_info": {
   "codemirror_mode": {
    "name": "ipython",
    "version": 3
   },
   "file_extension": ".py",
   "mimetype": "text/x-python",
   "name": "python",
   "nbconvert_exporter": "python",
   "pygments_lexer": "ipython3",
   "version": "3.9.16"
  }
 },
 "nbformat": 4,
 "nbformat_minor": 5
}
