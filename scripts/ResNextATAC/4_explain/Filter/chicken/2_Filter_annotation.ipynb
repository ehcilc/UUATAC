{
 "cells": [
  {
   "cell_type": "code",
   "execution_count": null,
   "id": "ff45cc2a-a050-4788-942f-a7e0c83f6f22",
   "metadata": {},
   "outputs": [],
   "source": [
    "import pandas as pd\n",
    "import numpy as np\n",
    "import re"
   ]
  },
  {
   "cell_type": "code",
   "execution_count": null,
   "id": "8a86b24e-3d8f-425e-9061-d805a2e0c89d",
   "metadata": {},
   "outputs": [],
   "source": [
    "#Cistarget"
   ]
  },
  {
   "cell_type": "code",
   "execution_count": null,
   "id": "81f2b101-458d-439c-9241-bca8815165eb",
   "metadata": {},
   "outputs": [],
   "source": [
    "tomtom = pd.read_csv(\"./tomtom_conv1_Cistarget/tomtom.tsv\", sep='\\t', header=0, index_col=0, skipfooter=3, engine='python')\n",
    "tomtom = tomtom[tomtom[\"q-value\"]<0.1][[\"Target_ID\", \"q-value\"]]\n",
    "tomtom"
   ]
  },
  {
   "cell_type": "code",
   "execution_count": null,
   "id": "9bd59192-4f85-4e2a-8321-8f61077ee964",
   "metadata": {},
   "outputs": [],
   "source": [
    "import pandas as pd\n",
    "anno = pd.read_csv(\"/file/path/prefix/Scenicplus_database/motifs-v10nr_clust-nr.chicken-m0.001-o0.0.tbl\", \n",
    "                  sep='\\t', header=0, index_col=0)\n",
    "\n",
    "anno = anno[[\"motif_name\", \"gene_name\"]]\n",
    "anno"
   ]
  },
  {
   "cell_type": "code",
   "execution_count": null,
   "id": "c6383131-ae47-41c4-be39-330c55829400",
   "metadata": {},
   "outputs": [],
   "source": [
    "tomtom_anno = tomtom.merge(anno, how='left', left_on=\"Target_ID\", right_index=True)\n",
    "tomtom_anno"
   ]
  },
  {
   "cell_type": "code",
   "execution_count": null,
   "id": "df8d0e5e-526d-4824-9b43-3e11d3667840",
   "metadata": {},
   "outputs": [],
   "source": [
    "tomtom_anno[tomtom_anno.motif_name.isna()].Target_ID.unique()\n",
    "tomtom_anno = tomtom_anno.dropna()"
   ]
  },
  {
   "cell_type": "code",
   "execution_count": null,
   "id": "fcae099f-2e56-4626-bcca-f07e464ca99f",
   "metadata": {},
   "outputs": [],
   "source": [
    "tomtom_anno"
   ]
  },
  {
   "cell_type": "code",
   "execution_count": null,
   "id": "11401de5-8d27-4f89-9d9c-a05175f1fb80",
   "metadata": {},
   "outputs": [],
   "source": [
    "tomtom_anno['Query_ID'] = tomtom_anno.index"
   ]
  },
  {
   "cell_type": "code",
   "execution_count": null,
   "id": "6d454dba-e2d6-437f-961d-0615452ee302",
   "metadata": {},
   "outputs": [],
   "source": [
    "tomtom_anno.to_csv(\"./tomtom_conv1_Cistarget/filter_anno.csv\")"
   ]
  },
  {
   "cell_type": "code",
   "execution_count": null,
   "id": "7cd3982d-6626-4cce-be10-a180d22cd5ff",
   "metadata": {},
   "outputs": [],
   "source": [
    "d = {}\n",
    "for _, gene in tomtom_anno[[\"Query_ID\", \"gene_name\"]].iterrows():\n",
    "    m = gene.Query_ID\n",
    "    tf = gene.gene_name\n",
    "    if m not in d.keys():\n",
    "        d[m] = [tf]\n",
    "    else:\n",
    "        tfs = d[m]\n",
    "        if tf not in tfs:\n",
    "            d[m].append(tf)\n",
    "\n"
   ]
  },
  {
   "cell_type": "code",
   "execution_count": null,
   "id": "5d4885da-3223-4170-a2a9-43e293d01176",
   "metadata": {},
   "outputs": [],
   "source": [
    "for k,v in d.items():\n",
    "    d[k] = '; '.join(v)\n",
    "\n"
   ]
  },
  {
   "cell_type": "code",
   "execution_count": null,
   "id": "b3e2ae96-f0df-4a6c-a4e2-6c35c4baf6f1",
   "metadata": {},
   "outputs": [],
   "source": [
    "filter_tf_anno = pd.DataFrame(d, index=['tfs']).T\n",
    "filter_tf_anno.to_csv(\"./tomtom_conv1_Cistarget/filter_tf_anno.csv\")"
   ]
  }
 ],
 "metadata": {
  "kernelspec": {
   "display_name": "scvi",
   "language": "python",
   "name": "scvi"
  },
  "language_info": {
   "codemirror_mode": {
    "name": "ipython",
    "version": 3
   },
   "file_extension": ".py",
   "mimetype": "text/x-python",
   "name": "python",
   "nbconvert_exporter": "python",
   "pygments_lexer": "ipython3",
   "version": "3.9.16"
  }
 },
 "nbformat": 4,
 "nbformat_minor": 5
}
