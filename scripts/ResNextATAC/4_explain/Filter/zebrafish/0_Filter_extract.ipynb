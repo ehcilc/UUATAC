{
 "cells": [
  {
   "cell_type": "code",
   "execution_count": null,
   "id": "73e0d3bd-edf7-402c-9f55-cefc071ec2bc",
   "metadata": {},
   "outputs": [],
   "source": [
    "import sys\n",
    "sys.path.append(\"/software/path/prefix/NvTK/\")\n",
    "import h5py, os, argparse, logging, time\n",
    "\n",
    "import numpy as np\n",
    "import pandas as pd\n",
    "\n",
    "import torch\n",
    "from torch import nn\n",
    "from torch.optim import Adam\n",
    "from torch.utils.data import DataLoader\n",
    "\n",
    "import NvTK\n",
    "from NvTK import Trainer\n",
    "from NvTK.Evaluator import calculate_correlation, calculate_pr, calculate_roc\n",
    "from NvTK.Explainer import get_activate_W, meme_generate, save_activate_seqlets, calc_frequency_W\n",
    "\n",
    "import matplotlib.pyplot as plt\n",
    "from NvTK.Explainer import seq_logo, plot_seq_logo\n",
    "\n",
    "#from NvTK import resnet18\n",
    "from NvTK.Modules import BasicPredictor\n",
    "# set_all_random_seed\n",
    "NvTK.set_random_seed()\n",
    "NvTK.set_torch_seed()\n",
    "NvTK.set_torch_benchmark()\n",
    "device = torch.device(\"cuda\" if torch.cuda.is_available() else \"cpu\")\n",
    "\n",
    "sys.path.append(\"/file/path/prefix/\")\n",
    "n_tasks=50027 #cell num\n",
    "from ResNeXt_conv1_128_btnk_2dense import *\n",
    "model = resnext34(num_classes = n_tasks)\n",
    "\n",
    "# define criterion\n",
    "criterion = nn.BCELoss().to(device)\n",
    "\n",
    "# define optimizer\n",
    "optimizer = Adam(model.parameters(), lr=1e-3, betas=(0.9, 0.999), eps=1e-08, weight_decay=0,)\n",
    "\n",
    "# define trainer\n",
    "trainer = Trainer(model, criterion, optimizer, device, \n",
    "                    patience=10, tasktype='binary_classification', metric_sample=100,\n",
    "                    use_tensorbord=False)\n",
    "## reload best model\n",
    "model = trainer.load_best_model('./Log/best_model.pth')\n",
    "model.to(device)\n",
    "model.eval()"
   ]
  },
  {
   "cell_type": "code",
   "execution_count": null,
   "id": "1d985ce8-5a81-4a9b-b239-628135527302",
   "metadata": {},
   "outputs": [],
   "source": [
    "#load testing data"
   ]
  },
  {
   "cell_type": "code",
   "execution_count": null,
   "id": "8210da47-b289-4cc3-abec-8bf35d957612",
   "metadata": {},
   "outputs": [],
   "source": [
    "# unpack h5file\n",
    "h5file = h5py.File('/file/path/prefix/Zebrafish_5wCells_7wPeaks_3wnegative.shuffled.noimpute.500bp.20230916.h5', 'r')\n",
    "X = h5file[\"pmat\"][\"X\"][:].swapaxes(-1,1).astype(np.float32)\n",
    "peak_idx = h5file['pmat']['pmat_sc']['i'][:]\n",
    "cell_idx = h5file['pmat']['pmat_sc']['j'][:]\n",
    "x = h5file['pmat']['pmat_sc']['x'][:]\n",
    "dim = h5file['pmat']['pmat_sc']['dim'][:]\n",
    "y = np.zeros((dim[0], dim[1]), dtype = np.float32)\n",
    "y[peak_idx, cell_idx] = x\n",
    "features = h5file[\"pmat\"][\"peak\"][:]\n",
    "h5file.close()\n",
    "\n",
    "\n",
    "# unpack anno\n",
    "n_tasks = y.shape[-1]\n",
    "mask = features[:,-1].astype(str)\n",
    "train_idx, val_idx, test_idx = mask=='train', mask=='val', mask=='test'\n",
    "x_train, x_val, x_test = X[train_idx], X[val_idx], X[test_idx]\n",
    "y_train, y_val, y_test = y[train_idx], y[val_idx], y[test_idx]\n",
    "# np.sum(train_idx), np.sum(val_idx), np.sum(test_idx)\n",
    "\n",
    "\n",
    "# define data loader\n",
    "batch_size =100\n",
    "test_loader = DataLoader(list(zip(x_test, y_test)), batch_size=batch_size, \n",
    "                            shuffle=False, num_workers=0, drop_last=False, pin_memory=True)"
   ]
  },
  {
   "cell_type": "code",
   "execution_count": null,
   "id": "4a70f7d8-0450-40df-935f-6c19bf05183c",
   "metadata": {},
   "outputs": [],
   "source": [
    "test_loader "
   ]
  },
  {
   "cell_type": "code",
   "execution_count": null,
   "id": "7b721ad6-d208-4343-98ef-58d4f6f7394e",
   "metadata": {},
   "outputs": [],
   "source": [
    "_, _, test_predictions, test_targets = trainer.predict(test_loader)"
   ]
  },
  {
   "cell_type": "code",
   "execution_count": null,
   "id": "0fdcbf35-81d9-49b3-925b-17e8ae1a0981",
   "metadata": {},
   "outputs": [],
   "source": [
    "test_predictions.shape"
   ]
  },
  {
   "cell_type": "code",
   "execution_count": null,
   "id": "a3f4a510-dc3c-4987-a912-196d627750a4",
   "metadata": {},
   "outputs": [],
   "source": [
    "#filter"
   ]
  },
  {
   "cell_type": "code",
   "execution_count": null,
   "id": "e46aeb34-b31a-4d19-b7f8-dca52a555763",
   "metadata": {},
   "outputs": [],
   "source": [
    "from NvTK.Explainer import get_fmap, meme_generate, calc_frequency_W,get_activate_W_from_fmap\n",
    "from NvTK.Explainer.Featuremap import ActivateFeaturesHook"
   ]
  },
  {
   "cell_type": "code",
   "execution_count": null,
   "id": "e8b686e7-76d8-42c1-ac33-3b139d4463ba",
   "metadata": {},
   "outputs": [],
   "source": [
    "fmap, X = get_fmap(model, model.conv1, test_loader)\n",
    "fmap.shape, X.shape"
   ]
  },
  {
   "cell_type": "code",
   "execution_count": null,
   "id": "1f0714dc-bd64-4bd5-bb05-bf47ed465184",
   "metadata": {},
   "outputs": [],
   "source": [
    "fmap=fmap.squeeze()"
   ]
  },
  {
   "cell_type": "code",
   "execution_count": null,
   "id": "4fd9e886-1c07-480b-80ae-6d7a6c8fb0e1",
   "metadata": {},
   "outputs": [],
   "source": [
    "fmap.shape"
   ]
  },
  {
   "cell_type": "code",
   "execution_count": null,
   "id": "af1a2269-c8bd-4b77-a78a-dd4f1f5867e4",
   "metadata": {},
   "outputs": [],
   "source": [
    "os.makedirs('./Motif',exist_ok=True)"
   ]
  },
  {
   "cell_type": "code",
   "execution_count": null,
   "id": "b103b842-728a-4a09-8a08-9310326a61c9",
   "metadata": {},
   "outputs": [],
   "source": [
    "from NvTK.Explainer import get_activate_W_from_fmap"
   ]
  },
  {
   "cell_type": "code",
   "execution_count": null,
   "id": "7108aaba-f5fe-4f38-9850-2a2e4d024e2a",
   "metadata": {},
   "outputs": [],
   "source": [
    "W= get_activate_W_from_fmap(fmap, X, pool=1, threshold=0.9, motif_width=7,pad=3)\n",
    "W.shape"
   ]
  },
  {
   "cell_type": "code",
   "execution_count": null,
   "id": "afead3af-ad73-4f8d-99a6-2fdf402779b6",
   "metadata": {},
   "outputs": [],
   "source": [
    "from NvTK.Explainer.MotifVisualize import plot_filter_heatmap,filter_heatmap\n",
    "import  matplotlib\n",
    "import matplotlib.pyplot as plt\n",
    "from mpl_toolkits.axes_grid1 import make_axes_locatable\n",
    "plot_filter_heatmap(W, factor=None, fig_size=(10,4), save=False)"
   ]
  },
  {
   "cell_type": "code",
   "execution_count": null,
   "id": "35c4713c-7953-4fa6-b750-7b79967f4291",
   "metadata": {},
   "outputs": [],
   "source": [
    "meme_generate(W, output_file=\"./Motif/meme_conv1.txt\")"
   ]
  },
  {
   "cell_type": "code",
   "execution_count": null,
   "id": "1a75a87c-d421-4b0e-9361-32e4b712cd55",
   "metadata": {},
   "outputs": [],
   "source": [
    "#calculate frequency"
   ]
  },
  {
   "cell_type": "code",
   "execution_count": null,
   "id": "c9e0ddf4-cbeb-42bb-804a-767d3f8af0ec",
   "metadata": {},
   "outputs": [],
   "source": [
    "from NvTK.Explainer.Motif import calc_frequency_W,calc_motif_IC,calc_motif_frequency"
   ]
  },
  {
   "cell_type": "code",
   "execution_count": null,
   "id": "c532a83c-a6fd-430b-831f-b5ba87c9ed0c",
   "metadata": {},
   "outputs": [],
   "source": [
    "W_freq,W_IC = calc_frequency_W(W, background=0.25)"
   ]
  },
  {
   "cell_type": "code",
   "execution_count": null,
   "id": "6624c144-913e-4d26-9630-0aba91d21226",
   "metadata": {},
   "outputs": [],
   "source": [
    "len(W_freq)"
   ]
  },
  {
   "cell_type": "code",
   "execution_count": null,
   "id": "aac472d7-f4e7-4301-b221-8ff99bf53ab6",
   "metadata": {},
   "outputs": [],
   "source": [
    "W_freq[:5]"
   ]
  },
  {
   "cell_type": "code",
   "execution_count": null,
   "id": "d5df9c80-d8a3-4185-9d0a-9cd829539715",
   "metadata": {},
   "outputs": [],
   "source": [
    "pd.DataFrame({\"freq\":W_freq, \"IC\":W_IC}).to_csv(\"./Motif/W_IC_freq.csv\")"
   ]
  }
 ],
 "metadata": {
  "kernelspec": {
   "display_name": "scvi",
   "language": "python",
   "name": "scvi"
  },
  "language_info": {
   "codemirror_mode": {
    "name": "ipython",
    "version": 3
   },
   "file_extension": ".py",
   "mimetype": "text/x-python",
   "name": "python",
   "nbconvert_exporter": "python",
   "pygments_lexer": "ipython3",
   "version": "3.9.16"
  }
 },
 "nbformat": 4,
 "nbformat_minor": 5
}
