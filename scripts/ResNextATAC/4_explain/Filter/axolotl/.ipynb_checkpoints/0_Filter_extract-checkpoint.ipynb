{
 "cells": [
  {
   "cell_type": "code",
   "execution_count": null,
   "id": "54926d45-d4b2-4d4d-a76f-2b5ac3520fcf",
   "metadata": {},
   "outputs": [],
   "source": [
    "import sys\n",
    "sys.path.append(\"/software/path/prefix/NvTK/\")\n",
    "import h5py, os, argparse, logging, time\n",
    "\n",
    "import numpy as np\n",
    "import pandas as pd\n",
    "\n",
    "import torch\n",
    "from torch import nn\n",
    "from torch.optim import Adam\n",
    "from torch.utils.data import DataLoader\n",
    "\n",
    "import NvTK\n",
    "from NvTK import Trainer\n",
    "from NvTK.Evaluator import calculate_correlation, calculate_pr, calculate_roc\n",
    "from NvTK.Explainer import get_activate_W, meme_generate, save_activate_seqlets, calc_frequency_W\n",
    "\n",
    "import matplotlib.pyplot as plt\n",
    "from NvTK.Explainer import seq_logo, plot_seq_logo\n",
    "\n",
    "#from NvTK import resnet18\n",
    "from NvTK.Modules import BasicPredictor\n",
    "# set_all_random_seed\n",
    "NvTK.set_random_seed()\n",
    "NvTK.set_torch_seed()\n",
    "NvTK.set_torch_benchmark()\n",
    "device = torch.device(\"cuda\" if torch.cuda.is_available() else \"cpu\")\n",
    "\n",
    "sys.path.append(\"/file/path/prefix/\")\n",
    "n_tasks=50025 #cell num\n",
    "from ResNeXt_conv1_128_btnk_2dense import *\n",
    "model = resnext34(num_classes = n_tasks)\n",
    "\n",
    "# define criterion\n",
    "criterion = nn.BCELoss().to(device)\n",
    "\n",
    "# define optimizer\n",
    "optimizer = Adam(model.parameters(), lr=1e-3, betas=(0.9, 0.999), eps=1e-08, weight_decay=0,)\n",
    "\n",
    "# define trainer\n",
    "trainer = Trainer(model, criterion, optimizer, device, \n",
    "                    patience=10, tasktype='binary_classification', metric_sample=100,\n",
    "                    use_tensorbord=False)\n",
    "## reload best model\n",
    "model = trainer.load_best_model('./Log/best_model.pth')\n",
    "model.to(device)\n",
    "model.eval()"
   ]
  },
  {
   "cell_type": "code",
   "execution_count": null,
   "id": "c7c83209-790b-4723-9e5d-b001e40ceade",
   "metadata": {},
   "outputs": [],
   "source": [
    "#load testing data"
   ]
  },
  {
   "cell_type": "code",
   "execution_count": null,
   "id": "15657af6-bb3b-4e03-806e-ea39c2ad22aa",
   "metadata": {},
   "outputs": [],
   "source": [
    "# unpack h5file\n",
    "h5file = h5py.File('/file/path/prefix/Axolotl_5wCells_8wPeaks_4wnegative.shuffled.noimpute.500bp.20230904.h5', 'r')\n",
    "X = h5file[\"pmat\"][\"X\"][:].swapaxes(-1,1).astype(np.float32)\n",
    "peak_idx = h5file['pmat']['pmat_sc']['i'][:]\n",
    "cell_idx = h5file['pmat']['pmat_sc']['j'][:]\n",
    "x = h5file['pmat']['pmat_sc']['x'][:]\n",
    "dim = h5file['pmat']['pmat_sc']['dim'][:]\n",
    "y = np.zeros((dim[0], dim[1]), dtype = np.float32)\n",
    "y[peak_idx, cell_idx] = x\n",
    "features = h5file[\"pmat\"][\"peak\"][:]\n",
    "h5file.close()\n",
    "\n",
    "\n",
    "# unpack anno\n",
    "n_tasks = y.shape[-1]\n",
    "mask = features[:,-1].astype(str)\n",
    "train_idx, val_idx, test_idx = mask=='train', mask=='val', mask=='test'\n",
    "x_train, x_val, x_test = X[train_idx], X[val_idx], X[test_idx]\n",
    "y_train, y_val, y_test = y[train_idx], y[val_idx], y[test_idx]\n",
    "# np.sum(train_idx), np.sum(val_idx), np.sum(test_idx)\n",
    "\n",
    "\n",
    "# define data loader\n",
    "batch_size =100\n",
    "test_loader = DataLoader(list(zip(x_test, y_test)), batch_size=batch_size, \n",
    "                            shuffle=False, num_workers=0, drop_last=False, pin_memory=True)"
   ]
  },
  {
   "cell_type": "code",
   "execution_count": null,
   "id": "ac6868a5-3cfb-48b5-87cc-c2ecf29c9d1d",
   "metadata": {},
   "outputs": [],
   "source": [
    "test_loader "
   ]
  },
  {
   "cell_type": "code",
   "execution_count": null,
   "id": "52aee09c-51ca-4961-9200-537831d25e57",
   "metadata": {},
   "outputs": [],
   "source": [
    "_, _, test_predictions, test_targets = trainer.predict(test_loader)"
   ]
  },
  {
   "cell_type": "code",
   "execution_count": null,
   "id": "55190a38-8092-4f14-952b-c0498cc29b0f",
   "metadata": {},
   "outputs": [],
   "source": [
    "test_predictions.shape"
   ]
  },
  {
   "cell_type": "code",
   "execution_count": null,
   "id": "6c04b338-5ecd-4f82-bbb2-56853004467f",
   "metadata": {},
   "outputs": [],
   "source": [
    "#filter"
   ]
  },
  {
   "cell_type": "code",
   "execution_count": null,
   "id": "147e5164-2d5d-4d66-802d-b559e5dba1df",
   "metadata": {},
   "outputs": [],
   "source": [
    "from NvTK.Explainer import get_fmap, meme_generate, calc_frequency_W,get_activate_W_from_fmap\n",
    "from NvTK.Explainer.Featuremap import ActivateFeaturesHook"
   ]
  },
  {
   "cell_type": "code",
   "execution_count": null,
   "id": "3e247c06-dc2e-4045-be80-f4a0bb522b67",
   "metadata": {},
   "outputs": [],
   "source": [
    "fmap, X = get_fmap(model, model.conv1, test_loader)\n",
    "fmap.shape, X.shape"
   ]
  },
  {
   "cell_type": "code",
   "execution_count": null,
   "id": "1846c7ae-3295-4640-bd9d-402c6b6978d7",
   "metadata": {},
   "outputs": [],
   "source": [
    "fmap=fmap.squeeze()"
   ]
  },
  {
   "cell_type": "code",
   "execution_count": null,
   "id": "eb62356d-4926-41d3-961b-943173400358",
   "metadata": {},
   "outputs": [],
   "source": [
    "fmap.shape"
   ]
  },
  {
   "cell_type": "code",
   "execution_count": null,
   "id": "e65eea7d-6642-4aa6-b258-2959e6729b49",
   "metadata": {},
   "outputs": [],
   "source": [
    "os.makedirs('./Motif',exist_ok=True)"
   ]
  },
  {
   "cell_type": "code",
   "execution_count": null,
   "id": "7b4042ad-e614-4440-8a37-928c841bbf4a",
   "metadata": {},
   "outputs": [],
   "source": [
    "from NvTK.Explainer import get_activate_W_from_fmap"
   ]
  },
  {
   "cell_type": "code",
   "execution_count": null,
   "id": "5f1e371b-f6b1-43f1-97ee-ea246f8deac9",
   "metadata": {},
   "outputs": [],
   "source": [
    "W= get_activate_W_from_fmap(fmap, X, pool=1, threshold=0.9, motif_width=7,pad=3)\n",
    "W.shape"
   ]
  },
  {
   "cell_type": "code",
   "execution_count": null,
   "id": "5b1f69ed-03a0-49b7-924a-dc1ecf57b980",
   "metadata": {},
   "outputs": [],
   "source": [
    "from NvTK.Explainer.MotifVisualize import plot_filter_heatmap,filter_heatmap\n",
    "import  matplotlib\n",
    "import matplotlib.pyplot as plt\n",
    "from mpl_toolkits.axes_grid1 import make_axes_locatable\n",
    "plot_filter_heatmap(W, factor=None, fig_size=(10,4), save=False)"
   ]
  },
  {
   "cell_type": "code",
   "execution_count": null,
   "id": "6d9bb30c-dd81-44d2-9c72-d08b9519ceb5",
   "metadata": {},
   "outputs": [],
   "source": [
    "meme_generate(W, output_file=\"./Motif/meme_conv1.txt\")"
   ]
  },
  {
   "cell_type": "code",
   "execution_count": null,
   "id": "4f3e920d-f0ad-4b9d-8f2c-2fc27f0f64c1",
   "metadata": {},
   "outputs": [],
   "source": [
    "#calculate frequency"
   ]
  },
  {
   "cell_type": "code",
   "execution_count": null,
   "id": "22b17ffb-7ff6-4051-aeca-4f397b187b0f",
   "metadata": {},
   "outputs": [],
   "source": [
    "from NvTK.Explainer.Motif import calc_frequency_W,calc_motif_IC,calc_motif_frequency"
   ]
  },
  {
   "cell_type": "code",
   "execution_count": null,
   "id": "f58d0242-abb3-4bc9-b237-29173b50cc4a",
   "metadata": {},
   "outputs": [],
   "source": [
    "W_freq,W_IC = calc_frequency_W(W, background=0.25)"
   ]
  },
  {
   "cell_type": "code",
   "execution_count": null,
   "id": "658671e9-2f44-40f4-a553-d1ba41a5f640",
   "metadata": {},
   "outputs": [],
   "source": [
    "len(W_freq)"
   ]
  },
  {
   "cell_type": "code",
   "execution_count": null,
   "id": "14bc25c1-d42a-43cc-949f-a37a26e1952e",
   "metadata": {},
   "outputs": [],
   "source": [
    "W_freq[:5]"
   ]
  },
  {
   "cell_type": "code",
   "execution_count": null,
   "id": "1ee02492-cb14-4a87-a985-3c7e97590ea0",
   "metadata": {},
   "outputs": [],
   "source": [
    "pd.DataFrame({\"freq\":W_freq, \"IC\":W_IC}).to_csv(\"./Motif/W_IC_freq.csv\")"
   ]
  }
 ],
 "metadata": {
  "kernelspec": {
   "display_name": "scvi",
   "language": "python",
   "name": "scvi"
  },
  "language_info": {
   "codemirror_mode": {
    "name": "ipython",
    "version": 3
   },
   "file_extension": ".py",
   "mimetype": "text/x-python",
   "name": "python",
   "nbconvert_exporter": "python",
   "pygments_lexer": "ipython3",
   "version": "3.9.16"
  }
 },
 "nbformat": 4,
 "nbformat_minor": 5
}
