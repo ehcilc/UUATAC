{
 "cells": [
  {
   "cell_type": "code",
   "execution_count": null,
   "id": "475d4f1b-b53e-47b0-af7a-c7956c015bec",
   "metadata": {},
   "outputs": [],
   "source": [
    "import sys\n",
    "sys.path.append(\"/software/path/prefix/NvTK/\")\n",
    "import h5py, os, argparse, logging, time\n",
    "\n",
    "import numpy as np\n",
    "import pandas as pd\n",
    "\n",
    "import torch\n",
    "from torch import nn\n",
    "from torch.optim import Adam\n",
    "from torch.utils.data import DataLoader\n",
    "\n",
    "import NvTK\n",
    "from NvTK import Trainer\n",
    "from NvTK.Evaluator import calculate_correlation, calculate_pr, calculate_roc\n",
    "from NvTK.Explainer import get_activate_W, meme_generate, save_activate_seqlets, calc_frequency_W\n",
    "\n",
    "import matplotlib.pyplot as plt\n",
    "from NvTK.Explainer import seq_logo, plot_seq_logo\n",
    "\n",
    "#from NvTK import resnet18\n",
    "from NvTK.Modules import BasicPredictor\n",
    "# set_all_random_seed\n",
    "NvTK.set_random_seed()\n",
    "NvTK.set_torch_seed()\n",
    "NvTK.set_torch_benchmark()\n",
    "device = torch.device(\"cuda\" if torch.cuda.is_available() else \"cpu\")\n",
    "\n",
    "sys.path.append(\"/file/path/prefix/\")\n",
    "n_tasks=50029 #cell num\n",
    "from ResNeXt_conv1_128_btnk_2dense import *\n",
    "model = resnext34(num_classes = n_tasks)\n",
    "\n",
    "# define criterion\n",
    "criterion = nn.BCELoss().to(device)\n",
    "\n",
    "# define optimizer\n",
    "optimizer = Adam(model.parameters(), lr=1e-3, betas=(0.9, 0.999), eps=1e-08, weight_decay=0,)\n",
    "\n",
    "# define trainer\n",
    "trainer = Trainer(model, criterion, optimizer, device, \n",
    "                    patience=10, tasktype='binary_classification', metric_sample=100,\n",
    "                    use_tensorbord=False)\n",
    "## reload best model\n",
    "model = trainer.load_best_model('./Log/best_model.pth')\n",
    "model.to(device)\n",
    "model.eval()"
   ]
  },
  {
   "cell_type": "code",
   "execution_count": null,
   "id": "baa2d7ea-eeb6-43c7-8d72-4b371d3a4f65",
   "metadata": {},
   "outputs": [],
   "source": [
    "#load testing data"
   ]
  },
  {
   "cell_type": "code",
   "execution_count": null,
   "id": "ce01cf1d-4d6b-485a-a291-c5ae0b24145d",
   "metadata": {},
   "outputs": [],
   "source": [
    "# unpack h5file\n",
    "h5file = h5py.File('/file/path/prefix/Gecko_5wCells_13wPeaks_6wnegative.shuffled.noimpute.500bp.20230901.h5', 'r')\n",
    "X = h5file[\"pmat\"][\"X\"][:].swapaxes(-1,1).astype(np.float32)\n",
    "peak_idx = h5file['pmat']['pmat_sc']['i'][:]\n",
    "cell_idx = h5file['pmat']['pmat_sc']['j'][:]\n",
    "x = h5file['pmat']['pmat_sc']['x'][:]\n",
    "dim = h5file['pmat']['pmat_sc']['dim'][:]\n",
    "y = np.zeros((dim[0], dim[1]), dtype = np.float32)\n",
    "y[peak_idx, cell_idx] = x\n",
    "features = h5file[\"pmat\"][\"peak\"][:]\n",
    "h5file.close()\n",
    "\n",
    "\n",
    "# unpack anno\n",
    "n_tasks = y.shape[-1]\n",
    "mask = features[:,-1].astype(str)\n",
    "train_idx, val_idx, test_idx = mask=='train', mask=='val', mask=='test'\n",
    "x_train, x_val, x_test = X[train_idx], X[val_idx], X[test_idx]\n",
    "y_train, y_val, y_test = y[train_idx], y[val_idx], y[test_idx]\n",
    "# np.sum(train_idx), np.sum(val_idx), np.sum(test_idx)\n",
    "\n",
    "\n",
    "# define data loader\n",
    "batch_size =100\n",
    "test_loader = DataLoader(list(zip(x_test, y_test)), batch_size=batch_size, \n",
    "                            shuffle=False, num_workers=0, drop_last=False, pin_memory=True)"
   ]
  },
  {
   "cell_type": "code",
   "execution_count": null,
   "id": "d86e9a63-ff97-4fc0-a393-06006f2893bc",
   "metadata": {},
   "outputs": [],
   "source": [
    "test_loader "
   ]
  },
  {
   "cell_type": "code",
   "execution_count": null,
   "id": "d6043fde-af41-430b-a1ab-4d6d5972566e",
   "metadata": {},
   "outputs": [],
   "source": [
    "_, _, test_predictions, test_targets = trainer.predict(test_loader)"
   ]
  },
  {
   "cell_type": "code",
   "execution_count": null,
   "id": "33eebb46-9ba6-4714-8311-d7d12715ea5c",
   "metadata": {},
   "outputs": [],
   "source": [
    "test_predictions.shape"
   ]
  },
  {
   "cell_type": "code",
   "execution_count": null,
   "id": "1791d3a7-4d3f-40a6-a23f-ef9ac1b95980",
   "metadata": {},
   "outputs": [],
   "source": [
    "#filter"
   ]
  },
  {
   "cell_type": "code",
   "execution_count": null,
   "id": "5b93061b-3d11-4a05-91b9-0840b4083e7c",
   "metadata": {},
   "outputs": [],
   "source": [
    "from NvTK.Explainer import get_fmap, meme_generate, calc_frequency_W,get_activate_W_from_fmap\n",
    "from NvTK.Explainer.Featuremap import ActivateFeaturesHook"
   ]
  },
  {
   "cell_type": "code",
   "execution_count": null,
   "id": "83cd65ac-d62c-4a2b-8848-84ebd495aae4",
   "metadata": {},
   "outputs": [],
   "source": [
    "fmap, X = get_fmap(model, model.conv1, test_loader)\n",
    "fmap.shape, X.shape"
   ]
  },
  {
   "cell_type": "code",
   "execution_count": null,
   "id": "c73e79b9-dbc5-48a3-8e9b-a0cc85ee5e61",
   "metadata": {},
   "outputs": [],
   "source": [
    "fmap=fmap.squeeze()"
   ]
  },
  {
   "cell_type": "code",
   "execution_count": null,
   "id": "ee347c29-547f-4b59-8a0e-e4daf339c64f",
   "metadata": {},
   "outputs": [],
   "source": [
    "fmap.shape"
   ]
  },
  {
   "cell_type": "code",
   "execution_count": null,
   "id": "6da8303b-b428-424a-b3a6-81df8a8c4db7",
   "metadata": {},
   "outputs": [],
   "source": [
    "os.makedirs('./Motif',exist_ok=True)"
   ]
  },
  {
   "cell_type": "code",
   "execution_count": null,
   "id": "a7d8e96a-74d0-4178-8f84-07ed133e5f01",
   "metadata": {},
   "outputs": [],
   "source": [
    "from NvTK.Explainer import get_activate_W_from_fmap"
   ]
  },
  {
   "cell_type": "code",
   "execution_count": null,
   "id": "758cb51c-8bfe-4e12-8d3f-dca4241bae2d",
   "metadata": {},
   "outputs": [],
   "source": [
    "W= get_activate_W_from_fmap(fmap, X, pool=1, threshold=0.9, motif_width=7,pad=3)\n",
    "W.shape"
   ]
  },
  {
   "cell_type": "code",
   "execution_count": null,
   "id": "3681cccd-175d-48ee-8b37-1eadd3aad428",
   "metadata": {},
   "outputs": [],
   "source": [
    "from NvTK.Explainer.MotifVisualize import plot_filter_heatmap,filter_heatmap\n",
    "import  matplotlib\n",
    "import matplotlib.pyplot as plt\n",
    "from mpl_toolkits.axes_grid1 import make_axes_locatable\n",
    "plot_filter_heatmap(W, factor=None, fig_size=(10,4), save=False)"
   ]
  },
  {
   "cell_type": "code",
   "execution_count": null,
   "id": "46bb8eae-9d13-4648-99e9-f87807dfbbd4",
   "metadata": {},
   "outputs": [],
   "source": [
    "meme_generate(W, output_file=\"./Motif/meme_conv1.txt\")"
   ]
  },
  {
   "cell_type": "code",
   "execution_count": null,
   "id": "40f649c8-c122-458e-9015-a15b59dffbdd",
   "metadata": {},
   "outputs": [],
   "source": [
    "#calculate frequency"
   ]
  },
  {
   "cell_type": "code",
   "execution_count": null,
   "id": "4758b8c3-49b7-402f-8338-253294220726",
   "metadata": {},
   "outputs": [],
   "source": [
    "from NvTK.Explainer.Motif import calc_frequency_W,calc_motif_IC,calc_motif_frequency"
   ]
  },
  {
   "cell_type": "code",
   "execution_count": null,
   "id": "0b4058c0-e6d8-46c4-b4f0-eb624e2e4bbc",
   "metadata": {},
   "outputs": [],
   "source": [
    "W_freq,W_IC = calc_frequency_W(W, background=0.25)"
   ]
  },
  {
   "cell_type": "code",
   "execution_count": null,
   "id": "3bc9b0ac-cbc2-4428-b802-047a61b996dd",
   "metadata": {},
   "outputs": [],
   "source": [
    "len(W_freq)"
   ]
  },
  {
   "cell_type": "code",
   "execution_count": null,
   "id": "cf6cbac5-d75f-41b3-bf3f-5442d6eb8cb5",
   "metadata": {},
   "outputs": [],
   "source": [
    "W_freq[:5]"
   ]
  },
  {
   "cell_type": "code",
   "execution_count": null,
   "id": "13429a42-2775-47b4-b87e-903b56c0e45c",
   "metadata": {},
   "outputs": [],
   "source": [
    "pd.DataFrame({\"freq\":W_freq, \"IC\":W_IC}).to_csv(\"./Motif/W_IC_freq.csv\")"
   ]
  }
 ],
 "metadata": {
  "kernelspec": {
   "display_name": "scvi",
   "language": "python",
   "name": "scvi"
  },
  "language_info": {
   "codemirror_mode": {
    "name": "ipython",
    "version": 3
   },
   "file_extension": ".py",
   "mimetype": "text/x-python",
   "name": "python",
   "nbconvert_exporter": "python",
   "pygments_lexer": "ipython3",
   "version": "3.9.16"
  }
 },
 "nbformat": 4,
 "nbformat_minor": 5
}
