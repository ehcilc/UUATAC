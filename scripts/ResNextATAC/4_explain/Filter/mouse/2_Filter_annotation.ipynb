{
 "cells": [
  {
   "cell_type": "code",
   "execution_count": null,
   "id": "fb7dede5-de45-4143-a526-f3a78342ddc3",
   "metadata": {},
   "outputs": [],
   "source": [
    "import pandas as pd\n",
    "import numpy as np\n",
    "import re"
   ]
  },
  {
   "cell_type": "code",
   "execution_count": null,
   "id": "f18ff392-4664-419d-acd8-f77a2e03828e",
   "metadata": {},
   "outputs": [],
   "source": [
    "import pandas as pd"
   ]
  },
  {
   "cell_type": "code",
   "execution_count": null,
   "id": "5f818f84-cc1d-40f2-959c-afb2c1315373",
   "metadata": {},
   "outputs": [],
   "source": [
    "tomtom = pd.read_csv(\"/file/path/prefix/tomtom_conv1_Cistarget/tomtom.tsv\", sep='\\t', header=0, index_col=0, skipfooter=3, engine='python')\n",
    "#tomtom = tomtom[tomtom[\"q-value\"]<0.1][[\"Target_ID\", \"q-value\"]]\n",
    "tomtom"
   ]
  },
  {
   "cell_type": "code",
   "execution_count": null,
   "id": "b24ddf31-e622-45a5-a16e-4645af0b3cb5",
   "metadata": {},
   "outputs": [],
   "source": [
    "import pandas as pd\n",
    "anno = pd.read_csv(\"/file/path/prefix/Scenicplus_database/motifs-v10nr_clust-nr.mgi-m0.001-o0.0.tbl\", \n",
    "                  sep='\\t', header=0, index_col=0)\n",
    "anno\n",
    "anno = anno[[\"motif_name\", \"gene_name\"]]"
   ]
  },
  {
   "cell_type": "code",
   "execution_count": null,
   "id": "ea17c8ab-1f58-4400-9479-954a2a59ada3",
   "metadata": {},
   "outputs": [],
   "source": [
    "tomtom_anno = tomtom.merge(anno, how='left', left_on=\"Target_ID\", right_index=True)\n",
    "tomtom_anno"
   ]
  },
  {
   "cell_type": "code",
   "execution_count": null,
   "id": "b2912f51-3642-4d81-abc9-a1c5f2c0ac63",
   "metadata": {},
   "outputs": [],
   "source": [
    "tomtom_anno[tomtom_anno.motif_name.isna()].Target_ID.unique()\n",
    "tomtom_anno = tomtom_anno.dropna()"
   ]
  },
  {
   "cell_type": "code",
   "execution_count": null,
   "id": "993476a7-5214-4947-9555-34688d625adf",
   "metadata": {},
   "outputs": [],
   "source": [
    "tomtom_anno"
   ]
  },
  {
   "cell_type": "code",
   "execution_count": null,
   "id": "2c53467a-c8e7-42b2-b57c-b5ce0f18f0b5",
   "metadata": {},
   "outputs": [],
   "source": [
    "tomtom_anno['Query_ID'] = tomtom_anno.index"
   ]
  },
  {
   "cell_type": "code",
   "execution_count": null,
   "id": "04d2c970-29cd-4285-b6f4-aceac8651ce0",
   "metadata": {},
   "outputs": [],
   "source": [
    "tomtom_anno"
   ]
  },
  {
   "cell_type": "code",
   "execution_count": null,
   "id": "5427e91d-642d-421a-8421-541d641ab758",
   "metadata": {},
   "outputs": [],
   "source": [
    "tomtom_anno.to_csv(\"/file/path/prefix/tomtom_conv1_Cistarget/filter_anno.csv\")"
   ]
  },
  {
   "cell_type": "code",
   "execution_count": null,
   "id": "635ef690-a27e-4de0-afd6-6373fb3194d9",
   "metadata": {},
   "outputs": [],
   "source": [
    "d = {}\n",
    "for _, gene in tomtom_anno[[\"Query_ID\", \"gene_name\"]].iterrows():\n",
    "    m = gene.Query_ID\n",
    "    tf = gene.gene_name\n",
    "    if m not in d.keys():\n",
    "        d[m] = [tf]\n",
    "    else:\n",
    "        tfs = d[m]\n",
    "        if tf not in tfs:\n",
    "            d[m].append(tf)\n"
   ]
  },
  {
   "cell_type": "code",
   "execution_count": null,
   "id": "5030c5ea-f213-4130-bbc5-ad550fbd50ed",
   "metadata": {},
   "outputs": [],
   "source": [
    "for k,v in d.items():\n",
    "    d[k] = '; '.join(v)\n",
    "\n"
   ]
  },
  {
   "cell_type": "code",
   "execution_count": null,
   "id": "8a33e171-ae27-4c3f-9222-b9b519463b8c",
   "metadata": {},
   "outputs": [],
   "source": [
    "filter_tf_anno = pd.DataFrame(d, index=['tfs']).T\n",
    "filter_tf_anno.to_csv(\"/file/path/prefix//tomtom_conv1_Cistarget/filter_tf_anno_1101.csv\")\n",
    "filter_tf_anno"
   ]
  }
 ],
 "metadata": {
  "kernelspec": {
   "display_name": "scvi",
   "language": "python",
   "name": "scvi"
  },
  "language_info": {
   "codemirror_mode": {
    "name": "ipython",
    "version": 3
   },
   "file_extension": ".py",
   "mimetype": "text/x-python",
   "name": "python",
   "nbconvert_exporter": "python",
   "pygments_lexer": "ipython3",
   "version": "3.9.16"
  }
 },
 "nbformat": 4,
 "nbformat_minor": 5
}
