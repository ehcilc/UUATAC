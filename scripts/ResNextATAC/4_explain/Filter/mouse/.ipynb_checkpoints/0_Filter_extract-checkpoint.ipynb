{
 "cells": [
  {
   "cell_type": "code",
   "execution_count": null,
   "id": "d4075492-cc72-4fd7-86eb-b3d3f60d0dc2",
   "metadata": {
    "tags": []
   },
   "outputs": [],
   "source": [
    "import sys\n",
    "sys.path.append(\"/software/path/prefix/NvTK/\")\n",
    "import h5py, os, argparse, logging, time\n",
    "\n",
    "import numpy as np\n",
    "import pandas as pd\n",
    "\n",
    "import torch\n",
    "from torch import nn\n",
    "from torch.optim import Adam\n",
    "from torch.utils.data import DataLoader\n",
    "\n",
    "import NvTK\n",
    "from NvTK import Trainer\n",
    "from NvTK.Evaluator import calculate_correlation, calculate_pr, calculate_roc\n",
    "from NvTK.Explainer import get_activate_W, meme_generate, save_activate_seqlets, calc_frequency_W\n",
    "\n",
    "import matplotlib.pyplot as plt\n",
    "from NvTK.Explainer import seq_logo, plot_seq_logo\n",
    "\n",
    "#from NvTK import resnet18\n",
    "from NvTK.Modules import BasicPredictor\n",
    "# set_all_random_seed\n",
    "NvTK.set_random_seed()\n",
    "NvTK.set_torch_seed()\n",
    "NvTK.set_torch_benchmark()\n",
    "device = torch.device(\"cuda\" if torch.cuda.is_available() else \"cpu\")\n",
    "\n",
    "sys.path.append(\"/file/path/prefix/\")\n",
    "n_tasks=50040 #cell num\n",
    "from ResNeXt_conv1_128_btnk_2dense import *\n",
    "model = resnext34(num_classes = n_tasks)\n",
    "\n",
    "# define criterion\n",
    "criterion = nn.BCELoss().to(device)\n",
    "\n",
    "# define optimizer\n",
    "optimizer = Adam(model.parameters(), lr=1e-3, betas=(0.9, 0.999), eps=1e-08, weight_decay=0,)\n",
    "\n",
    "# define trainer\n",
    "trainer = Trainer(model, criterion, optimizer, device, \n",
    "                    patience=10, tasktype='binary_classification', metric_sample=100,\n",
    "                    use_tensorbord=False)\n",
    "## reload best model\n",
    "model = trainer.load_best_model('./Log/best_model.pth')\n",
    "model.to(device)\n",
    "model.eval()"
   ]
  },
  {
   "cell_type": "code",
   "execution_count": null,
   "id": "a22242db-6ce9-4e60-b9dc-a730c056d7b6",
   "metadata": {},
   "outputs": [],
   "source": [
    "#load testing data"
   ]
  },
  {
   "cell_type": "code",
   "execution_count": null,
   "id": "7c9dc468-846f-4443-9b9b-2c0646e4b65b",
   "metadata": {},
   "outputs": [],
   "source": [
    "# unpack h5file\n",
    "h5file = h5py.File('/file/path/prefix/Femalemus_5wCells_17wPeaks_8wnegative.shuffled.noimpute.500bp.20230822.h5', 'r')\n",
    "X = h5file[\"pmat\"][\"X\"][:].swapaxes(-1,1).astype(np.float32)\n",
    "peak_idx = h5file['pmat']['pmat_sc']['i'][:]\n",
    "cell_idx = h5file['pmat']['pmat_sc']['j'][:]\n",
    "x = h5file['pmat']['pmat_sc']['x'][:]\n",
    "dim = h5file['pmat']['pmat_sc']['dim'][:]\n",
    "y = np.zeros((dim[0], dim[1]), dtype = np.float32)\n",
    "y[peak_idx, cell_idx] = x\n",
    "features = h5file[\"pmat\"][\"peak\"][:]\n",
    "h5file.close()\n",
    "\n",
    "\n",
    "# unpack anno\n",
    "n_tasks = y.shape[-1]\n",
    "mask = features[:,-1].astype(str)\n",
    "train_idx, val_idx, test_idx = mask=='train', mask=='val', mask=='test'\n",
    "x_train, x_val, x_test = X[train_idx], X[val_idx], X[test_idx]\n",
    "y_train, y_val, y_test = y[train_idx], y[val_idx], y[test_idx]\n",
    "# np.sum(train_idx), np.sum(val_idx), np.sum(test_idx)\n",
    "\n",
    "\n",
    "# define data loader\n",
    "batch_size =100\n",
    "test_loader = DataLoader(list(zip(x_test, y_test)), batch_size=batch_size, \n",
    "                            shuffle=False, num_workers=0, drop_last=False, pin_memory=True)"
   ]
  },
  {
   "cell_type": "code",
   "execution_count": null,
   "id": "f6f6c19b-3f37-4ff3-b02b-3b5126bac4d6",
   "metadata": {},
   "outputs": [],
   "source": [
    "test_loader "
   ]
  },
  {
   "cell_type": "code",
   "execution_count": null,
   "id": "8aa4d70a-7f89-441a-85df-646408f7fc8e",
   "metadata": {},
   "outputs": [],
   "source": [
    "_, _, test_predictions, test_targets = trainer.predict(test_loader)"
   ]
  },
  {
   "cell_type": "code",
   "execution_count": null,
   "id": "ee0e181c-f727-4c3b-b6c6-9526c9ca0671",
   "metadata": {},
   "outputs": [],
   "source": [
    "test_predictions.shape"
   ]
  },
  {
   "cell_type": "code",
   "execution_count": null,
   "id": "43840d60-ea6b-4bf8-a374-fbdfc9cb1046",
   "metadata": {},
   "outputs": [],
   "source": [
    "#filter"
   ]
  },
  {
   "cell_type": "code",
   "execution_count": null,
   "id": "af7e183a-08a7-48ad-8500-0868370108f6",
   "metadata": {},
   "outputs": [],
   "source": [
    "from NvTK.Explainer import get_fmap, meme_generate, calc_frequency_W,get_activate_W_from_fmap\n",
    "from NvTK.Explainer.Featuremap import ActivateFeaturesHook"
   ]
  },
  {
   "cell_type": "code",
   "execution_count": null,
   "id": "ce1988d1-64cc-4bd2-858d-d6b1cd3bfca5",
   "metadata": {},
   "outputs": [],
   "source": [
    "fmap, X = get_fmap(model, model.conv1, test_loader)\n",
    "fmap.shape, X.shape"
   ]
  },
  {
   "cell_type": "code",
   "execution_count": null,
   "id": "f96aa0f5-d5ed-4f90-b806-56462ff3ba4b",
   "metadata": {},
   "outputs": [],
   "source": [
    "fmap=fmap.squeeze()"
   ]
  },
  {
   "cell_type": "code",
   "execution_count": null,
   "id": "db72f8e6-b9bf-417d-bbe6-ee5ceaa9290f",
   "metadata": {},
   "outputs": [],
   "source": [
    "fmap.shape"
   ]
  },
  {
   "cell_type": "code",
   "execution_count": null,
   "id": "b792e097-6e30-4a21-8f1c-f47383effeb7",
   "metadata": {},
   "outputs": [],
   "source": [
    "os.makedirs('./Motif',exist_ok=True)"
   ]
  },
  {
   "cell_type": "code",
   "execution_count": null,
   "id": "64cb75d0-8ded-4bf9-bd38-0b6aaeb2de6a",
   "metadata": {},
   "outputs": [],
   "source": [
    "from NvTK.Explainer import get_activate_W_from_fmap"
   ]
  },
  {
   "cell_type": "code",
   "execution_count": null,
   "id": "3bd79035-cda5-489b-9490-14dc4940939d",
   "metadata": {},
   "outputs": [],
   "source": [
    "W= get_activate_W_from_fmap(fmap, X, pool=1, threshold=0.9, motif_width=7,pad=3)\n",
    "W.shape"
   ]
  },
  {
   "cell_type": "code",
   "execution_count": null,
   "id": "ecd92b43-ed69-4ce5-bf2c-cd7bfe63f0ef",
   "metadata": {},
   "outputs": [],
   "source": [
    "from NvTK.Explainer.MotifVisualize import plot_filter_heatmap,filter_heatmap\n",
    "import  matplotlib\n",
    "import matplotlib.pyplot as plt\n",
    "from mpl_toolkits.axes_grid1 import make_axes_locatable\n",
    "plot_filter_heatmap(W, factor=None, fig_size=(10,4), save=False)"
   ]
  },
  {
   "cell_type": "code",
   "execution_count": null,
   "id": "75afe148-f9af-45e0-91db-d7929f9a8cb0",
   "metadata": {},
   "outputs": [],
   "source": [
    "meme_generate(W, output_file=\"./Motif/meme_conv1.txt\")"
   ]
  },
  {
   "cell_type": "code",
   "execution_count": null,
   "id": "92df7d58-e0d3-4135-bb9c-eebc73c4dbc1",
   "metadata": {},
   "outputs": [],
   "source": [
    "#calculate frequency"
   ]
  },
  {
   "cell_type": "code",
   "execution_count": null,
   "id": "fdc669ba-8161-4feb-9296-56f4bd83c66b",
   "metadata": {},
   "outputs": [],
   "source": [
    "from NvTK.Explainer.Motif import calc_frequency_W,calc_motif_IC,calc_motif_frequency"
   ]
  },
  {
   "cell_type": "code",
   "execution_count": null,
   "id": "a196a2ef-88d8-40f9-8fe4-f7d05746e6d9",
   "metadata": {},
   "outputs": [],
   "source": [
    "W_freq,W_IC = calc_frequency_W(W, background=0.25)"
   ]
  },
  {
   "cell_type": "code",
   "execution_count": null,
   "id": "9cc15a7b-76be-4c33-86d4-534f91bc3d6b",
   "metadata": {},
   "outputs": [],
   "source": [
    "len(W_freq)"
   ]
  },
  {
   "cell_type": "code",
   "execution_count": null,
   "id": "0734b443-2c55-440c-b68b-7ecd4ce62518",
   "metadata": {},
   "outputs": [],
   "source": [
    "W_freq[:5]"
   ]
  },
  {
   "cell_type": "code",
   "execution_count": null,
   "id": "0273abf6-1de3-4f31-86e2-025d20484f62",
   "metadata": {},
   "outputs": [],
   "source": [
    "pd.DataFrame({\"freq\":W_freq, \"IC\":W_IC}).to_csv(\"./Motif/W_IC_freq.csv\")"
   ]
  }
 ],
 "metadata": {
  "kernelspec": {
   "display_name": "scvi",
   "language": "python",
   "name": "scvi"
  },
  "language_info": {
   "codemirror_mode": {
    "name": "ipython",
    "version": 3
   },
   "file_extension": ".py",
   "mimetype": "text/x-python",
   "name": "python",
   "nbconvert_exporter": "python",
   "pygments_lexer": "ipython3",
   "version": "3.9.16"
  }
 },
 "nbformat": 4,
 "nbformat_minor": 5
}
