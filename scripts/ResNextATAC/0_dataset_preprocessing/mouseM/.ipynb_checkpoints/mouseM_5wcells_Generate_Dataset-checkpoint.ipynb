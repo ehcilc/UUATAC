{
 "cells": [
  {
   "cell_type": "code",
   "execution_count": null,
   "id": "e0c83813-668f-4df3-83bc-49a11c741d41",
   "metadata": {},
   "outputs": [],
   "source": [
    "import h5py\n",
    "import pysam\n",
    "\n",
    "import numpy as np\n",
    "import pandas as pd\n",
    "from scipy.sparse import coo_matrix,csc_matrix\n",
    "\n",
    "import seaborn as sns\n",
    "import matplotlib.pyplot as plt\n",
    "import scanpy as sc\n",
    "import os\n",
    "import anndata"
   ]
  },
  {
   "cell_type": "code",
   "execution_count": null,
   "id": "312c6356-e539-4ef7-87a3-34447fd27087",
   "metadata": {},
   "outputs": [],
   "source": [
    "DataDir = '/file/path/prefix/'\n",
    "positive_ad = sc.read(os.path.join(DataDir,'Mouse_Male_5wCells_15wPeaks.h5ad'))\n",
    "positive_ad"
   ]
  },
  {
   "cell_type": "code",
   "execution_count": null,
   "id": "42d5f1eb-2594-4179-99d2-eadcbb0b5b98",
   "metadata": {},
   "outputs": [],
   "source": [
    "#positive_ad.obs.to_csv('./obs.csv')"
   ]
  },
  {
   "cell_type": "code",
   "execution_count": null,
   "id": "cb727731-b8f4-426e-a719-f11a68c9cbc0",
   "metadata": {},
   "outputs": [],
   "source": [
    "A=positive_ad.X\n",
    "from numpy import count_nonzero\n",
    "from scipy.sparse import csr_matrix \n",
    "1-count_nonzero(A.toarray())/A.toarray().size"
   ]
  },
  {
   "cell_type": "code",
   "execution_count": null,
   "id": "bfd24f8e-3c94-403c-994e-fae1291e392c",
   "metadata": {},
   "outputs": [],
   "source": [
    "positive_ad.var_names"
   ]
  },
  {
   "cell_type": "code",
   "execution_count": null,
   "id": "e19e09da-b903-43e1-80a6-0feaddb402de",
   "metadata": {},
   "outputs": [],
   "source": [
    "#create negative sample matrix"
   ]
  },
  {
   "cell_type": "code",
   "execution_count": null,
   "id": "1a151689-d28e-40e0-9d6e-ecda64594069",
   "metadata": {},
   "outputs": [],
   "source": [
    "nega = csc_matrix(arg1=(50035,79214))\n",
    "nega = sc.AnnData(nega)"
   ]
  },
  {
   "cell_type": "code",
   "execution_count": null,
   "id": "f3175b89-05f2-4b3b-88cf-64a1618e1dcb",
   "metadata": {},
   "outputs": [],
   "source": [
    "nega.var_names"
   ]
  },
  {
   "cell_type": "code",
   "execution_count": null,
   "id": "af7c3dc9-c7fe-419d-a0ea-916870694a27",
   "metadata": {},
   "outputs": [],
   "source": [
    "nega_peak = pd.read_csv('./nega_malemus_0901_final.csv')\n",
    "nega_peak"
   ]
  },
  {
   "cell_type": "code",
   "execution_count": null,
   "id": "9acc640f-6031-4907-9971-9be553bff36c",
   "metadata": {},
   "outputs": [],
   "source": [
    "nega.var_names = nega_peak['windows_negative_subset'].values"
   ]
  },
  {
   "cell_type": "code",
   "execution_count": null,
   "id": "67c3b6fb-9a28-4530-8f03-559f8c171afd",
   "metadata": {},
   "outputs": [],
   "source": [
    "nega.var['features'] = nega.var_names"
   ]
  },
  {
   "cell_type": "code",
   "execution_count": null,
   "id": "174b2248-e9b2-4f84-9eb4-552c76664f45",
   "metadata": {},
   "outputs": [],
   "source": [
    "nega.obs_names = positive_ad.obs_names"
   ]
  },
  {
   "cell_type": "code",
   "execution_count": null,
   "id": "f7fadf91-a1e8-4188-81a5-45ed2068fc1b",
   "metadata": {},
   "outputs": [],
   "source": [
    "nega.obs"
   ]
  },
  {
   "cell_type": "code",
   "execution_count": null,
   "id": "a4a3a079-5efb-4468-a40e-a85e518f196e",
   "metadata": {},
   "outputs": [],
   "source": [
    "positive_ad.obs"
   ]
  },
  {
   "cell_type": "code",
   "execution_count": null,
   "id": "6128d6b1-edf9-41c2-8c55-a25a09fcc618",
   "metadata": {},
   "outputs": [],
   "source": [
    "positive_ad.shape, nega.shape"
   ]
  },
  {
   "cell_type": "code",
   "execution_count": null,
   "id": "26d8d31d-1ae6-485c-9ad6-248e2e7525aa",
   "metadata": {},
   "outputs": [],
   "source": [
    "merge_pos_nega = anndata.concat([positive_ad,nega],join='outer',axis = 1)\n",
    "merge_pos_nega"
   ]
  },
  {
   "cell_type": "code",
   "execution_count": null,
   "id": "54da8a4c-2cfe-4ab3-a73b-c1845b446e5f",
   "metadata": {},
   "outputs": [],
   "source": [
    "merge_pos_nega.var"
   ]
  },
  {
   "cell_type": "code",
   "execution_count": null,
   "id": "59b8ac0f-d9ab-46d9-866b-b4dedaceec17",
   "metadata": {},
   "outputs": [],
   "source": [
    "1.shuffle"
   ]
  },
  {
   "cell_type": "code",
   "execution_count": null,
   "id": "1bc72a45-d5d8-455f-8e26-d387c77ca2a7",
   "metadata": {
    "jp-MarkdownHeadingCollapsed": true,
    "tags": []
   },
   "outputs": [],
   "source": [
    "## shuffle ad.var\n",
    "import random\n",
    "\n",
    "def shuffleData(ad, seed=666):\n",
    "    random.seed(seed)\n",
    "    index = [i for i in range(len(ad.var))]\n",
    "    random.shuffle(index)\n",
    "    ad_shuffled = ad[:,index]\n",
    "    return ad_shuffled"
   ]
  },
  {
   "cell_type": "code",
   "execution_count": null,
   "id": "023b6fc2-bbfe-43b4-ae63-7306e0007ab3",
   "metadata": {},
   "outputs": [],
   "source": [
    "ad = shuffleData(merge_pos_nega)\n",
    "ad"
   ]
  },
  {
   "cell_type": "code",
   "execution_count": null,
   "id": "22ca2caa-280c-4efd-81b3-b139b114b7bb",
   "metadata": {},
   "outputs": [],
   "source": [
    "ad.var"
   ]
  },
  {
   "cell_type": "code",
   "execution_count": null,
   "id": "e4b3989d-1eb5-4aab-bf38-9434f5b3cb66",
   "metadata": {},
   "outputs": [],
   "source": [
    "feature = ad.var['features'].str.split(pat='-', n=-1, expand=True).rename(columns={0:'chr', 1:'start', 2:'end'}) \n",
    "feature['features'] = feature.chr+'-'+feature.start+'-'+feature.end\n",
    "feature"
   ]
  },
  {
   "cell_type": "code",
   "execution_count": null,
   "id": "1ac45074-7ae8-4003-b68c-009b577d4b9a",
   "metadata": {},
   "outputs": [],
   "source": [
    "ad.var['chr'] = feature['chr'].values\n",
    "ad.var['start'] = feature['start'].values\n",
    "ad.var['end'] = feature['end'].values"
   ]
  },
  {
   "cell_type": "code",
   "execution_count": null,
   "id": "c525dafe-9e4b-4577-b10c-0916e7df9f98",
   "metadata": {},
   "outputs": [],
   "source": [
    "peaks = ad.var.iloc[:,1:4]\n",
    "peaks"
   ]
  },
  {
   "cell_type": "code",
   "execution_count": null,
   "id": "032384e1-b59f-4c43-bcf9-354b01387ed6",
   "metadata": {},
   "outputs": [],
   "source": [
    "#one-hot"
   ]
  },
  {
   "cell_type": "code",
   "execution_count": null,
   "id": "7462e14b-d5ad-47aa-a983-7f6a4c9298df",
   "metadata": {},
   "outputs": [],
   "source": [
    "onehot_nuc = {'A':[1,0,0,0],\n",
    "            'C':[0,1,0,0],\n",
    "            'G':[0,0,1,0],\n",
    "            'T':[0,0,0,1],\n",
    "            'N':[0,0,0,0]}\n",
    "            \n",
    "def _onehot_seq(seq):\n",
    "    return np.array([onehot_nuc[nuc] for nuc in str(seq).upper()])"
   ]
  },
  {
   "cell_type": "code",
   "execution_count": null,
   "id": "1cd4dc97-11be-4004-8b01-9bc3e8d0835a",
   "metadata": {},
   "outputs": [],
   "source": [
    "# genome\n",
    "genome = pysam.Fastafile('/file/path/prefix/ref/mm10/mm10.fa')\n",
    "genome"
   ]
  },
  {
   "cell_type": "code",
   "execution_count": null,
   "id": "cf1878bf-055b-4f1a-b08a-bcda512c3677",
   "metadata": {},
   "outputs": [],
   "source": [
    "from tqdm import tqdm"
   ]
  },
  {
   "cell_type": "code",
   "execution_count": null,
   "id": "3603d579-4bf2-4835-8042-e3be8cfb6f5c",
   "metadata": {},
   "outputs": [],
   "source": [
    "seq_onehot = []\n",
    "\n",
    "for peak in tqdm(peaks.values):\n",
    "    seqnames, start, end = peak[:3]\n",
    "    #chrom = str(seqnames.replace(\"chr\",\"\"))\n",
    "    start, end = int(start), int(end)\n",
    "    chrom = seqnames\n",
    "    # catch overflowed error\n",
    "    chrom_size = genome.get_reference_length(chrom)\n",
    "    if end >= chrom_size:\n",
    "        print(peak[-1])\n",
    "        pad = 'N' * (end - chrom_size) # pad N\n",
    "        end = chrom_size\n",
    "    # fetch sequence \n",
    "    seq = genome.fetch(reference=chrom, start=start, end=end)\n",
    "    # pad N\n",
    "    if start + 500 > chrom_size:\n",
    "        seq += pad\n",
    "    # onehot    \n",
    "    seq = _onehot_seq(seq)\n",
    "    seq_onehot.append(seq)\n",
    "\n",
    "seq_onehot = np.array(seq_onehot, dtype=np.bool)\n",
    "genome.close()\n",
    "\n",
    "seq_onehot.shape"
   ]
  },
  {
   "cell_type": "code",
   "execution_count": null,
   "id": "5b4e3836-a9f1-4ebf-8745-0b5485e26ab8",
   "metadata": {},
   "outputs": [],
   "source": [
    "#.Split train/valid/test data"
   ]
  },
  {
   "cell_type": "code",
   "execution_count": null,
   "id": "8b1e2087-396f-45d8-9be0-2e415506e73e",
   "metadata": {},
   "outputs": [],
   "source": [
    "from sklearn.model_selection import train_test_split"
   ]
  },
  {
   "cell_type": "code",
   "execution_count": null,
   "id": "8031a66f-b771-4be5-a79c-12cbae7ee6d2",
   "metadata": {},
   "outputs": [],
   "source": [
    "idx = peaks.index.values\n",
    "mask = peaks.chr.astype(str) == 'chr8'\n",
    "\n",
    "test_idx = idx[mask]\n",
    "train_val_idx = idx[~mask]\n",
    "\n",
    "train_idx, val_idx = train_test_split(train_val_idx, test_size=0.1)\n",
    "\n",
    "train_idx.shape, val_idx.shape, test_idx.shape"
   ]
  },
  {
   "cell_type": "code",
   "execution_count": null,
   "id": "e61e84d6-a921-4a44-a8b9-69d60a343fc6",
   "metadata": {},
   "outputs": [],
   "source": [
    "peaks['train_test_split'] = \"train\"\n",
    "peaks.loc[train_idx, 'train_test_split'] = \"train\"\n",
    "peaks.loc[val_idx, 'train_test_split'] = \"val\"\n",
    "peaks.loc[test_idx, 'train_test_split'] = \"test\"\n",
    "\n",
    "peaks.head()"
   ]
  },
  {
   "cell_type": "code",
   "execution_count": null,
   "id": "ac95ac7c-1504-4432-b37c-1de363d69fef",
   "metadata": {},
   "outputs": [],
   "source": [
    "# create coordinate sparse matrix\n",
    "pmat_co = coo_matrix(ad.X.T)"
   ]
  },
  {
   "cell_type": "code",
   "execution_count": null,
   "id": "9ff6e616-cae4-4677-b2f1-e2ecc187b34b",
   "metadata": {},
   "outputs": [],
   "source": [
    "pmat_co.shape"
   ]
  },
  {
   "cell_type": "code",
   "execution_count": null,
   "id": "53644c41-889b-417f-8c78-bf9cbc2627a5",
   "metadata": {},
   "outputs": [],
   "source": [
    "## 5.Write\n",
    "compress_args = {'compression': 'gzip', 'compression_opts': 1}\n",
    "\n",
    "h5file = h5py.File('malemus_5wCells_15wPeaks_7wnegative.shuffled.noimpute.500bp.20230901.final.h5', 'a')\n",
    "h5file.create_dataset(\"pmat/X\", data=seq_onehot, dtype=bool, **compress_args)\n",
    "h5file.create_dataset(\"pmat/peak\", data=peaks.values.astype(np.bytes_), **compress_args)\n",
    "\n",
    "# h5file.create_dataset(\"pmat/pmat_sc/y\", data=y, dtype=np.float32, **compress_args)\n",
    "h5file.create_dataset(\"pmat/pmat_sc/i\", data=pmat_co.row, dtype=np.int32, **compress_args)\n",
    "h5file.create_dataset(\"pmat/pmat_sc/j\", data=pmat_co.col, dtype=np.int32, **compress_args)\n",
    "h5file.create_dataset(\"pmat/pmat_sc/x\", data=pmat_co.data, dtype=np.int32, **compress_args)\n",
    "h5file.create_dataset(\"pmat/pmat_sc/dim\", data=pmat_co.shape, dtype=np.int32, **compress_args)\n",
    "\n",
    "# h5file.create_dataset(\"cellanno\", data=anno.values.astype(np.bytes_), **compress_args)\n",
    "\n",
    "h5file.close()"
   ]
  }
 ],
 "metadata": {
  "kernelspec": {
   "display_name": "Python 3 (ipykernel)",
   "language": "python",
   "name": "python3"
  },
  "language_info": {
   "codemirror_mode": {
    "name": "ipython",
    "version": 3
   },
   "file_extension": ".py",
   "mimetype": "text/x-python",
   "name": "python",
   "nbconvert_exporter": "python",
   "pygments_lexer": "ipython3",
   "version": "3.9.12"
  }
 },
 "nbformat": 4,
 "nbformat_minor": 5
}
