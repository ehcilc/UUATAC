{
 "cells": [
  {
   "cell_type": "code",
   "execution_count": null,
   "id": "360baa31-8e8e-4f20-8d19-60f1d807f5a2",
   "metadata": {},
   "outputs": [],
   "source": [
    "import h5py\n",
    "import pysam\n",
    "\n",
    "import numpy as np\n",
    "import pandas as pd\n",
    "from scipy.sparse import coo_matrix,csc_matrix\n",
    "\n",
    "import seaborn as sns\n",
    "import matplotlib.pyplot as plt\n",
    "import scanpy as sc\n",
    "import os\n",
    "import anndata"
   ]
  },
  {
   "cell_type": "code",
   "execution_count": null,
   "id": "1960f7f7-0f03-436c-bb79-df9e67aabfd0",
   "metadata": {},
   "outputs": [],
   "source": [
    "DataDir = '/file/path/prefix/'\n",
    "positive_ad = sc.read(os.path.join(DataDir,'Axolotl_5wCells_8wPeaks.h5ad'))\n",
    "positive_ad"
   ]
  },
  {
   "cell_type": "code",
   "execution_count": null,
   "id": "48518c47-91bf-43db-a696-b5f059f8bcde",
   "metadata": {},
   "outputs": [],
   "source": [
    "A=positive_ad.X\n",
    "from numpy import count_nonzero\n",
    "from scipy.sparse import csr_matrix \n",
    "1-count_nonzero(A.toarray())/A.toarray().size"
   ]
  },
  {
   "cell_type": "code",
   "execution_count": null,
   "id": "893f7f11-a85c-4499-87ac-8846fd4261f7",
   "metadata": {},
   "outputs": [],
   "source": [
    "positive_ad.var_names"
   ]
  },
  {
   "cell_type": "code",
   "execution_count": null,
   "id": "7047848c-f0d8-4ba3-9efd-be73c0984a22",
   "metadata": {},
   "outputs": [],
   "source": [
    "positive_peak=positive_ad.var_names"
   ]
  },
  {
   "cell_type": "code",
   "execution_count": null,
   "id": "ae0dec24-63ba-40a6-b42b-a0cb214967fc",
   "metadata": {},
   "outputs": [],
   "source": [
    "positive_peak=pd.DataFrame({'peak':positive_peak})"
   ]
  },
  {
   "cell_type": "code",
   "execution_count": null,
   "id": "26ab5226-f902-4922-ab84-767938a6ec6c",
   "metadata": {},
   "outputs": [],
   "source": [
    "positive_peak.to_csv('postive_peak.csv')"
   ]
  },
  {
   "cell_type": "code",
   "execution_count": null,
   "id": "c75dc4cc-3762-412e-879f-7b5c1dbfe7eb",
   "metadata": {},
   "outputs": [],
   "source": [
    "positive_peak_new=pd.read_csv('./postive_peak_new.csv')\n",
    "positive_peak_new"
   ]
  },
  {
   "cell_type": "code",
   "execution_count": null,
   "id": "5a41c66d-895b-4ab4-ac09-e5212fb7f4c0",
   "metadata": {},
   "outputs": [],
   "source": [
    "positive_ad.var_names=positive_peak_new['peak']\n",
    "positive_ad.var_names"
   ]
  },
  {
   "cell_type": "code",
   "execution_count": null,
   "id": "43ba7fb8-8867-4a12-b1b3-b14683888595",
   "metadata": {},
   "outputs": [],
   "source": [
    "positive_ad.var['features']"
   ]
  },
  {
   "cell_type": "code",
   "execution_count": null,
   "id": "4c203618-ea1b-4d66-9341-d61ed7678cf8",
   "metadata": {},
   "outputs": [],
   "source": [
    "positive_ad.var['features'] = positive_ad.var_names"
   ]
  },
  {
   "cell_type": "code",
   "execution_count": null,
   "id": "c4b21d1f-d2f5-492b-b2d1-90cb55246168",
   "metadata": {},
   "outputs": [],
   "source": [
    "#create negative sample matrix"
   ]
  },
  {
   "cell_type": "code",
   "execution_count": null,
   "id": "23d16c0e-520e-4d40-b2f5-966546575021",
   "metadata": {},
   "outputs": [],
   "source": [
    "nega = csc_matrix(arg1=(50025,41318))\n",
    "nega = sc.AnnData(nega)"
   ]
  },
  {
   "cell_type": "code",
   "execution_count": null,
   "id": "6bed1f9b-1c67-451a-ab4c-a3090d4fc3f0",
   "metadata": {},
   "outputs": [],
   "source": [
    "nega.X.toarray()"
   ]
  },
  {
   "cell_type": "code",
   "execution_count": null,
   "id": "390e7b62-acdc-410f-96e7-e648bd525e4a",
   "metadata": {},
   "outputs": [],
   "source": [
    "nega.var_names"
   ]
  },
  {
   "cell_type": "code",
   "execution_count": null,
   "id": "4df1cb23-353d-4b06-8274-b796f320ecbe",
   "metadata": {},
   "outputs": [],
   "source": [
    "nega_peak = pd.read_csv('./nega_ax.csv')\n",
    "nega_peak"
   ]
  },
  {
   "cell_type": "code",
   "execution_count": null,
   "id": "5af6d291-76ab-4a95-8706-1e49cf0e4d1d",
   "metadata": {},
   "outputs": [],
   "source": [
    "nega.var_names = nega_peak['windows_negative_peak'].values"
   ]
  },
  {
   "cell_type": "code",
   "execution_count": null,
   "id": "139cb1ac-0147-45a6-8755-24341e13c25a",
   "metadata": {},
   "outputs": [],
   "source": [
    "nega.var['features'] = nega.var_names"
   ]
  },
  {
   "cell_type": "code",
   "execution_count": null,
   "id": "a41709c5-3671-4822-af3e-7606851a7f52",
   "metadata": {},
   "outputs": [],
   "source": [
    "nega.obs_names = positive_ad.obs_names"
   ]
  },
  {
   "cell_type": "code",
   "execution_count": null,
   "id": "8de122a2-dbb4-40fb-b713-889b9ff42693",
   "metadata": {},
   "outputs": [],
   "source": [
    "nega.obs"
   ]
  },
  {
   "cell_type": "code",
   "execution_count": null,
   "id": "07c3cebb-66d1-4eb8-8369-d146672e4781",
   "metadata": {},
   "outputs": [],
   "source": [
    "positive_ad.obs"
   ]
  },
  {
   "cell_type": "code",
   "execution_count": null,
   "id": "e8f60d21-f766-43e7-9651-8a3367eb984b",
   "metadata": {},
   "outputs": [],
   "source": [
    "positive_ad.shape, nega.shape"
   ]
  },
  {
   "cell_type": "code",
   "execution_count": null,
   "id": "948cee63-0048-42ce-a76b-36695c20cceb",
   "metadata": {},
   "outputs": [],
   "source": [
    "merge_pos_nega = anndata.concat([positive_ad,nega],join='outer',axis = 1)\n",
    "merge_pos_nega"
   ]
  },
  {
   "cell_type": "code",
   "execution_count": null,
   "id": "6a4a4414-381d-4fb9-8959-f4d642e7f111",
   "metadata": {},
   "outputs": [],
   "source": [
    "merge_pos_nega.var"
   ]
  },
  {
   "cell_type": "code",
   "execution_count": null,
   "id": "0cd9b46d-3976-4341-938c-2bf8ed407237",
   "metadata": {},
   "outputs": [],
   "source": [
    "1.shuffle"
   ]
  },
  {
   "cell_type": "code",
   "execution_count": null,
   "id": "f88e2b7d-0387-40d4-989a-6425bc93d081",
   "metadata": {},
   "outputs": [],
   "source": [
    "## shuffle ad.var\n",
    "import random\n",
    "\n",
    "def shuffleData(ad, seed=666):\n",
    "    random.seed(seed)\n",
    "    index = [i for i in range(len(ad.var))]\n",
    "    random.shuffle(index)\n",
    "    ad_shuffled = ad[:,index]\n",
    "    return ad_shuffled"
   ]
  },
  {
   "cell_type": "code",
   "execution_count": null,
   "id": "9c0442dc-32fa-4217-8d01-13ddd9ded8d7",
   "metadata": {},
   "outputs": [],
   "source": [
    "ad = shuffleData(merge_pos_nega)\n",
    "ad"
   ]
  },
  {
   "cell_type": "code",
   "execution_count": null,
   "id": "f56304df-1172-46f1-895b-4a67c12d12fb",
   "metadata": {},
   "outputs": [],
   "source": [
    "ad.var"
   ]
  },
  {
   "cell_type": "code",
   "execution_count": null,
   "id": "5591abe8-2865-49c5-96e3-a582d503d0da",
   "metadata": {},
   "outputs": [],
   "source": [
    "feature = ad.var['features'].str.split(pat='-', n=-1, expand=True).rename(columns={0:'chr', 1:'start', 2:'end'}) \n",
    "feature['features'] = feature.chr+'-'+feature.start+'-'+feature.end\n",
    "feature"
   ]
  },
  {
   "cell_type": "code",
   "execution_count": null,
   "id": "35dee8e7-be9b-4b23-961c-8f0293ea1253",
   "metadata": {},
   "outputs": [],
   "source": [
    "ad.var['chr'] = feature['chr'].values\n",
    "ad.var['start'] = feature['start'].values\n",
    "ad.var['end'] = feature['end'].values"
   ]
  },
  {
   "cell_type": "code",
   "execution_count": null,
   "id": "b61be249-b54b-4a67-a016-e3de026f83d1",
   "metadata": {},
   "outputs": [],
   "source": [
    "peaks = ad.var.iloc[:,1:4]\n",
    "peaks"
   ]
  },
  {
   "cell_type": "code",
   "execution_count": null,
   "id": "f7487f61-1946-469a-9a96-7b30342f6c2a",
   "metadata": {},
   "outputs": [],
   "source": [
    "#one-hot"
   ]
  },
  {
   "cell_type": "code",
   "execution_count": null,
   "id": "fe4ee1a0-ab1f-4241-98d8-2991860fb01e",
   "metadata": {},
   "outputs": [],
   "source": [
    "onehot_nuc = {'A':[1,0,0,0],\n",
    "            'C':[0,1,0,0],\n",
    "            'G':[0,0,1,0],\n",
    "            'T':[0,0,0,1],\n",
    "            'N':[0,0,0,0]}\n",
    "            \n",
    "def _onehot_seq(seq):\n",
    "    return np.array([onehot_nuc[nuc] for nuc in str(seq).upper()])"
   ]
  },
  {
   "cell_type": "code",
   "execution_count": null,
   "id": "9123086a-d1b6-4f2c-b43c-62ecdf5e3d11",
   "metadata": {},
   "outputs": [],
   "source": [
    "# genome\n",
    "genome = pysam.Fastafile('/file/path/prefix/ref/AmexG_v6/AmexG_ArchR_merge.fa')\n",
    "genome"
   ]
  },
  {
   "cell_type": "code",
   "execution_count": null,
   "id": "a9e88f45-b81c-4777-a495-ea3c75750d47",
   "metadata": {},
   "outputs": [],
   "source": [
    "from tqdm import tqdm"
   ]
  },
  {
   "cell_type": "code",
   "execution_count": null,
   "id": "7c5c8e88-8e2b-4de7-b0af-a301b1800150",
   "metadata": {},
   "outputs": [],
   "source": [
    "peaks"
   ]
  },
  {
   "cell_type": "code",
   "execution_count": null,
   "id": "1b3ee0db-2356-4f84-8208-6efae94e166b",
   "metadata": {},
   "outputs": [],
   "source": [
    "seq_onehot = []\n",
    "\n",
    "for peak in tqdm(peaks.values):\n",
    "    seqnames, start, end = peak[:3]\n",
    "    #chrom = str(seqnames.replace(\"chr\",\"\"))\n",
    "    start, end = int(start), int(end)\n",
    "    chrom = seqnames\n",
    "    # catch overflowed error\n",
    "    chrom_size = genome.get_reference_length(chrom)\n",
    "    if end >= chrom_size:\n",
    "        print(peak[-1])\n",
    "        pad = 'N' * (end - chrom_size) # pad N\n",
    "        end = chrom_size\n",
    "    # fetch sequence \n",
    "    seq = genome.fetch(reference=chrom, start=start, end=end)\n",
    "    # pad N\n",
    "    if start + 500 > chrom_size:\n",
    "        seq += pad\n",
    "    # onehot    \n",
    "    seq = _onehot_seq(seq)\n",
    "    seq_onehot.append(seq)\n",
    "\n",
    "seq_onehot = np.array(seq_onehot, dtype=np.bool)\n",
    "genome.close()\n",
    "\n",
    "seq_onehot.shape"
   ]
  },
  {
   "cell_type": "code",
   "execution_count": null,
   "id": "7ab0cc9d-4f74-4d6b-a2a5-715edd21dcbe",
   "metadata": {},
   "outputs": [],
   "source": [
    "#.Split train/valid/test data"
   ]
  },
  {
   "cell_type": "code",
   "execution_count": null,
   "id": "86545933-fcd2-4160-9746-32babbe54208",
   "metadata": {},
   "outputs": [],
   "source": [
    "from sklearn.model_selection import train_test_split"
   ]
  },
  {
   "cell_type": "code",
   "execution_count": null,
   "id": "7ec5fe4c-0ef4-4323-9bb3-2a196952c2f3",
   "metadata": {},
   "outputs": [],
   "source": [
    "peaks.chr.astype(str).values"
   ]
  },
  {
   "cell_type": "code",
   "execution_count": null,
   "id": "7db07a22-28e5-4e6b-8ed0-6bca375ddced",
   "metadata": {},
   "outputs": [],
   "source": [
    "idx = peaks.index.values\n",
    "mask = peaks['chr'].isin(['chr8p_1','chr8p_2','chr8q_1','chr8q_2'])\n",
    "\n",
    "test_idx = idx[mask]\n",
    "train_val_idx = idx[~mask]\n",
    "\n",
    "train_idx, val_idx = train_test_split(train_val_idx, test_size=0.1)\n",
    "\n",
    "train_idx.shape, val_idx.shape, test_idx.shape"
   ]
  },
  {
   "cell_type": "code",
   "execution_count": null,
   "id": "e4b34de3-697a-42d3-a876-d0d4f372fd45",
   "metadata": {},
   "outputs": [],
   "source": [
    "peaks['train_test_split'] = \"train\"\n",
    "peaks.loc[train_idx, 'train_test_split'] = \"train\"\n",
    "peaks.loc[val_idx, 'train_test_split'] = \"val\"\n",
    "peaks.loc[test_idx, 'train_test_split'] = \"test\"\n",
    "\n",
    "peaks.head()"
   ]
  },
  {
   "cell_type": "code",
   "execution_count": null,
   "id": "5415ee5e-063e-4ef7-885a-d224e7590bd3",
   "metadata": {},
   "outputs": [],
   "source": [
    "# create coordinate sparse matrix\n",
    "pmat_co = coo_matrix(ad.X.T)"
   ]
  },
  {
   "cell_type": "code",
   "execution_count": null,
   "id": "74d729ef-b3f3-4ae6-bd0b-9ed41c2ee517",
   "metadata": {},
   "outputs": [],
   "source": [
    "pmat_co.shape"
   ]
  },
  {
   "cell_type": "code",
   "execution_count": null,
   "id": "08f29485-4ede-46e9-9b75-4c6903c64e7b",
   "metadata": {},
   "outputs": [],
   "source": [
    "## 5.Write\n",
    "compress_args = {'compression': 'gzip', 'compression_opts': 1}\n",
    "\n",
    "h5file = h5py.File('Axolotl_5wCells_8wPeaks_4wnegative.shuffled.noimpute.500bp.20230904.h5', 'a')\n",
    "h5file.create_dataset(\"pmat/X\", data=seq_onehot, dtype=bool, **compress_args)\n",
    "h5file.create_dataset(\"pmat/peak\", data=peaks.values.astype(np.bytes_), **compress_args)\n",
    "\n",
    "# h5file.create_dataset(\"pmat/pmat_sc/y\", data=y, dtype=np.float32, **compress_args)\n",
    "h5file.create_dataset(\"pmat/pmat_sc/i\", data=pmat_co.row, dtype=np.int32, **compress_args)\n",
    "h5file.create_dataset(\"pmat/pmat_sc/j\", data=pmat_co.col, dtype=np.int32, **compress_args)\n",
    "h5file.create_dataset(\"pmat/pmat_sc/x\", data=pmat_co.data, dtype=np.int32, **compress_args)\n",
    "h5file.create_dataset(\"pmat/pmat_sc/dim\", data=pmat_co.shape, dtype=np.int32, **compress_args)\n",
    "\n",
    "# h5file.create_dataset(\"cellanno\", data=anno.values.astype(np.bytes_), **compress_args)\n",
    "\n",
    "h5file.close()"
   ]
  }
 ],
 "metadata": {
  "kernelspec": {
   "display_name": "Python 3 (ipykernel)",
   "language": "python",
   "name": "python3"
  },
  "language_info": {
   "codemirror_mode": {
    "name": "ipython",
    "version": 3
   },
   "file_extension": ".py",
   "mimetype": "text/x-python",
   "name": "python",
   "nbconvert_exporter": "python",
   "pygments_lexer": "ipython3",
   "version": "3.9.12"
  }
 },
 "nbformat": 4,
 "nbformat_minor": 5
}
