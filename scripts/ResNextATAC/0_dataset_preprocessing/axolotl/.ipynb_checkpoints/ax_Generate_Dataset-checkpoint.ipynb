{
 "cells": [
  {
   "cell_type": "code",
   "execution_count": 1,
   "id": "a48f84c3-2ff3-4d6b-8171-cb5edc74ed91",
   "metadata": {},
   "outputs": [],
   "source": [
    "import h5py\n",
    "import pysam\n",
    "\n",
    "import numpy as np\n",
    "import pandas as pd\n",
    "from scipy.sparse import coo_matrix,csc_matrix\n",
    "\n",
    "import seaborn as sns\n",
    "import matplotlib.pyplot as plt\n",
    "import scanpy as sc\n",
    "import os\n",
    "import anndata"
   ]
  },
  {
   "cell_type": "code",
   "execution_count": 2,
   "id": "f392944c-6bd7-40fc-8214-f5df3b679709",
   "metadata": {},
   "outputs": [
    {
     "data": {
      "text/plain": [
       "AnnData object with n_obs × n_vars = 50025 × 82637\n",
       "    obs: 'orig.ident', 'nCount_RNA', 'nFeature_RNA'\n",
       "    var: 'features'"
      ]
     },
     "execution_count": 2,
     "metadata": {},
     "output_type": "execute_result"
    }
   ],
   "source": [
    "DataDir = '/media/ggj/Guo-4T-AI/FYT/UU/CodeTest/20230724_negative/axolotl_new/'\n",
    "positive_ad = sc.read(os.path.join(DataDir,'Axolotl_5wCells_8wPeaks_0904.h5ad'))\n",
    "positive_ad"
   ]
  },
  {
   "cell_type": "code",
   "execution_count": 3,
   "id": "ff9292e5-ab72-4ef8-94fe-ccc0594c2484",
   "metadata": {},
   "outputs": [
    {
     "data": {
      "text/plain": [
       "0.974521562627087"
      ]
     },
     "execution_count": 3,
     "metadata": {},
     "output_type": "execute_result"
    }
   ],
   "source": [
    "A=positive_ad.X\n",
    "from numpy import count_nonzero\n",
    "from scipy.sparse import csr_matrix \n",
    "1-count_nonzero(A.toarray())/A.toarray().size"
   ]
  },
  {
   "cell_type": "code",
   "execution_count": 4,
   "id": "fa61f8cd-e8bb-4741-929b-b28c18970a34",
   "metadata": {},
   "outputs": [
    {
     "data": {
      "text/plain": [
       "Index(['chr10p-1-95282-95782', 'chr10p-1-273325-273825',\n",
       "       'chr10p-1-769540-770040', 'chr10p-1-770095-770595',\n",
       "       'chr10p-1-1249389-1249889', 'chr10p-1-1250151-1250651',\n",
       "       'chr10p-1-1339805-1340305', 'chr10p-1-1731114-1731614',\n",
       "       'chr10p-1-1843707-1844207', 'chr10p-1-1874265-1874765',\n",
       "       ...\n",
       "       'chr9q-2-499746867-499747367', 'chr9q-2-499857998-499858498',\n",
       "       'chr9q-2-499874394-499874894', 'chr9q-2-499890471-499890971',\n",
       "       'chr9q-2-500209346-500209846', 'chr9q-2-500618405-500618905',\n",
       "       'chr9q-2-500618921-500619421', 'chr9q-2-500619794-500620294',\n",
       "       'chr9q-2-501052128-501052628', 'chr9q-2-501052695-501053195'],\n",
       "      dtype='object', length=82637)"
      ]
     },
     "execution_count": 4,
     "metadata": {},
     "output_type": "execute_result"
    }
   ],
   "source": [
    "positive_ad.var_names"
   ]
  },
  {
   "cell_type": "code",
   "execution_count": 5,
   "id": "c85ee940-a049-484e-9788-1b81f86682c2",
   "metadata": {},
   "outputs": [],
   "source": [
    "positive_peak=positive_ad.var_names"
   ]
  },
  {
   "cell_type": "code",
   "execution_count": 6,
   "id": "579fd704-ec93-42c8-804d-6826c7c44a6d",
   "metadata": {},
   "outputs": [],
   "source": [
    "positive_peak=pd.DataFrame({'peak':positive_peak})"
   ]
  },
  {
   "cell_type": "code",
   "execution_count": 7,
   "id": "79cac65c-bef7-452c-9d91-607feb86c194",
   "metadata": {},
   "outputs": [],
   "source": [
    "positive_peak.to_csv('postive_peak.csv')"
   ]
  },
  {
   "cell_type": "code",
   "execution_count": 8,
   "id": "e620d128-5556-4079-a18a-ae732a4deacb",
   "metadata": {},
   "outputs": [
    {
     "data": {
      "text/html": [
       "<div>\n",
       "<style scoped>\n",
       "    .dataframe tbody tr th:only-of-type {\n",
       "        vertical-align: middle;\n",
       "    }\n",
       "\n",
       "    .dataframe tbody tr th {\n",
       "        vertical-align: top;\n",
       "    }\n",
       "\n",
       "    .dataframe thead th {\n",
       "        text-align: right;\n",
       "    }\n",
       "</style>\n",
       "<table border=\"1\" class=\"dataframe\">\n",
       "  <thead>\n",
       "    <tr style=\"text-align: right;\">\n",
       "      <th></th>\n",
       "      <th>V1</th>\n",
       "      <th>peak</th>\n",
       "    </tr>\n",
       "  </thead>\n",
       "  <tbody>\n",
       "    <tr>\n",
       "      <th>0</th>\n",
       "      <td>0</td>\n",
       "      <td>chr10p_1-95282-95782</td>\n",
       "    </tr>\n",
       "    <tr>\n",
       "      <th>1</th>\n",
       "      <td>1</td>\n",
       "      <td>chr10p_1-273325-273825</td>\n",
       "    </tr>\n",
       "    <tr>\n",
       "      <th>2</th>\n",
       "      <td>2</td>\n",
       "      <td>chr10p_1-769540-770040</td>\n",
       "    </tr>\n",
       "    <tr>\n",
       "      <th>3</th>\n",
       "      <td>3</td>\n",
       "      <td>chr10p_1-770095-770595</td>\n",
       "    </tr>\n",
       "    <tr>\n",
       "      <th>4</th>\n",
       "      <td>4</td>\n",
       "      <td>chr10p_1-1249389-1249889</td>\n",
       "    </tr>\n",
       "    <tr>\n",
       "      <th>...</th>\n",
       "      <td>...</td>\n",
       "      <td>...</td>\n",
       "    </tr>\n",
       "    <tr>\n",
       "      <th>82632</th>\n",
       "      <td>82632</td>\n",
       "      <td>chr9q_2-500618405-500618905</td>\n",
       "    </tr>\n",
       "    <tr>\n",
       "      <th>82633</th>\n",
       "      <td>82633</td>\n",
       "      <td>chr9q_2-500618921-500619421</td>\n",
       "    </tr>\n",
       "    <tr>\n",
       "      <th>82634</th>\n",
       "      <td>82634</td>\n",
       "      <td>chr9q_2-500619794-500620294</td>\n",
       "    </tr>\n",
       "    <tr>\n",
       "      <th>82635</th>\n",
       "      <td>82635</td>\n",
       "      <td>chr9q_2-501052128-501052628</td>\n",
       "    </tr>\n",
       "    <tr>\n",
       "      <th>82636</th>\n",
       "      <td>82636</td>\n",
       "      <td>chr9q_2-501052695-501053195</td>\n",
       "    </tr>\n",
       "  </tbody>\n",
       "</table>\n",
       "<p>82637 rows × 2 columns</p>\n",
       "</div>"
      ],
      "text/plain": [
       "          V1                         peak\n",
       "0          0         chr10p_1-95282-95782\n",
       "1          1       chr10p_1-273325-273825\n",
       "2          2       chr10p_1-769540-770040\n",
       "3          3       chr10p_1-770095-770595\n",
       "4          4     chr10p_1-1249389-1249889\n",
       "...      ...                          ...\n",
       "82632  82632  chr9q_2-500618405-500618905\n",
       "82633  82633  chr9q_2-500618921-500619421\n",
       "82634  82634  chr9q_2-500619794-500620294\n",
       "82635  82635  chr9q_2-501052128-501052628\n",
       "82636  82636  chr9q_2-501052695-501053195\n",
       "\n",
       "[82637 rows x 2 columns]"
      ]
     },
     "execution_count": 8,
     "metadata": {},
     "output_type": "execute_result"
    }
   ],
   "source": [
    "positive_peak_new=pd.read_csv('./postive_peak_new.csv')\n",
    "positive_peak_new"
   ]
  },
  {
   "cell_type": "code",
   "execution_count": 9,
   "id": "47006d09-a410-4b84-bb74-0cfa17c7001f",
   "metadata": {},
   "outputs": [
    {
     "data": {
      "text/plain": [
       "Index(['chr10p_1-95282-95782', 'chr10p_1-273325-273825',\n",
       "       'chr10p_1-769540-770040', 'chr10p_1-770095-770595',\n",
       "       'chr10p_1-1249389-1249889', 'chr10p_1-1250151-1250651',\n",
       "       'chr10p_1-1339805-1340305', 'chr10p_1-1731114-1731614',\n",
       "       'chr10p_1-1843707-1844207', 'chr10p_1-1874265-1874765',\n",
       "       ...\n",
       "       'chr9q_2-499746867-499747367', 'chr9q_2-499857998-499858498',\n",
       "       'chr9q_2-499874394-499874894', 'chr9q_2-499890471-499890971',\n",
       "       'chr9q_2-500209346-500209846', 'chr9q_2-500618405-500618905',\n",
       "       'chr9q_2-500618921-500619421', 'chr9q_2-500619794-500620294',\n",
       "       'chr9q_2-501052128-501052628', 'chr9q_2-501052695-501053195'],\n",
       "      dtype='object', name='peak', length=82637)"
      ]
     },
     "execution_count": 9,
     "metadata": {},
     "output_type": "execute_result"
    }
   ],
   "source": [
    "positive_ad.var_names=positive_peak_new['peak']\n",
    "positive_ad.var_names"
   ]
  },
  {
   "cell_type": "code",
   "execution_count": 10,
   "id": "067c87c4-234d-4b14-8d54-874686c85e51",
   "metadata": {},
   "outputs": [
    {
     "data": {
      "text/plain": [
       "peak\n",
       "chr10p_1-95282-95782                  chr10p-1-95282-95782\n",
       "chr10p_1-273325-273825              chr10p-1-273325-273825\n",
       "chr10p_1-769540-770040              chr10p-1-769540-770040\n",
       "chr10p_1-770095-770595              chr10p-1-770095-770595\n",
       "chr10p_1-1249389-1249889          chr10p-1-1249389-1249889\n",
       "                                          ...             \n",
       "chr9q_2-500618405-500618905    chr9q-2-500618405-500618905\n",
       "chr9q_2-500618921-500619421    chr9q-2-500618921-500619421\n",
       "chr9q_2-500619794-500620294    chr9q-2-500619794-500620294\n",
       "chr9q_2-501052128-501052628    chr9q-2-501052128-501052628\n",
       "chr9q_2-501052695-501053195    chr9q-2-501052695-501053195\n",
       "Name: features, Length: 82637, dtype: object"
      ]
     },
     "execution_count": 10,
     "metadata": {},
     "output_type": "execute_result"
    }
   ],
   "source": [
    "positive_ad.var['features']"
   ]
  },
  {
   "cell_type": "code",
   "execution_count": 11,
   "id": "e820983d-18af-4562-92ca-17b0f1c4b1f2",
   "metadata": {},
   "outputs": [],
   "source": [
    "positive_ad.var['features'] = positive_ad.var_names"
   ]
  },
  {
   "cell_type": "code",
   "execution_count": 12,
   "id": "89b0f59c-abc5-4963-9dca-204b2c948298",
   "metadata": {},
   "outputs": [],
   "source": [
    "#create negative sample matrix"
   ]
  },
  {
   "cell_type": "code",
   "execution_count": 13,
   "id": "400ff9fc-f39e-4d2c-a4e7-cb88b151c9b8",
   "metadata": {},
   "outputs": [],
   "source": [
    "nega = csc_matrix(arg1=(50025,41318))\n",
    "nega = sc.AnnData(nega)"
   ]
  },
  {
   "cell_type": "code",
   "execution_count": 14,
   "id": "0aa9a713-41ac-41c5-8b04-4e942268709c",
   "metadata": {},
   "outputs": [
    {
     "data": {
      "text/plain": [
       "array([[0., 0., 0., ..., 0., 0., 0.],\n",
       "       [0., 0., 0., ..., 0., 0., 0.],\n",
       "       [0., 0., 0., ..., 0., 0., 0.],\n",
       "       ...,\n",
       "       [0., 0., 0., ..., 0., 0., 0.],\n",
       "       [0., 0., 0., ..., 0., 0., 0.],\n",
       "       [0., 0., 0., ..., 0., 0., 0.]])"
      ]
     },
     "execution_count": 14,
     "metadata": {},
     "output_type": "execute_result"
    }
   ],
   "source": [
    "nega.X.toarray()"
   ]
  },
  {
   "cell_type": "code",
   "execution_count": 15,
   "id": "c5cfd1b0-a009-4ea4-9c44-dbd526b2244a",
   "metadata": {},
   "outputs": [
    {
     "data": {
      "text/plain": [
       "Index(['0', '1', '2', '3', '4', '5', '6', '7', '8', '9',\n",
       "       ...\n",
       "       '41308', '41309', '41310', '41311', '41312', '41313', '41314', '41315',\n",
       "       '41316', '41317'],\n",
       "      dtype='object', length=41318)"
      ]
     },
     "execution_count": 15,
     "metadata": {},
     "output_type": "execute_result"
    }
   ],
   "source": [
    "nega.var_names"
   ]
  },
  {
   "cell_type": "code",
   "execution_count": 16,
   "id": "b3a08aab-4427-4f36-ac0e-90208467c571",
   "metadata": {},
   "outputs": [
    {
     "data": {
      "text/html": [
       "<div>\n",
       "<style scoped>\n",
       "    .dataframe tbody tr th:only-of-type {\n",
       "        vertical-align: middle;\n",
       "    }\n",
       "\n",
       "    .dataframe tbody tr th {\n",
       "        vertical-align: top;\n",
       "    }\n",
       "\n",
       "    .dataframe thead th {\n",
       "        text-align: right;\n",
       "    }\n",
       "</style>\n",
       "<table border=\"1\" class=\"dataframe\">\n",
       "  <thead>\n",
       "    <tr style=\"text-align: right;\">\n",
       "      <th></th>\n",
       "      <th>windows_negative_peak</th>\n",
       "    </tr>\n",
       "  </thead>\n",
       "  <tbody>\n",
       "    <tr>\n",
       "      <th>0</th>\n",
       "      <td>chr9p-324798099-324798599</td>\n",
       "    </tr>\n",
       "    <tr>\n",
       "      <th>1</th>\n",
       "      <td>chr3q_3-59912568-59913068</td>\n",
       "    </tr>\n",
       "    <tr>\n",
       "      <th>2</th>\n",
       "      <td>chr14p-42526346-42526846</td>\n",
       "    </tr>\n",
       "    <tr>\n",
       "      <th>3</th>\n",
       "      <td>chr11q_2-146518787-146519287</td>\n",
       "    </tr>\n",
       "    <tr>\n",
       "      <th>4</th>\n",
       "      <td>chr10p_1-208769970-208770470</td>\n",
       "    </tr>\n",
       "    <tr>\n",
       "      <th>...</th>\n",
       "      <td>...</td>\n",
       "    </tr>\n",
       "    <tr>\n",
       "      <th>41313</th>\n",
       "      <td>chr1q_3-89063227-89063727</td>\n",
       "    </tr>\n",
       "    <tr>\n",
       "      <th>41314</th>\n",
       "      <td>chr2q_3-421997983-421998483</td>\n",
       "    </tr>\n",
       "    <tr>\n",
       "      <th>41315</th>\n",
       "      <td>chr11q_3-189063795-189064295</td>\n",
       "    </tr>\n",
       "    <tr>\n",
       "      <th>41316</th>\n",
       "      <td>chr3p_1-185273258-185273758</td>\n",
       "    </tr>\n",
       "    <tr>\n",
       "      <th>41317</th>\n",
       "      <td>chr1q_1-462907342-462907842</td>\n",
       "    </tr>\n",
       "  </tbody>\n",
       "</table>\n",
       "<p>41318 rows × 1 columns</p>\n",
       "</div>"
      ],
      "text/plain": [
       "              windows_negative_peak\n",
       "0         chr9p-324798099-324798599\n",
       "1         chr3q_3-59912568-59913068\n",
       "2          chr14p-42526346-42526846\n",
       "3      chr11q_2-146518787-146519287\n",
       "4      chr10p_1-208769970-208770470\n",
       "...                             ...\n",
       "41313     chr1q_3-89063227-89063727\n",
       "41314   chr2q_3-421997983-421998483\n",
       "41315  chr11q_3-189063795-189064295\n",
       "41316   chr3p_1-185273258-185273758\n",
       "41317   chr1q_1-462907342-462907842\n",
       "\n",
       "[41318 rows x 1 columns]"
      ]
     },
     "execution_count": 16,
     "metadata": {},
     "output_type": "execute_result"
    }
   ],
   "source": [
    "nega_peak = pd.read_csv('./nega_ax.csv')\n",
    "nega_peak"
   ]
  },
  {
   "cell_type": "code",
   "execution_count": 17,
   "id": "7300871e-3a31-4928-a352-5cd43d4581f9",
   "metadata": {},
   "outputs": [],
   "source": [
    "nega.var_names = nega_peak['windows_negative_peak'].values"
   ]
  },
  {
   "cell_type": "code",
   "execution_count": 18,
   "id": "a57e8971-a04a-4945-a582-9d268954f693",
   "metadata": {},
   "outputs": [],
   "source": [
    "nega.var['features'] = nega.var_names"
   ]
  },
  {
   "cell_type": "code",
   "execution_count": 19,
   "id": "d348c40c-2637-4fef-bd18-c2c8b20071f7",
   "metadata": {},
   "outputs": [],
   "source": [
    "nega.obs_names = positive_ad.obs_names"
   ]
  },
  {
   "cell_type": "code",
   "execution_count": 20,
   "id": "e3eeb9c2-c1a0-48be-bff7-a36c91f1d232",
   "metadata": {},
   "outputs": [
    {
     "data": {
      "text/html": [
       "<div>\n",
       "<style scoped>\n",
       "    .dataframe tbody tr th:only-of-type {\n",
       "        vertical-align: middle;\n",
       "    }\n",
       "\n",
       "    .dataframe tbody tr th {\n",
       "        vertical-align: top;\n",
       "    }\n",
       "\n",
       "    .dataframe thead th {\n",
       "        text-align: right;\n",
       "    }\n",
       "</style>\n",
       "<table border=\"1\" class=\"dataframe\">\n",
       "  <thead>\n",
       "    <tr style=\"text-align: right;\">\n",
       "      <th></th>\n",
       "    </tr>\n",
       "  </thead>\n",
       "  <tbody>\n",
       "    <tr>\n",
       "      <th>Liver#col63_AGACGATGATACCATCCGAAACCGCCAACC</th>\n",
       "    </tr>\n",
       "    <tr>\n",
       "      <th>Pancreas#col57_CTCACAAGACACAGAGCCATAATTAAGACT</th>\n",
       "    </tr>\n",
       "    <tr>\n",
       "      <th>Intestine#col63_ACTTAGAATGCACAAGACCTAAGCCAGTTA</th>\n",
       "    </tr>\n",
       "    <tr>\n",
       "      <th>Kidney#col90_TCCAAGCCTGGATCACCAGACCAGTTCCAA</th>\n",
       "    </tr>\n",
       "    <tr>\n",
       "      <th>Pancreas#col58_TCGGAAGGCACAACTCGAACGCCATTCTCC</th>\n",
       "    </tr>\n",
       "    <tr>\n",
       "      <th>...</th>\n",
       "    </tr>\n",
       "    <tr>\n",
       "      <th>Limb#col102_AGACGATGATCATCCTAAGACATTCGACGG</th>\n",
       "    </tr>\n",
       "    <tr>\n",
       "      <th>Kidney#col85_AGACGATGATTAGAACACCGAAGAAGCTAG</th>\n",
       "    </tr>\n",
       "    <tr>\n",
       "      <th>Kidney#col97_CCGATGTCGCATAGAACGCCTCCGGCCTCG</th>\n",
       "    </tr>\n",
       "    <tr>\n",
       "      <th>Limb#col98_ACTTAGAATGTGACCACAATGCTGGAACTT</th>\n",
       "    </tr>\n",
       "    <tr>\n",
       "      <th>Kidney#col93_CTCACAAGACCAGGACCATAAAGAAGCTAG</th>\n",
       "    </tr>\n",
       "  </tbody>\n",
       "</table>\n",
       "<p>50025 rows × 0 columns</p>\n",
       "</div>"
      ],
      "text/plain": [
       "Empty DataFrame\n",
       "Columns: []\n",
       "Index: [Liver#col63_AGACGATGATACCATCCGAAACCGCCAACC, Pancreas#col57_CTCACAAGACACAGAGCCATAATTAAGACT, Intestine#col63_ACTTAGAATGCACAAGACCTAAGCCAGTTA, Kidney#col90_TCCAAGCCTGGATCACCAGACCAGTTCCAA, Pancreas#col58_TCGGAAGGCACAACTCGAACGCCATTCTCC, Pancreas#col77_AGACGATGATATGACACACCATCATATTAG, Bladder#col89_TCCAAGCCTGACGGAAGACTTGAGTCTGGC, Pancreas#col74_TGAAGCGTTGATAGCCACACATCATATTAG, Cloaca#col59_CTCACAAGACCAACGACCATAACCTGCGTA, Intestine#col73_CCGATGTCGCAACCGTAAGCAACCTGGTCT, Intestine#col68_TCCAAGCCTGATACACCAGCTCTTGCCGAC, Intestine#col74_AGACGATGATACATACCGCAAAGCCAGTTA, Pancreas#col57_AGACGATGATACAGAGCCATAATTAAGACT, Liver#col69_TCGGAAGGCAAACCGACACTTCTGATACCA, Stomach#col79_AGACGATGATCAATACAGCCCATTCAATCA, Intestine#col60_ACTTAGAATGAACCACGCATTCTTGCCGAC, Pancreas#col58_TGAAGCGTTGCTCAACGAACTTACCGAGGC, Pancreas#col63_TCCAAGCCTGGCACCTACAAATCATATTAG, Intestine#col60_TCCAAGCCTGCACAACATGCAAGACCGTTG, Cloaca#col69_CCGATGTCGCCACATCACAGAACCTGCGTA, Liver#col61_CCGATGTCGCCACGCAATACCCGATTCCTG, Stomach#col61_AGACGATGATATACACCAGCACGAAGTCAA, Cloaca#col80_AGACGATGATAGCCAGACTAAACTAGGCGC, Stomach#col64_CGTGCGATCCACTAGCACCAACGAAGTCAA, Stomach#col66_TCGGAAGGCACAACGAATCCCATTCGACGG, Intestine#col63_TCGGAAGGCACACAAGACCTAAGCCAGTTA, Cloaca#col73_AGACGATGATTACAGCCAACTAGCCGTCAT, Intestine#col59_AGACGATGATAATCAACCGCATCCATGACT, Pancreas#col77_AGACGATGATCACCACAGTATGGTCAGCCA, Pancreas#col60_CCGATGTCGCCAAGCTAACCTAGAATTAAC, Pancreas#col79_CGTGCGATCCTAGCACAAGCTAGAATTAAC, Cloaca#col73_TGAAGCGTTGAACGCCTCAATATATACTAA, Cloaca#col58_TGAAGCGTTGAAGCCTACCAAACCTGCGTA, Kidney#col84_CTCACAAGACAAGCGAACTGACCGCCAACC, Lung#col3_AGACGATGATACCATAGACCGCAGGTCCGT, Cloaca#col68_TCCAAGCCTGCACACGTAACCTAGTAGTCT, Cloaca#col79_CGTGCGATCCCTAACGACCAAACTAGGCGC, Intestine#col77_TCCAAGCCTGCACCAACATGCGCTCCTAAC, Cloaca#col63_AGACGATGATAACCGTAAGCTAGCCGTCAT, Intestine#col79_AGACGATGATACATACCGCAAAGACCGTTG, Intestine#col61_TGAAGCGTTGTAGCACAAGCAAGCCAGTTA, Brain#col91_TGAAGCGTTGACCAAGTAGCACTATGCAAT, Cloaca#col60_TGAAGCGTTGAACATCCAGGCGTAGTTACC, Cloaca#col67_CTCACAAGACTAAGCACCACAACCTGCGTA, Intestine#col64_CTCACAAGACAACCTGACACCGCTCCTAAC, Stomach#col80_CGTGCGATCCCAACCTCGAACATTCAATCA, Intestine#col65_TGAAGCGTTGAACGCCTCAAAAGACCGTTG, Kidney#col89_CTCACAAGACAGAACGTACCAGAGAAGGTT, Bladder#col83_TCGGAAGGCAATCAACTCAGCTAAGAGAAG, Cloaca#col71_TCCAAGCCTGTCCACAAGCAAATCGATAAT, Intestine#col70_AGACGATGATATAGCAGCCATCTTGCCGAC, Cloaca#col62_CCGATGTCGCCACCAACATGGGCAGACGCC, Intestine#col60_TGAAGCGTTGCGAACACATCAACCTGGTCT, Intestine#col57_CCGATGTCGCCCGAACTCAAAAGACCGTTG, Cloaca#col73_CCGATGTCGCTACAGCCAACTAGCCGTCAT, Liver#col72_TCGGAAGGCACGTAACCACAAGAACGTCTC, Cloaca#col79_TGAAGCGTTGGACACGACTATCCAATCATC, Pancreas#col57_ACTTAGAATGCACAACATGCATCATATTAG, Intestine#col57_CTCACAAGACTCACAGCAACTTCGCCTCCA, Cloaca#col64_TCGGAAGGCACAGAACTACCAACCTGCGTA, Stomach#col74_CTCACAAGACCGACCATCAAGGCTCTCTAT, Intestine#col79_AGACGATGATACTGCACCAAAAGCCAGTTA, Intestine#col64_CCGATGTCGCTACCGCAACAATCCATGACT, Lung#col14_AGACGATGATCTCCGAACAACATTCGACGG, Intestine#col61_TGAAGCGTTGAACGCCTCAAACCTGGCCAA, Intestine#col70_CCGATGTCGCATAGCAGCCATCTTGCCGAC, Intestine#col57_TCCAAGCCTGCCGCCAATAAATCCATGACT, Pancreas#col73_TCCAAGCCTGAACCACGCATATCATATTAG, Stomach#col58_CCGATGTCGCAGCCTACCAAACGAAGTCAA, Cloaca#col80_CTCACAAGACAGCCAGACTAAACTAGGCGC, Kidney#col94_TGAAGCGTTGTAGACGAACCCATACTCCGA, Intestine#col62_CTCACAAGACCACCAACATGAACCTGGTCT, Cloaca#col58_CGTGCGATCCATAGCAGCCAGGCAGACGCC, Lung#col42_CTCACAAGACCATACCGCAAAGGTTAGTTC, Intestine#col80_ACTTAGAATGAACGCCAACTAAGACCGTTG, Cloaca#col76_TCCAAGCCTGACCAATCACGTAGCCGTCAT, Pancreas#col75_ACTTAGAATGGCCACAACATCTTGCGCCGC, Intestine#col77_CGTGCGATCCCACCAACATGCGCTCCTAAC, Intestine#col68_ACTTAGAATGATACACCAGCTCTTGCCGAC, Stomach#col78_TCGGAAGGCAACCATCCGAACGGATTAGAA, Cloaca#col70_CGTGCGATCCCAAGCTAACCTAGCCGTCAT, Stomach#col59_ACTTAGAATGCAAGCTAACCGATCGCTTCT, Intestine#col60_CTCACAAGACGTCGAACCAAAGCTTATCCG, Cloaca#col71_TGAAGCGTTGACCTAGACAGAACTAGGCGC, Stomach#col64_ACTTAGAATGACTAGCACCAACGAAGTCAA, Intestine#col64_CGTGCGATCCTACCGCAACAATCCATGACT, Intestine#col74_TCGGAAGGCAACGTCCACAACATCTCTGCA, Cloaca#col66_CTCACAAGACAACCACGCATTAGCCGTCAT, Gill#col14_CCGATGTCGCAATCCAGACCAATACCATCC, Intestine#col57_ACTTAGAATGTCACAGCAACTTCGCCTCCA, Cloaca#col62_AGACGATGATCACCAACATGGGCAGACGCC, Cloaca#col74_TCGGAAGGCATACAGCCAACAACCATTGGA, Cloaca#col63_TCGGAAGGCACCGACCAATATAGCCGTCAT, Pancreas#col73_CTCACAAGACCACATACCGATTATTCATTC, Cloaca#col74_CGTGCGATCCTCAACCAGACAATCGATAAT, Intestine#col63_AGACGATGATAACCTGACACAAGACCGTTG, Cloaca#col78_ACTTAGAATGACCATAGACCTATATACTAA, Stomach#col61_TGAAGCGTTGATACACCAGCACGAAGTCAA, Cloaca#col78_CGTGCGATCCACCATAGACCTATATACTAA, Intestine#col64_TGAAGCGTTGGCACACAACTTCTTGCCGAC, ...]\n",
       "\n",
       "[50025 rows x 0 columns]"
      ]
     },
     "execution_count": 20,
     "metadata": {},
     "output_type": "execute_result"
    }
   ],
   "source": [
    "nega.obs"
   ]
  },
  {
   "cell_type": "code",
   "execution_count": 21,
   "id": "c02e295c-68aa-4622-a71e-3680b3240a6e",
   "metadata": {},
   "outputs": [
    {
     "data": {
      "text/html": [
       "<div>\n",
       "<style scoped>\n",
       "    .dataframe tbody tr th:only-of-type {\n",
       "        vertical-align: middle;\n",
       "    }\n",
       "\n",
       "    .dataframe tbody tr th {\n",
       "        vertical-align: top;\n",
       "    }\n",
       "\n",
       "    .dataframe thead th {\n",
       "        text-align: right;\n",
       "    }\n",
       "</style>\n",
       "<table border=\"1\" class=\"dataframe\">\n",
       "  <thead>\n",
       "    <tr style=\"text-align: right;\">\n",
       "      <th></th>\n",
       "      <th>orig.ident</th>\n",
       "      <th>nCount_RNA</th>\n",
       "      <th>nFeature_RNA</th>\n",
       "    </tr>\n",
       "  </thead>\n",
       "  <tbody>\n",
       "    <tr>\n",
       "      <th>Liver#col63_AGACGATGATACCATCCGAAACCGCCAACC</th>\n",
       "      <td>0</td>\n",
       "      <td>738.0</td>\n",
       "      <td>738</td>\n",
       "    </tr>\n",
       "    <tr>\n",
       "      <th>Pancreas#col57_CTCACAAGACACAGAGCCATAATTAAGACT</th>\n",
       "      <td>0</td>\n",
       "      <td>5347.0</td>\n",
       "      <td>5347</td>\n",
       "    </tr>\n",
       "    <tr>\n",
       "      <th>Intestine#col63_ACTTAGAATGCACAAGACCTAAGCCAGTTA</th>\n",
       "      <td>0</td>\n",
       "      <td>1558.0</td>\n",
       "      <td>1558</td>\n",
       "    </tr>\n",
       "    <tr>\n",
       "      <th>Kidney#col90_TCCAAGCCTGGATCACCAGACCAGTTCCAA</th>\n",
       "      <td>0</td>\n",
       "      <td>584.0</td>\n",
       "      <td>584</td>\n",
       "    </tr>\n",
       "    <tr>\n",
       "      <th>Pancreas#col58_TCGGAAGGCACAACTCGAACGCCATTCTCC</th>\n",
       "      <td>0</td>\n",
       "      <td>3079.0</td>\n",
       "      <td>3079</td>\n",
       "    </tr>\n",
       "    <tr>\n",
       "      <th>...</th>\n",
       "      <td>...</td>\n",
       "      <td>...</td>\n",
       "      <td>...</td>\n",
       "    </tr>\n",
       "    <tr>\n",
       "      <th>Limb#col102_AGACGATGATCATCCTAAGACATTCGACGG</th>\n",
       "      <td>0</td>\n",
       "      <td>1440.0</td>\n",
       "      <td>1440</td>\n",
       "    </tr>\n",
       "    <tr>\n",
       "      <th>Kidney#col85_AGACGATGATTAGAACACCGAAGAAGCTAG</th>\n",
       "      <td>0</td>\n",
       "      <td>4097.0</td>\n",
       "      <td>4097</td>\n",
       "    </tr>\n",
       "    <tr>\n",
       "      <th>Kidney#col97_CCGATGTCGCATAGAACGCCTCCGGCCTCG</th>\n",
       "      <td>0</td>\n",
       "      <td>2603.0</td>\n",
       "      <td>2603</td>\n",
       "    </tr>\n",
       "    <tr>\n",
       "      <th>Limb#col98_ACTTAGAATGTGACCACAATGCTGGAACTT</th>\n",
       "      <td>0</td>\n",
       "      <td>988.0</td>\n",
       "      <td>988</td>\n",
       "    </tr>\n",
       "    <tr>\n",
       "      <th>Kidney#col93_CTCACAAGACCAGGACCATAAAGAAGCTAG</th>\n",
       "      <td>0</td>\n",
       "      <td>432.0</td>\n",
       "      <td>432</td>\n",
       "    </tr>\n",
       "  </tbody>\n",
       "</table>\n",
       "<p>50025 rows × 3 columns</p>\n",
       "</div>"
      ],
      "text/plain": [
       "                                                orig.ident  nCount_RNA  \\\n",
       "Liver#col63_AGACGATGATACCATCCGAAACCGCCAACC               0       738.0   \n",
       "Pancreas#col57_CTCACAAGACACAGAGCCATAATTAAGACT            0      5347.0   \n",
       "Intestine#col63_ACTTAGAATGCACAAGACCTAAGCCAGTTA           0      1558.0   \n",
       "Kidney#col90_TCCAAGCCTGGATCACCAGACCAGTTCCAA              0       584.0   \n",
       "Pancreas#col58_TCGGAAGGCACAACTCGAACGCCATTCTCC            0      3079.0   \n",
       "...                                                    ...         ...   \n",
       "Limb#col102_AGACGATGATCATCCTAAGACATTCGACGG               0      1440.0   \n",
       "Kidney#col85_AGACGATGATTAGAACACCGAAGAAGCTAG              0      4097.0   \n",
       "Kidney#col97_CCGATGTCGCATAGAACGCCTCCGGCCTCG              0      2603.0   \n",
       "Limb#col98_ACTTAGAATGTGACCACAATGCTGGAACTT                0       988.0   \n",
       "Kidney#col93_CTCACAAGACCAGGACCATAAAGAAGCTAG              0       432.0   \n",
       "\n",
       "                                                nFeature_RNA  \n",
       "Liver#col63_AGACGATGATACCATCCGAAACCGCCAACC               738  \n",
       "Pancreas#col57_CTCACAAGACACAGAGCCATAATTAAGACT           5347  \n",
       "Intestine#col63_ACTTAGAATGCACAAGACCTAAGCCAGTTA          1558  \n",
       "Kidney#col90_TCCAAGCCTGGATCACCAGACCAGTTCCAA              584  \n",
       "Pancreas#col58_TCGGAAGGCACAACTCGAACGCCATTCTCC           3079  \n",
       "...                                                      ...  \n",
       "Limb#col102_AGACGATGATCATCCTAAGACATTCGACGG              1440  \n",
       "Kidney#col85_AGACGATGATTAGAACACCGAAGAAGCTAG             4097  \n",
       "Kidney#col97_CCGATGTCGCATAGAACGCCTCCGGCCTCG             2603  \n",
       "Limb#col98_ACTTAGAATGTGACCACAATGCTGGAACTT                988  \n",
       "Kidney#col93_CTCACAAGACCAGGACCATAAAGAAGCTAG              432  \n",
       "\n",
       "[50025 rows x 3 columns]"
      ]
     },
     "execution_count": 21,
     "metadata": {},
     "output_type": "execute_result"
    }
   ],
   "source": [
    "positive_ad.obs"
   ]
  },
  {
   "cell_type": "code",
   "execution_count": 22,
   "id": "1ac55d43-4e42-4b99-afb0-42319fa074d0",
   "metadata": {},
   "outputs": [
    {
     "data": {
      "text/plain": [
       "((50025, 82637), (50025, 41318))"
      ]
     },
     "execution_count": 22,
     "metadata": {},
     "output_type": "execute_result"
    }
   ],
   "source": [
    "positive_ad.shape, nega.shape"
   ]
  },
  {
   "cell_type": "code",
   "execution_count": 23,
   "id": "49af6bec-ef9c-457d-9ce1-c1b2893fb040",
   "metadata": {},
   "outputs": [
    {
     "name": "stderr",
     "output_type": "stream",
     "text": [
      "/home/ggj/anaconda3/lib/python3.9/site-packages/anndata/_core/merge.py:1111: UserWarning: Only some AnnData objects have `.raw` attribute, not concatenating `.raw` attributes.\n",
      "  warn(\n"
     ]
    },
    {
     "data": {
      "text/plain": [
       "AnnData object with n_obs × n_vars = 50025 × 123955\n",
       "    var: 'features'"
      ]
     },
     "execution_count": 23,
     "metadata": {},
     "output_type": "execute_result"
    }
   ],
   "source": [
    "merge_pos_nega = anndata.concat([positive_ad,nega],join='outer',axis = 1)\n",
    "merge_pos_nega"
   ]
  },
  {
   "cell_type": "code",
   "execution_count": 24,
   "id": "6f104471-096e-4ef6-aa67-fb9aa2b343f5",
   "metadata": {},
   "outputs": [
    {
     "data": {
      "text/html": [
       "<div>\n",
       "<style scoped>\n",
       "    .dataframe tbody tr th:only-of-type {\n",
       "        vertical-align: middle;\n",
       "    }\n",
       "\n",
       "    .dataframe tbody tr th {\n",
       "        vertical-align: top;\n",
       "    }\n",
       "\n",
       "    .dataframe thead th {\n",
       "        text-align: right;\n",
       "    }\n",
       "</style>\n",
       "<table border=\"1\" class=\"dataframe\">\n",
       "  <thead>\n",
       "    <tr style=\"text-align: right;\">\n",
       "      <th></th>\n",
       "      <th>features</th>\n",
       "    </tr>\n",
       "  </thead>\n",
       "  <tbody>\n",
       "    <tr>\n",
       "      <th>chr10p_1-95282-95782</th>\n",
       "      <td>chr10p_1-95282-95782</td>\n",
       "    </tr>\n",
       "    <tr>\n",
       "      <th>chr10p_1-273325-273825</th>\n",
       "      <td>chr10p_1-273325-273825</td>\n",
       "    </tr>\n",
       "    <tr>\n",
       "      <th>chr10p_1-769540-770040</th>\n",
       "      <td>chr10p_1-769540-770040</td>\n",
       "    </tr>\n",
       "    <tr>\n",
       "      <th>chr10p_1-770095-770595</th>\n",
       "      <td>chr10p_1-770095-770595</td>\n",
       "    </tr>\n",
       "    <tr>\n",
       "      <th>chr10p_1-1249389-1249889</th>\n",
       "      <td>chr10p_1-1249389-1249889</td>\n",
       "    </tr>\n",
       "    <tr>\n",
       "      <th>...</th>\n",
       "      <td>...</td>\n",
       "    </tr>\n",
       "    <tr>\n",
       "      <th>chr1q_3-89063227-89063727</th>\n",
       "      <td>chr1q_3-89063227-89063727</td>\n",
       "    </tr>\n",
       "    <tr>\n",
       "      <th>chr2q_3-421997983-421998483</th>\n",
       "      <td>chr2q_3-421997983-421998483</td>\n",
       "    </tr>\n",
       "    <tr>\n",
       "      <th>chr11q_3-189063795-189064295</th>\n",
       "      <td>chr11q_3-189063795-189064295</td>\n",
       "    </tr>\n",
       "    <tr>\n",
       "      <th>chr3p_1-185273258-185273758</th>\n",
       "      <td>chr3p_1-185273258-185273758</td>\n",
       "    </tr>\n",
       "    <tr>\n",
       "      <th>chr1q_1-462907342-462907842</th>\n",
       "      <td>chr1q_1-462907342-462907842</td>\n",
       "    </tr>\n",
       "  </tbody>\n",
       "</table>\n",
       "<p>123955 rows × 1 columns</p>\n",
       "</div>"
      ],
      "text/plain": [
       "                                                  features\n",
       "chr10p_1-95282-95782                  chr10p_1-95282-95782\n",
       "chr10p_1-273325-273825              chr10p_1-273325-273825\n",
       "chr10p_1-769540-770040              chr10p_1-769540-770040\n",
       "chr10p_1-770095-770595              chr10p_1-770095-770595\n",
       "chr10p_1-1249389-1249889          chr10p_1-1249389-1249889\n",
       "...                                                    ...\n",
       "chr1q_3-89063227-89063727        chr1q_3-89063227-89063727\n",
       "chr2q_3-421997983-421998483    chr2q_3-421997983-421998483\n",
       "chr11q_3-189063795-189064295  chr11q_3-189063795-189064295\n",
       "chr3p_1-185273258-185273758    chr3p_1-185273258-185273758\n",
       "chr1q_1-462907342-462907842    chr1q_1-462907342-462907842\n",
       "\n",
       "[123955 rows x 1 columns]"
      ]
     },
     "execution_count": 24,
     "metadata": {},
     "output_type": "execute_result"
    }
   ],
   "source": [
    "merge_pos_nega.var"
   ]
  },
  {
   "cell_type": "markdown",
   "id": "c82ce889-f661-4861-a26e-b11eb0d59efb",
   "metadata": {},
   "source": [
    "1.shuffle"
   ]
  },
  {
   "cell_type": "code",
   "execution_count": 25,
   "id": "a3804cb8-6019-461a-bc56-8248b5eef109",
   "metadata": {},
   "outputs": [],
   "source": [
    "## shuffle ad.var\n",
    "import random\n",
    "\n",
    "def shuffleData(ad, seed=666):\n",
    "    random.seed(seed)\n",
    "    index = [i for i in range(len(ad.var))]\n",
    "    random.shuffle(index)\n",
    "    ad_shuffled = ad[:,index]\n",
    "    return ad_shuffled"
   ]
  },
  {
   "cell_type": "code",
   "execution_count": 26,
   "id": "ccc30099-3c15-47b8-a952-17ac1d5d1533",
   "metadata": {},
   "outputs": [
    {
     "data": {
      "text/plain": [
       "View of AnnData object with n_obs × n_vars = 50025 × 123955\n",
       "    var: 'features'"
      ]
     },
     "execution_count": 26,
     "metadata": {},
     "output_type": "execute_result"
    }
   ],
   "source": [
    "ad = shuffleData(merge_pos_nega)\n",
    "ad"
   ]
  },
  {
   "cell_type": "code",
   "execution_count": 27,
   "id": "d635f785-9b32-4075-a0ff-c0878211c84e",
   "metadata": {},
   "outputs": [
    {
     "data": {
      "text/html": [
       "<div>\n",
       "<style scoped>\n",
       "    .dataframe tbody tr th:only-of-type {\n",
       "        vertical-align: middle;\n",
       "    }\n",
       "\n",
       "    .dataframe tbody tr th {\n",
       "        vertical-align: top;\n",
       "    }\n",
       "\n",
       "    .dataframe thead th {\n",
       "        text-align: right;\n",
       "    }\n",
       "</style>\n",
       "<table border=\"1\" class=\"dataframe\">\n",
       "  <thead>\n",
       "    <tr style=\"text-align: right;\">\n",
       "      <th></th>\n",
       "      <th>features</th>\n",
       "    </tr>\n",
       "  </thead>\n",
       "  <tbody>\n",
       "    <tr>\n",
       "      <th>chr6p_1-43037112-43037612</th>\n",
       "      <td>chr6p_1-43037112-43037612</td>\n",
       "    </tr>\n",
       "    <tr>\n",
       "      <th>chr11q_3-246189513-246190013</th>\n",
       "      <td>chr11q_3-246189513-246190013</td>\n",
       "    </tr>\n",
       "    <tr>\n",
       "      <th>chr14q-324015971-324016471</th>\n",
       "      <td>chr14q-324015971-324016471</td>\n",
       "    </tr>\n",
       "    <tr>\n",
       "      <th>chr7p_2-408357300-408357800</th>\n",
       "      <td>chr7p_2-408357300-408357800</td>\n",
       "    </tr>\n",
       "    <tr>\n",
       "      <th>chr4p_3-343658941-343659441</th>\n",
       "      <td>chr4p_3-343658941-343659441</td>\n",
       "    </tr>\n",
       "    <tr>\n",
       "      <th>...</th>\n",
       "      <td>...</td>\n",
       "    </tr>\n",
       "    <tr>\n",
       "      <th>chr3p_1-25678864-25679364</th>\n",
       "      <td>chr3p_1-25678864-25679364</td>\n",
       "    </tr>\n",
       "    <tr>\n",
       "      <th>chr5q_1-408482082-408482582</th>\n",
       "      <td>chr5q_1-408482082-408482582</td>\n",
       "    </tr>\n",
       "    <tr>\n",
       "      <th>chr4p_3-292512290-292512790</th>\n",
       "      <td>chr4p_3-292512290-292512790</td>\n",
       "    </tr>\n",
       "    <tr>\n",
       "      <th>chr8p_1-115551082-115551582</th>\n",
       "      <td>chr8p_1-115551082-115551582</td>\n",
       "    </tr>\n",
       "    <tr>\n",
       "      <th>chr6p_1-29765751-29766251</th>\n",
       "      <td>chr6p_1-29765751-29766251</td>\n",
       "    </tr>\n",
       "  </tbody>\n",
       "</table>\n",
       "<p>123955 rows × 1 columns</p>\n",
       "</div>"
      ],
      "text/plain": [
       "                                                  features\n",
       "chr6p_1-43037112-43037612        chr6p_1-43037112-43037612\n",
       "chr11q_3-246189513-246190013  chr11q_3-246189513-246190013\n",
       "chr14q-324015971-324016471      chr14q-324015971-324016471\n",
       "chr7p_2-408357300-408357800    chr7p_2-408357300-408357800\n",
       "chr4p_3-343658941-343659441    chr4p_3-343658941-343659441\n",
       "...                                                    ...\n",
       "chr3p_1-25678864-25679364        chr3p_1-25678864-25679364\n",
       "chr5q_1-408482082-408482582    chr5q_1-408482082-408482582\n",
       "chr4p_3-292512290-292512790    chr4p_3-292512290-292512790\n",
       "chr8p_1-115551082-115551582    chr8p_1-115551082-115551582\n",
       "chr6p_1-29765751-29766251        chr6p_1-29765751-29766251\n",
       "\n",
       "[123955 rows x 1 columns]"
      ]
     },
     "execution_count": 27,
     "metadata": {},
     "output_type": "execute_result"
    }
   ],
   "source": [
    "ad.var"
   ]
  },
  {
   "cell_type": "code",
   "execution_count": 28,
   "id": "a1a8eafa-c13b-490d-aa76-e47c7191b6c1",
   "metadata": {},
   "outputs": [
    {
     "data": {
      "text/html": [
       "<div>\n",
       "<style scoped>\n",
       "    .dataframe tbody tr th:only-of-type {\n",
       "        vertical-align: middle;\n",
       "    }\n",
       "\n",
       "    .dataframe tbody tr th {\n",
       "        vertical-align: top;\n",
       "    }\n",
       "\n",
       "    .dataframe thead th {\n",
       "        text-align: right;\n",
       "    }\n",
       "</style>\n",
       "<table border=\"1\" class=\"dataframe\">\n",
       "  <thead>\n",
       "    <tr style=\"text-align: right;\">\n",
       "      <th></th>\n",
       "      <th>chr</th>\n",
       "      <th>start</th>\n",
       "      <th>end</th>\n",
       "      <th>features</th>\n",
       "    </tr>\n",
       "  </thead>\n",
       "  <tbody>\n",
       "    <tr>\n",
       "      <th>chr6p_1-43037112-43037612</th>\n",
       "      <td>chr6p_1</td>\n",
       "      <td>43037112</td>\n",
       "      <td>43037612</td>\n",
       "      <td>chr6p_1-43037112-43037612</td>\n",
       "    </tr>\n",
       "    <tr>\n",
       "      <th>chr11q_3-246189513-246190013</th>\n",
       "      <td>chr11q_3</td>\n",
       "      <td>246189513</td>\n",
       "      <td>246190013</td>\n",
       "      <td>chr11q_3-246189513-246190013</td>\n",
       "    </tr>\n",
       "    <tr>\n",
       "      <th>chr14q-324015971-324016471</th>\n",
       "      <td>chr14q</td>\n",
       "      <td>324015971</td>\n",
       "      <td>324016471</td>\n",
       "      <td>chr14q-324015971-324016471</td>\n",
       "    </tr>\n",
       "    <tr>\n",
       "      <th>chr7p_2-408357300-408357800</th>\n",
       "      <td>chr7p_2</td>\n",
       "      <td>408357300</td>\n",
       "      <td>408357800</td>\n",
       "      <td>chr7p_2-408357300-408357800</td>\n",
       "    </tr>\n",
       "    <tr>\n",
       "      <th>chr4p_3-343658941-343659441</th>\n",
       "      <td>chr4p_3</td>\n",
       "      <td>343658941</td>\n",
       "      <td>343659441</td>\n",
       "      <td>chr4p_3-343658941-343659441</td>\n",
       "    </tr>\n",
       "    <tr>\n",
       "      <th>...</th>\n",
       "      <td>...</td>\n",
       "      <td>...</td>\n",
       "      <td>...</td>\n",
       "      <td>...</td>\n",
       "    </tr>\n",
       "    <tr>\n",
       "      <th>chr3p_1-25678864-25679364</th>\n",
       "      <td>chr3p_1</td>\n",
       "      <td>25678864</td>\n",
       "      <td>25679364</td>\n",
       "      <td>chr3p_1-25678864-25679364</td>\n",
       "    </tr>\n",
       "    <tr>\n",
       "      <th>chr5q_1-408482082-408482582</th>\n",
       "      <td>chr5q_1</td>\n",
       "      <td>408482082</td>\n",
       "      <td>408482582</td>\n",
       "      <td>chr5q_1-408482082-408482582</td>\n",
       "    </tr>\n",
       "    <tr>\n",
       "      <th>chr4p_3-292512290-292512790</th>\n",
       "      <td>chr4p_3</td>\n",
       "      <td>292512290</td>\n",
       "      <td>292512790</td>\n",
       "      <td>chr4p_3-292512290-292512790</td>\n",
       "    </tr>\n",
       "    <tr>\n",
       "      <th>chr8p_1-115551082-115551582</th>\n",
       "      <td>chr8p_1</td>\n",
       "      <td>115551082</td>\n",
       "      <td>115551582</td>\n",
       "      <td>chr8p_1-115551082-115551582</td>\n",
       "    </tr>\n",
       "    <tr>\n",
       "      <th>chr6p_1-29765751-29766251</th>\n",
       "      <td>chr6p_1</td>\n",
       "      <td>29765751</td>\n",
       "      <td>29766251</td>\n",
       "      <td>chr6p_1-29765751-29766251</td>\n",
       "    </tr>\n",
       "  </tbody>\n",
       "</table>\n",
       "<p>123955 rows × 4 columns</p>\n",
       "</div>"
      ],
      "text/plain": [
       "                                   chr      start        end  \\\n",
       "chr6p_1-43037112-43037612      chr6p_1   43037112   43037612   \n",
       "chr11q_3-246189513-246190013  chr11q_3  246189513  246190013   \n",
       "chr14q-324015971-324016471      chr14q  324015971  324016471   \n",
       "chr7p_2-408357300-408357800    chr7p_2  408357300  408357800   \n",
       "chr4p_3-343658941-343659441    chr4p_3  343658941  343659441   \n",
       "...                                ...        ...        ...   \n",
       "chr3p_1-25678864-25679364      chr3p_1   25678864   25679364   \n",
       "chr5q_1-408482082-408482582    chr5q_1  408482082  408482582   \n",
       "chr4p_3-292512290-292512790    chr4p_3  292512290  292512790   \n",
       "chr8p_1-115551082-115551582    chr8p_1  115551082  115551582   \n",
       "chr6p_1-29765751-29766251      chr6p_1   29765751   29766251   \n",
       "\n",
       "                                                  features  \n",
       "chr6p_1-43037112-43037612        chr6p_1-43037112-43037612  \n",
       "chr11q_3-246189513-246190013  chr11q_3-246189513-246190013  \n",
       "chr14q-324015971-324016471      chr14q-324015971-324016471  \n",
       "chr7p_2-408357300-408357800    chr7p_2-408357300-408357800  \n",
       "chr4p_3-343658941-343659441    chr4p_3-343658941-343659441  \n",
       "...                                                    ...  \n",
       "chr3p_1-25678864-25679364        chr3p_1-25678864-25679364  \n",
       "chr5q_1-408482082-408482582    chr5q_1-408482082-408482582  \n",
       "chr4p_3-292512290-292512790    chr4p_3-292512290-292512790  \n",
       "chr8p_1-115551082-115551582    chr8p_1-115551082-115551582  \n",
       "chr6p_1-29765751-29766251        chr6p_1-29765751-29766251  \n",
       "\n",
       "[123955 rows x 4 columns]"
      ]
     },
     "execution_count": 28,
     "metadata": {},
     "output_type": "execute_result"
    }
   ],
   "source": [
    "feature = ad.var['features'].str.split(pat='-', n=-1, expand=True).rename(columns={0:'chr', 1:'start', 2:'end'}) \n",
    "feature['features'] = feature.chr+'-'+feature.start+'-'+feature.end\n",
    "feature"
   ]
  },
  {
   "cell_type": "code",
   "execution_count": 29,
   "id": "43c1b487-5997-4d73-8493-abde48af43bd",
   "metadata": {},
   "outputs": [
    {
     "name": "stderr",
     "output_type": "stream",
     "text": [
      "/tmp/ipykernel_1542248/2563709048.py:1: ImplicitModificationWarning: Trying to modify attribute `.var` of view, initializing view as actual.\n",
      "  ad.var['chr'] = feature['chr'].values\n"
     ]
    }
   ],
   "source": [
    "ad.var['chr'] = feature['chr'].values\n",
    "ad.var['start'] = feature['start'].values\n",
    "ad.var['end'] = feature['end'].values"
   ]
  },
  {
   "cell_type": "code",
   "execution_count": 30,
   "id": "d1ae26fc-8be5-428b-941f-3b82105954e9",
   "metadata": {},
   "outputs": [
    {
     "data": {
      "text/html": [
       "<div>\n",
       "<style scoped>\n",
       "    .dataframe tbody tr th:only-of-type {\n",
       "        vertical-align: middle;\n",
       "    }\n",
       "\n",
       "    .dataframe tbody tr th {\n",
       "        vertical-align: top;\n",
       "    }\n",
       "\n",
       "    .dataframe thead th {\n",
       "        text-align: right;\n",
       "    }\n",
       "</style>\n",
       "<table border=\"1\" class=\"dataframe\">\n",
       "  <thead>\n",
       "    <tr style=\"text-align: right;\">\n",
       "      <th></th>\n",
       "      <th>chr</th>\n",
       "      <th>start</th>\n",
       "      <th>end</th>\n",
       "    </tr>\n",
       "  </thead>\n",
       "  <tbody>\n",
       "    <tr>\n",
       "      <th>chr6p_1-43037112-43037612</th>\n",
       "      <td>chr6p_1</td>\n",
       "      <td>43037112</td>\n",
       "      <td>43037612</td>\n",
       "    </tr>\n",
       "    <tr>\n",
       "      <th>chr11q_3-246189513-246190013</th>\n",
       "      <td>chr11q_3</td>\n",
       "      <td>246189513</td>\n",
       "      <td>246190013</td>\n",
       "    </tr>\n",
       "    <tr>\n",
       "      <th>chr14q-324015971-324016471</th>\n",
       "      <td>chr14q</td>\n",
       "      <td>324015971</td>\n",
       "      <td>324016471</td>\n",
       "    </tr>\n",
       "    <tr>\n",
       "      <th>chr7p_2-408357300-408357800</th>\n",
       "      <td>chr7p_2</td>\n",
       "      <td>408357300</td>\n",
       "      <td>408357800</td>\n",
       "    </tr>\n",
       "    <tr>\n",
       "      <th>chr4p_3-343658941-343659441</th>\n",
       "      <td>chr4p_3</td>\n",
       "      <td>343658941</td>\n",
       "      <td>343659441</td>\n",
       "    </tr>\n",
       "    <tr>\n",
       "      <th>...</th>\n",
       "      <td>...</td>\n",
       "      <td>...</td>\n",
       "      <td>...</td>\n",
       "    </tr>\n",
       "    <tr>\n",
       "      <th>chr3p_1-25678864-25679364</th>\n",
       "      <td>chr3p_1</td>\n",
       "      <td>25678864</td>\n",
       "      <td>25679364</td>\n",
       "    </tr>\n",
       "    <tr>\n",
       "      <th>chr5q_1-408482082-408482582</th>\n",
       "      <td>chr5q_1</td>\n",
       "      <td>408482082</td>\n",
       "      <td>408482582</td>\n",
       "    </tr>\n",
       "    <tr>\n",
       "      <th>chr4p_3-292512290-292512790</th>\n",
       "      <td>chr4p_3</td>\n",
       "      <td>292512290</td>\n",
       "      <td>292512790</td>\n",
       "    </tr>\n",
       "    <tr>\n",
       "      <th>chr8p_1-115551082-115551582</th>\n",
       "      <td>chr8p_1</td>\n",
       "      <td>115551082</td>\n",
       "      <td>115551582</td>\n",
       "    </tr>\n",
       "    <tr>\n",
       "      <th>chr6p_1-29765751-29766251</th>\n",
       "      <td>chr6p_1</td>\n",
       "      <td>29765751</td>\n",
       "      <td>29766251</td>\n",
       "    </tr>\n",
       "  </tbody>\n",
       "</table>\n",
       "<p>123955 rows × 3 columns</p>\n",
       "</div>"
      ],
      "text/plain": [
       "                                   chr      start        end\n",
       "chr6p_1-43037112-43037612      chr6p_1   43037112   43037612\n",
       "chr11q_3-246189513-246190013  chr11q_3  246189513  246190013\n",
       "chr14q-324015971-324016471      chr14q  324015971  324016471\n",
       "chr7p_2-408357300-408357800    chr7p_2  408357300  408357800\n",
       "chr4p_3-343658941-343659441    chr4p_3  343658941  343659441\n",
       "...                                ...        ...        ...\n",
       "chr3p_1-25678864-25679364      chr3p_1   25678864   25679364\n",
       "chr5q_1-408482082-408482582    chr5q_1  408482082  408482582\n",
       "chr4p_3-292512290-292512790    chr4p_3  292512290  292512790\n",
       "chr8p_1-115551082-115551582    chr8p_1  115551082  115551582\n",
       "chr6p_1-29765751-29766251      chr6p_1   29765751   29766251\n",
       "\n",
       "[123955 rows x 3 columns]"
      ]
     },
     "execution_count": 30,
     "metadata": {},
     "output_type": "execute_result"
    }
   ],
   "source": [
    "peaks = ad.var.iloc[:,1:4]\n",
    "peaks"
   ]
  },
  {
   "cell_type": "code",
   "execution_count": 31,
   "id": "e47b3ef8-1de9-4208-a1ec-5a7d55f06d48",
   "metadata": {},
   "outputs": [],
   "source": [
    "#start to pre datasets"
   ]
  },
  {
   "cell_type": "code",
   "execution_count": null,
   "id": "f9db4524-a8a4-4835-8168-8264a6e37d34",
   "metadata": {},
   "outputs": [],
   "source": []
  },
  {
   "cell_type": "code",
   "execution_count": 32,
   "id": "7b992139-9c37-491f-b592-d84f6105f238",
   "metadata": {},
   "outputs": [],
   "source": [
    "#one-hot"
   ]
  },
  {
   "cell_type": "code",
   "execution_count": 33,
   "id": "9a1a6fba-899f-454b-bdad-22fa4ada9e65",
   "metadata": {},
   "outputs": [],
   "source": [
    "onehot_nuc = {'A':[1,0,0,0],\n",
    "            'C':[0,1,0,0],\n",
    "            'G':[0,0,1,0],\n",
    "            'T':[0,0,0,1],\n",
    "            'N':[0,0,0,0]}\n",
    "            \n",
    "def _onehot_seq(seq):\n",
    "    return np.array([onehot_nuc[nuc] for nuc in str(seq).upper()])"
   ]
  },
  {
   "cell_type": "code",
   "execution_count": 34,
   "id": "bf2503c7-aea2-4fef-b70f-56d559581dae",
   "metadata": {},
   "outputs": [
    {
     "data": {
      "text/plain": [
       "<pysam.libcfaidx.Fastafile at 0x7f829af4c220>"
      ]
     },
     "execution_count": 34,
     "metadata": {},
     "output_type": "execute_result"
    }
   ],
   "source": [
    "# genome\n",
    "genome = pysam.Fastafile('/media/ggj/Guo-4T-AI/FYT/UU/ref/AmexG_v6/AmexG_ArchR_merge.fa')\n",
    "genome"
   ]
  },
  {
   "cell_type": "code",
   "execution_count": 35,
   "id": "04366455-0f7f-4d51-a472-aecdd753c321",
   "metadata": {},
   "outputs": [],
   "source": [
    "from tqdm import tqdm"
   ]
  },
  {
   "cell_type": "code",
   "execution_count": 36,
   "id": "ebd23e47-37d0-4e5c-9acf-29be30bed3e1",
   "metadata": {},
   "outputs": [
    {
     "data": {
      "text/html": [
       "<div>\n",
       "<style scoped>\n",
       "    .dataframe tbody tr th:only-of-type {\n",
       "        vertical-align: middle;\n",
       "    }\n",
       "\n",
       "    .dataframe tbody tr th {\n",
       "        vertical-align: top;\n",
       "    }\n",
       "\n",
       "    .dataframe thead th {\n",
       "        text-align: right;\n",
       "    }\n",
       "</style>\n",
       "<table border=\"1\" class=\"dataframe\">\n",
       "  <thead>\n",
       "    <tr style=\"text-align: right;\">\n",
       "      <th></th>\n",
       "      <th>chr</th>\n",
       "      <th>start</th>\n",
       "      <th>end</th>\n",
       "    </tr>\n",
       "  </thead>\n",
       "  <tbody>\n",
       "    <tr>\n",
       "      <th>chr6p_1-43037112-43037612</th>\n",
       "      <td>chr6p_1</td>\n",
       "      <td>43037112</td>\n",
       "      <td>43037612</td>\n",
       "    </tr>\n",
       "    <tr>\n",
       "      <th>chr11q_3-246189513-246190013</th>\n",
       "      <td>chr11q_3</td>\n",
       "      <td>246189513</td>\n",
       "      <td>246190013</td>\n",
       "    </tr>\n",
       "    <tr>\n",
       "      <th>chr14q-324015971-324016471</th>\n",
       "      <td>chr14q</td>\n",
       "      <td>324015971</td>\n",
       "      <td>324016471</td>\n",
       "    </tr>\n",
       "    <tr>\n",
       "      <th>chr7p_2-408357300-408357800</th>\n",
       "      <td>chr7p_2</td>\n",
       "      <td>408357300</td>\n",
       "      <td>408357800</td>\n",
       "    </tr>\n",
       "    <tr>\n",
       "      <th>chr4p_3-343658941-343659441</th>\n",
       "      <td>chr4p_3</td>\n",
       "      <td>343658941</td>\n",
       "      <td>343659441</td>\n",
       "    </tr>\n",
       "    <tr>\n",
       "      <th>...</th>\n",
       "      <td>...</td>\n",
       "      <td>...</td>\n",
       "      <td>...</td>\n",
       "    </tr>\n",
       "    <tr>\n",
       "      <th>chr3p_1-25678864-25679364</th>\n",
       "      <td>chr3p_1</td>\n",
       "      <td>25678864</td>\n",
       "      <td>25679364</td>\n",
       "    </tr>\n",
       "    <tr>\n",
       "      <th>chr5q_1-408482082-408482582</th>\n",
       "      <td>chr5q_1</td>\n",
       "      <td>408482082</td>\n",
       "      <td>408482582</td>\n",
       "    </tr>\n",
       "    <tr>\n",
       "      <th>chr4p_3-292512290-292512790</th>\n",
       "      <td>chr4p_3</td>\n",
       "      <td>292512290</td>\n",
       "      <td>292512790</td>\n",
       "    </tr>\n",
       "    <tr>\n",
       "      <th>chr8p_1-115551082-115551582</th>\n",
       "      <td>chr8p_1</td>\n",
       "      <td>115551082</td>\n",
       "      <td>115551582</td>\n",
       "    </tr>\n",
       "    <tr>\n",
       "      <th>chr6p_1-29765751-29766251</th>\n",
       "      <td>chr6p_1</td>\n",
       "      <td>29765751</td>\n",
       "      <td>29766251</td>\n",
       "    </tr>\n",
       "  </tbody>\n",
       "</table>\n",
       "<p>123955 rows × 3 columns</p>\n",
       "</div>"
      ],
      "text/plain": [
       "                                   chr      start        end\n",
       "chr6p_1-43037112-43037612      chr6p_1   43037112   43037612\n",
       "chr11q_3-246189513-246190013  chr11q_3  246189513  246190013\n",
       "chr14q-324015971-324016471      chr14q  324015971  324016471\n",
       "chr7p_2-408357300-408357800    chr7p_2  408357300  408357800\n",
       "chr4p_3-343658941-343659441    chr4p_3  343658941  343659441\n",
       "...                                ...        ...        ...\n",
       "chr3p_1-25678864-25679364      chr3p_1   25678864   25679364\n",
       "chr5q_1-408482082-408482582    chr5q_1  408482082  408482582\n",
       "chr4p_3-292512290-292512790    chr4p_3  292512290  292512790\n",
       "chr8p_1-115551082-115551582    chr8p_1  115551082  115551582\n",
       "chr6p_1-29765751-29766251      chr6p_1   29765751   29766251\n",
       "\n",
       "[123955 rows x 3 columns]"
      ]
     },
     "execution_count": 36,
     "metadata": {},
     "output_type": "execute_result"
    }
   ],
   "source": [
    "peaks"
   ]
  },
  {
   "cell_type": "code",
   "execution_count": 37,
   "id": "cea7204d-7477-418e-811d-b4eca83a5f31",
   "metadata": {},
   "outputs": [
    {
     "name": "stderr",
     "output_type": "stream",
     "text": [
      "100%|██████████████████████████████████| 123955/123955 [12:27<00:00, 165.75it/s]\n",
      "/tmp/ipykernel_1542248/1635994864.py:23: DeprecationWarning: `np.bool` is a deprecated alias for the builtin `bool`. To silence this warning, use `bool` by itself. Doing this will not modify any behavior and is safe. If you specifically wanted the numpy scalar type, use `np.bool_` here.\n",
      "Deprecated in NumPy 1.20; for more details and guidance: https://numpy.org/devdocs/release/1.20.0-notes.html#deprecations\n",
      "  seq_onehot = np.array(seq_onehot, dtype=np.bool)\n"
     ]
    },
    {
     "data": {
      "text/plain": [
       "(123955, 500, 4)"
      ]
     },
     "execution_count": 37,
     "metadata": {},
     "output_type": "execute_result"
    }
   ],
   "source": [
    "seq_onehot = []\n",
    "\n",
    "for peak in tqdm(peaks.values):\n",
    "    seqnames, start, end = peak[:3]\n",
    "    #chrom = str(seqnames.replace(\"chr\",\"\"))\n",
    "    start, end = int(start), int(end)\n",
    "    chrom = seqnames\n",
    "    # catch overflowed error\n",
    "    chrom_size = genome.get_reference_length(chrom)\n",
    "    if end >= chrom_size:\n",
    "        print(peak[-1])\n",
    "        pad = 'N' * (end - chrom_size) # pad N\n",
    "        end = chrom_size\n",
    "    # fetch sequence \n",
    "    seq = genome.fetch(reference=chrom, start=start, end=end)\n",
    "    # pad N\n",
    "    if start + 500 > chrom_size:\n",
    "        seq += pad\n",
    "    # onehot    \n",
    "    seq = _onehot_seq(seq)\n",
    "    seq_onehot.append(seq)\n",
    "\n",
    "seq_onehot = np.array(seq_onehot, dtype=np.bool)\n",
    "genome.close()\n",
    "\n",
    "seq_onehot.shape"
   ]
  },
  {
   "cell_type": "code",
   "execution_count": 38,
   "id": "2323fe9c-a352-45f0-b8f5-62846ce8b947",
   "metadata": {},
   "outputs": [],
   "source": [
    "#.Split train/valid/test data"
   ]
  },
  {
   "cell_type": "code",
   "execution_count": 39,
   "id": "68957edb-acde-458b-a75c-165494ba0c70",
   "metadata": {},
   "outputs": [],
   "source": [
    "from sklearn.model_selection import train_test_split"
   ]
  },
  {
   "cell_type": "code",
   "execution_count": 40,
   "id": "930f03d1-1dd4-434b-a6b4-c94ab316ca08",
   "metadata": {},
   "outputs": [
    {
     "data": {
      "text/plain": [
       "array(['chr6p_1', 'chr11q_3', 'chr14q', ..., 'chr4p_3', 'chr8p_1',\n",
       "       'chr6p_1'], dtype=object)"
      ]
     },
     "execution_count": 40,
     "metadata": {},
     "output_type": "execute_result"
    }
   ],
   "source": [
    "peaks.chr.astype(str).values"
   ]
  },
  {
   "cell_type": "code",
   "execution_count": 41,
   "id": "28819f2a-761d-4e29-a1d5-4b24912e2279",
   "metadata": {},
   "outputs": [
    {
     "data": {
      "text/plain": [
       "((104855,), (11651,), (7449,))"
      ]
     },
     "execution_count": 41,
     "metadata": {},
     "output_type": "execute_result"
    }
   ],
   "source": [
    "idx = peaks.index.values\n",
    "mask = peaks['chr'].isin(['chr8p_1','chr8p_2','chr8q_1','chr8q_2'])\n",
    "\n",
    "test_idx = idx[mask]\n",
    "train_val_idx = idx[~mask]\n",
    "\n",
    "train_idx, val_idx = train_test_split(train_val_idx, test_size=0.1)\n",
    "\n",
    "train_idx.shape, val_idx.shape, test_idx.shape"
   ]
  },
  {
   "cell_type": "code",
   "execution_count": 42,
   "id": "f5e52030-7d1a-4e08-85b0-bfff86e44ad4",
   "metadata": {},
   "outputs": [
    {
     "data": {
      "text/html": [
       "<div>\n",
       "<style scoped>\n",
       "    .dataframe tbody tr th:only-of-type {\n",
       "        vertical-align: middle;\n",
       "    }\n",
       "\n",
       "    .dataframe tbody tr th {\n",
       "        vertical-align: top;\n",
       "    }\n",
       "\n",
       "    .dataframe thead th {\n",
       "        text-align: right;\n",
       "    }\n",
       "</style>\n",
       "<table border=\"1\" class=\"dataframe\">\n",
       "  <thead>\n",
       "    <tr style=\"text-align: right;\">\n",
       "      <th></th>\n",
       "      <th>chr</th>\n",
       "      <th>start</th>\n",
       "      <th>end</th>\n",
       "      <th>train_test_split</th>\n",
       "    </tr>\n",
       "  </thead>\n",
       "  <tbody>\n",
       "    <tr>\n",
       "      <th>chr6p_1-43037112-43037612</th>\n",
       "      <td>chr6p_1</td>\n",
       "      <td>43037112</td>\n",
       "      <td>43037612</td>\n",
       "      <td>train</td>\n",
       "    </tr>\n",
       "    <tr>\n",
       "      <th>chr11q_3-246189513-246190013</th>\n",
       "      <td>chr11q_3</td>\n",
       "      <td>246189513</td>\n",
       "      <td>246190013</td>\n",
       "      <td>val</td>\n",
       "    </tr>\n",
       "    <tr>\n",
       "      <th>chr14q-324015971-324016471</th>\n",
       "      <td>chr14q</td>\n",
       "      <td>324015971</td>\n",
       "      <td>324016471</td>\n",
       "      <td>train</td>\n",
       "    </tr>\n",
       "    <tr>\n",
       "      <th>chr7p_2-408357300-408357800</th>\n",
       "      <td>chr7p_2</td>\n",
       "      <td>408357300</td>\n",
       "      <td>408357800</td>\n",
       "      <td>train</td>\n",
       "    </tr>\n",
       "    <tr>\n",
       "      <th>chr4p_3-343658941-343659441</th>\n",
       "      <td>chr4p_3</td>\n",
       "      <td>343658941</td>\n",
       "      <td>343659441</td>\n",
       "      <td>train</td>\n",
       "    </tr>\n",
       "  </tbody>\n",
       "</table>\n",
       "</div>"
      ],
      "text/plain": [
       "                                   chr      start        end train_test_split\n",
       "chr6p_1-43037112-43037612      chr6p_1   43037112   43037612            train\n",
       "chr11q_3-246189513-246190013  chr11q_3  246189513  246190013              val\n",
       "chr14q-324015971-324016471      chr14q  324015971  324016471            train\n",
       "chr7p_2-408357300-408357800    chr7p_2  408357300  408357800            train\n",
       "chr4p_3-343658941-343659441    chr4p_3  343658941  343659441            train"
      ]
     },
     "execution_count": 42,
     "metadata": {},
     "output_type": "execute_result"
    }
   ],
   "source": [
    "peaks['train_test_split'] = \"train\"\n",
    "peaks.loc[train_idx, 'train_test_split'] = \"train\"\n",
    "peaks.loc[val_idx, 'train_test_split'] = \"val\"\n",
    "peaks.loc[test_idx, 'train_test_split'] = \"test\"\n",
    "\n",
    "peaks.head()"
   ]
  },
  {
   "cell_type": "code",
   "execution_count": 43,
   "id": "941795c7-1fd1-478c-bac5-a4de59d48cf2",
   "metadata": {},
   "outputs": [],
   "source": [
    "# create coordinate sparse matrix\n",
    "pmat_co = coo_matrix(ad.X.T)"
   ]
  },
  {
   "cell_type": "code",
   "execution_count": 44,
   "id": "a138607d-cbb3-46b9-b2f3-c490fbf7a345",
   "metadata": {},
   "outputs": [
    {
     "data": {
      "text/plain": [
       "(123955, 50025)"
      ]
     },
     "execution_count": 44,
     "metadata": {},
     "output_type": "execute_result"
    }
   ],
   "source": [
    "pmat_co.shape"
   ]
  },
  {
   "cell_type": "code",
   "execution_count": 45,
   "id": "fa69575e-d8a6-4b02-a620-dc27f3794010",
   "metadata": {},
   "outputs": [],
   "source": [
    "## 5.Write\n",
    "compress_args = {'compression': 'gzip', 'compression_opts': 1}\n",
    "\n",
    "h5file = h5py.File('Axolotl_5wCells_8wPeaks_4wnegative.shuffled.noimpute.500bp.20230904.h5', 'a')\n",
    "h5file.create_dataset(\"pmat/X\", data=seq_onehot, dtype=bool, **compress_args)\n",
    "h5file.create_dataset(\"pmat/peak\", data=peaks.values.astype(np.bytes_), **compress_args)\n",
    "\n",
    "# h5file.create_dataset(\"pmat/pmat_sc/y\", data=y, dtype=np.float32, **compress_args)\n",
    "h5file.create_dataset(\"pmat/pmat_sc/i\", data=pmat_co.row, dtype=np.int32, **compress_args)\n",
    "h5file.create_dataset(\"pmat/pmat_sc/j\", data=pmat_co.col, dtype=np.int32, **compress_args)\n",
    "h5file.create_dataset(\"pmat/pmat_sc/x\", data=pmat_co.data, dtype=np.int32, **compress_args)\n",
    "h5file.create_dataset(\"pmat/pmat_sc/dim\", data=pmat_co.shape, dtype=np.int32, **compress_args)\n",
    "\n",
    "# h5file.create_dataset(\"cellanno\", data=anno.values.astype(np.bytes_), **compress_args)\n",
    "\n",
    "h5file.close()"
   ]
  },
  {
   "cell_type": "code",
   "execution_count": null,
   "id": "ec3fe058-1aba-4728-8d18-c7cff3010243",
   "metadata": {},
   "outputs": [],
   "source": []
  }
 ],
 "metadata": {
  "kernelspec": {
   "display_name": "Python 3 (ipykernel)",
   "language": "python",
   "name": "python3"
  },
  "language_info": {
   "codemirror_mode": {
    "name": "ipython",
    "version": 3
   },
   "file_extension": ".py",
   "mimetype": "text/x-python",
   "name": "python",
   "nbconvert_exporter": "python",
   "pygments_lexer": "ipython3",
   "version": "3.9.12"
  }
 },
 "nbformat": 4,
 "nbformat_minor": 5
}
