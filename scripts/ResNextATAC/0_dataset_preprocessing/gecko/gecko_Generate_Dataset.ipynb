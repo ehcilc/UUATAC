{
 "cells": [
  {
   "cell_type": "code",
   "execution_count": null,
   "id": "4d08de83-cc40-4c55-bdfa-c09e11f3b33d",
   "metadata": {},
   "outputs": [],
   "source": [
    "import h5py\n",
    "import pysam\n",
    "\n",
    "import numpy as np\n",
    "import pandas as pd\n",
    "from scipy.sparse import coo_matrix,csc_matrix\n",
    "\n",
    "import seaborn as sns\n",
    "import matplotlib.pyplot as plt\n",
    "import scanpy as sc\n",
    "import os\n",
    "import anndata"
   ]
  },
  {
   "cell_type": "code",
   "execution_count": null,
   "id": "fdcc612c-0b6f-4bed-9c41-149dcc1b3aad",
   "metadata": {},
   "outputs": [],
   "source": [
    "DataDir = '/file/path/prefix/'\n",
    "positive_ad = sc.read(os.path.join(DataDir,'Gecko_5wCells_13wPeaks.h5ad'))\n",
    "positive_ad"
   ]
  },
  {
   "cell_type": "code",
   "execution_count": null,
   "id": "42dcda3b-c03d-46ea-8513-fea8c829ebfa",
   "metadata": {},
   "outputs": [],
   "source": [
    "positive_ad.var_names"
   ]
  },
  {
   "cell_type": "code",
   "execution_count": null,
   "id": "4284ede0-84ca-4cd2-b47a-16a2ece17618",
   "metadata": {},
   "outputs": [],
   "source": [
    "#create negative sample matrix"
   ]
  },
  {
   "cell_type": "code",
   "execution_count": null,
   "id": "1fd490ef-753e-4866-9324-35096d99e397",
   "metadata": {},
   "outputs": [],
   "source": [
    "nega = csc_matrix(arg1=(50029,69136))\n",
    "nega = sc.AnnData(nega)"
   ]
  },
  {
   "cell_type": "code",
   "execution_count": null,
   "id": "51cc5b0e-2a64-4fbf-96b4-f247dc02967b",
   "metadata": {},
   "outputs": [],
   "source": [
    "nega.X.toarray()"
   ]
  },
  {
   "cell_type": "code",
   "execution_count": null,
   "id": "33063b2c-b5d2-4f03-8d11-7a6f8bc6a1fb",
   "metadata": {},
   "outputs": [],
   "source": [
    "nega.var_names"
   ]
  },
  {
   "cell_type": "code",
   "execution_count": null,
   "id": "5119a35a-fc96-4a0f-9f43-2ef963d3da69",
   "metadata": {},
   "outputs": [],
   "source": [
    "nega_peak = pd.read_csv('./nega_gecko.csv')\n",
    "nega_peak"
   ]
  },
  {
   "cell_type": "code",
   "execution_count": null,
   "id": "16a06028-4373-46c3-a079-73d9c9494709",
   "metadata": {},
   "outputs": [],
   "source": [
    "nega.var_names = nega_peak['windows_negative_peak'].values"
   ]
  },
  {
   "cell_type": "code",
   "execution_count": null,
   "id": "ad1e86af-0576-40f9-976a-19212e239f40",
   "metadata": {},
   "outputs": [],
   "source": [
    "nega.var['features'] = nega.var_names"
   ]
  },
  {
   "cell_type": "code",
   "execution_count": null,
   "id": "b4720278-4a79-40cf-9bdf-e8be1b765208",
   "metadata": {},
   "outputs": [],
   "source": [
    "nega.obs_names = positive_ad.obs_names"
   ]
  },
  {
   "cell_type": "code",
   "execution_count": null,
   "id": "b7a999b0-394c-4d55-92ee-11e708f203e1",
   "metadata": {},
   "outputs": [],
   "source": [
    "nega.obs"
   ]
  },
  {
   "cell_type": "code",
   "execution_count": null,
   "id": "1a355810-3940-47d0-9fce-cf91b6322805",
   "metadata": {},
   "outputs": [],
   "source": [
    "positive_ad.obs"
   ]
  },
  {
   "cell_type": "code",
   "execution_count": null,
   "id": "4fde06d0-cbd7-4c2b-a74f-0fa74a4d749a",
   "metadata": {},
   "outputs": [],
   "source": [
    "positive_ad.shape, nega.shape"
   ]
  },
  {
   "cell_type": "code",
   "execution_count": null,
   "id": "5e921ea8-0a1d-4d03-b1af-ce708c26b556",
   "metadata": {},
   "outputs": [],
   "source": [
    "merge_pos_nega = anndata.concat([positive_ad,nega],join='outer',axis = 1)\n",
    "merge_pos_nega"
   ]
  },
  {
   "cell_type": "code",
   "execution_count": null,
   "id": "899a1020-24c6-4334-9cac-9203b9e2fb2e",
   "metadata": {},
   "outputs": [],
   "source": [
    "merge_pos_nega.var"
   ]
  },
  {
   "cell_type": "code",
   "execution_count": null,
   "id": "b83b333f-d3b3-4007-9897-d5942e5e0303",
   "metadata": {},
   "outputs": [],
   "source": [
    "1.shuffle"
   ]
  },
  {
   "cell_type": "code",
   "execution_count": null,
   "id": "8d1e7706-e787-4ca0-b7a0-020ae728fb7b",
   "metadata": {},
   "outputs": [],
   "source": [
    "## shuffle ad.var\n",
    "import random\n",
    "\n",
    "def shuffleData(ad, seed=666):\n",
    "    random.seed(seed)\n",
    "    index = [i for i in range(len(ad.var))]\n",
    "    random.shuffle(index)\n",
    "    ad_shuffled = ad[:,index]\n",
    "    return ad_shuffled"
   ]
  },
  {
   "cell_type": "code",
   "execution_count": null,
   "id": "2aa9a758-8c3f-4ec9-bae8-3553ec156b56",
   "metadata": {},
   "outputs": [],
   "source": [
    "ad = shuffleData(merge_pos_nega)\n",
    "ad"
   ]
  },
  {
   "cell_type": "code",
   "execution_count": null,
   "id": "ce3769c0-130b-46f9-85f8-7eeeaaf361b1",
   "metadata": {},
   "outputs": [],
   "source": [
    "ad.var"
   ]
  },
  {
   "cell_type": "code",
   "execution_count": null,
   "id": "4a07f5df-20e5-447a-82a8-7b7b1ec2608e",
   "metadata": {},
   "outputs": [],
   "source": [
    "feature = ad.var['features'].str.split(pat='-', n=-1, expand=True).rename(columns={0:'prefix', 1:'chr', 2:'start', 3:'end'}) \n",
    "feature"
   ]
  },
  {
   "cell_type": "code",
   "execution_count": null,
   "id": "964656db-e904-4f36-98a7-6b894728fad4",
   "metadata": {},
   "outputs": [],
   "source": [
    "feature['chr'] = ['NC_'+feature['chr'][i] for i in range(feature.shape[0])]\n",
    "feature = feature.iloc[:,1:4]\n",
    "feature"
   ]
  },
  {
   "cell_type": "code",
   "execution_count": null,
   "id": "32b47afd-4b89-4ee7-82bf-7cf7c21732fe",
   "metadata": {},
   "outputs": [],
   "source": [
    "ad.var['chr'] = feature['chr'].values\n",
    "ad.var['start'] = feature['start'].values\n",
    "ad.var['end'] = feature['end'].values"
   ]
  },
  {
   "cell_type": "code",
   "execution_count": null,
   "id": "a83cb000-16a6-477f-826c-b03b25085db6",
   "metadata": {},
   "outputs": [],
   "source": [
    "peaks = ad.var.iloc[:,1:4]\n",
    "peaks"
   ]
  },
  {
   "cell_type": "code",
   "execution_count": null,
   "id": "76343a90-45c9-4d5c-b8fa-f89dff4b0d34",
   "metadata": {},
   "outputs": [],
   "source": [
    "#one-hot"
   ]
  },
  {
   "cell_type": "code",
   "execution_count": null,
   "id": "2e2eb4ba-8af0-4657-a309-091615f143d4",
   "metadata": {},
   "outputs": [],
   "source": [
    "onehot_nuc = {'A':[1,0,0,0],\n",
    "            'C':[0,1,0,0],\n",
    "            'G':[0,0,1,0],\n",
    "            'T':[0,0,0,1],\n",
    "            'N':[0,0,0,0]}\n",
    "            \n",
    "def _onehot_seq(seq):\n",
    "    return np.array([onehot_nuc[nuc] for nuc in str(seq).upper()])"
   ]
  },
  {
   "cell_type": "code",
   "execution_count": null,
   "id": "7baa8c77-d368-43bd-8e02-31c0ab37974a",
   "metadata": {},
   "outputs": [],
   "source": [
    "# genome\n",
    "genome = pysam.Fastafile('/file/path/prefix/ref/Emac_v1/GCF_028583425.1_MPM_Emac_v1.0_genomic.fna')\n",
    "genome"
   ]
  },
  {
   "cell_type": "code",
   "execution_count": null,
   "id": "f5edcbeb-f5bf-40c0-870c-34b3975c72ab",
   "metadata": {},
   "outputs": [],
   "source": [
    "from tqdm import tqdm"
   ]
  },
  {
   "cell_type": "code",
   "execution_count": null,
   "id": "1e777db1-018a-4f7f-a6a4-9d8f522a3383",
   "metadata": {},
   "outputs": [],
   "source": [
    "seq_onehot = []\n",
    "\n",
    "for peak in tqdm(peaks.values):\n",
    "    seqnames, start, end = peak[:3]\n",
    "    #chrom = str(seqnames.replace(\"chr\",\"\"))\n",
    "    start, end = int(start), int(end)\n",
    "    chrom = seqnames\n",
    "    # catch overflowed error\n",
    "    chrom_size = genome.get_reference_length(chrom)\n",
    "    if end >= chrom_size:\n",
    "        print(peak[-1])\n",
    "        pad = 'N' * (end - chrom_size) # pad N\n",
    "        end = chrom_size\n",
    "    # fetch sequence \n",
    "    seq = genome.fetch(reference=chrom, start=start, end=end)\n",
    "    # pad N\n",
    "    if start + 500 > chrom_size:\n",
    "        seq += pad\n",
    "    # onehot    \n",
    "    seq = _onehot_seq(seq)\n",
    "    seq_onehot.append(seq)\n",
    "\n",
    "seq_onehot = np.array(seq_onehot, dtype=np.bool)\n",
    "genome.close()\n",
    "\n",
    "seq_onehot.shape"
   ]
  },
  {
   "cell_type": "code",
   "execution_count": null,
   "id": "1afb2e15-fab1-46ed-9094-926b62ac4e4d",
   "metadata": {},
   "outputs": [],
   "source": [
    "#.Split train/valid/test data"
   ]
  },
  {
   "cell_type": "code",
   "execution_count": null,
   "id": "24206ce4-5e5e-456e-9eee-6266720ccc14",
   "metadata": {},
   "outputs": [],
   "source": [
    "from sklearn.model_selection import train_test_split"
   ]
  },
  {
   "cell_type": "code",
   "execution_count": null,
   "id": "d2479598-ced9-418f-b39e-1d205ff14073",
   "metadata": {},
   "outputs": [],
   "source": [
    "idx = peaks.index.values\n",
    "mask = peaks.chr.astype(str) == 'NC_072797.1'\n",
    "\n",
    "test_idx = idx[mask]\n",
    "train_val_idx = idx[~mask]\n",
    "\n",
    "train_idx, val_idx = train_test_split(train_val_idx, test_size=0.1)\n",
    "\n",
    "train_idx.shape, val_idx.shape, test_idx.shape"
   ]
  },
  {
   "cell_type": "code",
   "execution_count": null,
   "id": "4d5dba7b-a4c9-4f18-885d-3e6951ed4d58",
   "metadata": {},
   "outputs": [],
   "source": [
    "peaks['train_test_split'] = \"train\"\n",
    "peaks.loc[train_idx, 'train_test_split'] = \"train\"\n",
    "peaks.loc[val_idx, 'train_test_split'] = \"val\"\n",
    "peaks.loc[test_idx, 'train_test_split'] = \"test\"\n",
    "\n",
    "peaks.head()"
   ]
  },
  {
   "cell_type": "code",
   "execution_count": null,
   "id": "c3260812-725b-439c-a324-d1716d21d613",
   "metadata": {},
   "outputs": [],
   "source": [
    "# create coordinate sparse matrix\n",
    "pmat_co = coo_matrix(ad.X.T)"
   ]
  },
  {
   "cell_type": "code",
   "execution_count": null,
   "id": "f6e37c08-aa3d-4022-9670-c3e692ad8d97",
   "metadata": {},
   "outputs": [],
   "source": [
    "pmat_co.shape"
   ]
  },
  {
   "cell_type": "code",
   "execution_count": null,
   "id": "a5882071-0e34-4aa3-915f-e245bccb807a",
   "metadata": {},
   "outputs": [],
   "source": [
    "## 5.Write\n",
    "compress_args = {'compression': 'gzip', 'compression_opts': 1}\n",
    "\n",
    "h5file = h5py.File('Gecko_5wCells_13wPeaks_6wnegative.shuffled.noimpute.500bp.20230901.h5', 'a')\n",
    "h5file.create_dataset(\"pmat/X\", data=seq_onehot, dtype=bool, **compress_args)\n",
    "h5file.create_dataset(\"pmat/peak\", data=peaks.values.astype(np.bytes_), **compress_args)\n",
    "\n",
    "# h5file.create_dataset(\"pmat/pmat_sc/y\", data=y, dtype=np.float32, **compress_args)\n",
    "h5file.create_dataset(\"pmat/pmat_sc/i\", data=pmat_co.row, dtype=np.int32, **compress_args)\n",
    "h5file.create_dataset(\"pmat/pmat_sc/j\", data=pmat_co.col, dtype=np.int32, **compress_args)\n",
    "h5file.create_dataset(\"pmat/pmat_sc/x\", data=pmat_co.data, dtype=np.int32, **compress_args)\n",
    "h5file.create_dataset(\"pmat/pmat_sc/dim\", data=pmat_co.shape, dtype=np.int32, **compress_args)\n",
    "\n",
    "# h5file.create_dataset(\"cellanno\", data=anno.values.astype(np.bytes_), **compress_args)\n",
    "\n",
    "h5file.close()"
   ]
  }
 ],
 "metadata": {
  "kernelspec": {
   "display_name": "Python 3 (ipykernel)",
   "language": "python",
   "name": "python3"
  },
  "language_info": {
   "codemirror_mode": {
    "name": "ipython",
    "version": 3
   },
   "file_extension": ".py",
   "mimetype": "text/x-python",
   "name": "python",
   "nbconvert_exporter": "python",
   "pygments_lexer": "ipython3",
   "version": "3.9.12"
  }
 },
 "nbformat": 4,
 "nbformat_minor": 5
}
