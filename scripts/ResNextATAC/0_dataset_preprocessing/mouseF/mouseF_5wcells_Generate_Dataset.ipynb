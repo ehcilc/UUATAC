{
 "cells": [
  {
   "cell_type": "code",
   "execution_count": null,
   "id": "fe5f03ec-23c6-47fa-afc4-69901b631016",
   "metadata": {},
   "outputs": [],
   "source": [
    "import h5py\n",
    "import pysam\n",
    "\n",
    "import numpy as np\n",
    "import pandas as pd\n",
    "from scipy.sparse import coo_matrix,csc_matrix\n",
    "\n",
    "import seaborn as sns\n",
    "import matplotlib.pyplot as plt\n",
    "import scanpy as sc\n",
    "import os\n",
    "import anndata"
   ]
  },
  {
   "cell_type": "code",
   "execution_count": null,
   "id": "0633a83b-745a-4b34-ab66-6832501e9db9",
   "metadata": {},
   "outputs": [],
   "source": [
    "DataDir = '/file/path/prefix/'\n",
    "positive_ad = sc.read(os.path.join(DataDir,'Mouse_Female_5wCells_17wPeaks.h5ad'))\n",
    "positive_ad"
   ]
  },
  {
   "cell_type": "code",
   "execution_count": null,
   "id": "b3b4f200-3e80-44bf-9c4c-04eda9d573b6",
   "metadata": {},
   "outputs": [],
   "source": [
    "positive_ad.var_names"
   ]
  },
  {
   "cell_type": "code",
   "execution_count": null,
   "id": "6fe248e0-9c5e-44f6-b068-31c3a988a2a7",
   "metadata": {},
   "outputs": [],
   "source": [
    "#create negative sample matrix"
   ]
  },
  {
   "cell_type": "code",
   "execution_count": null,
   "id": "af64d251-81e0-4d1f-86e7-6eb0bec13bda",
   "metadata": {},
   "outputs": [],
   "source": [
    "nega = csc_matrix(arg1=(50040,87919))\n",
    "nega = sc.AnnData(nega)"
   ]
  },
  {
   "cell_type": "code",
   "execution_count": null,
   "id": "28c48273-8ac6-4fc5-b356-4690d4f92754",
   "metadata": {},
   "outputs": [],
   "source": [
    "nega.var_names"
   ]
  },
  {
   "cell_type": "code",
   "execution_count": null,
   "id": "c542608e-2713-49c9-9638-f5ea148107df",
   "metadata": {},
   "outputs": [],
   "source": [
    "nega_peak = pd.read_csv('./nega_femalemus.csv')\n",
    "nega_peak"
   ]
  },
  {
   "cell_type": "code",
   "execution_count": null,
   "id": "08eba4cb-01c2-40ec-b18b-a2fc09830d96",
   "metadata": {},
   "outputs": [],
   "source": [
    "nega.var_names = nega_peak['windows_negative_subset'].values"
   ]
  },
  {
   "cell_type": "code",
   "execution_count": null,
   "id": "a17b4071-3ff9-4a85-a5b7-d20801d68330",
   "metadata": {},
   "outputs": [],
   "source": [
    "nega.var['features'] = nega.var_names"
   ]
  },
  {
   "cell_type": "code",
   "execution_count": null,
   "id": "8dcc4f20-71c8-4779-99e0-8da341c8591d",
   "metadata": {},
   "outputs": [],
   "source": [
    "nega.obs_names = positive_ad.obs_names"
   ]
  },
  {
   "cell_type": "code",
   "execution_count": null,
   "id": "1dc37cf5-c83a-4187-a1fd-78ed6a4748fb",
   "metadata": {},
   "outputs": [],
   "source": [
    "nega.obs"
   ]
  },
  {
   "cell_type": "code",
   "execution_count": null,
   "id": "7b3f91f9-7264-411f-904f-304117ddca27",
   "metadata": {},
   "outputs": [],
   "source": [
    "positive_ad.obs"
   ]
  },
  {
   "cell_type": "code",
   "execution_count": null,
   "id": "529f026c-a641-4feb-98e6-93045cefaf31",
   "metadata": {},
   "outputs": [],
   "source": [
    "positive_ad.shape, nega.shape"
   ]
  },
  {
   "cell_type": "code",
   "execution_count": null,
   "id": "75c59c7f-888f-490c-9283-45e4bda8fe0f",
   "metadata": {},
   "outputs": [],
   "source": [
    "merge_pos_nega = anndata.concat([positive_ad,nega],join='outer',axis = 1)\n",
    "merge_pos_nega"
   ]
  },
  {
   "cell_type": "code",
   "execution_count": null,
   "id": "ead5fb51-a5bb-4463-ab03-d72e59a338fc",
   "metadata": {},
   "outputs": [],
   "source": [
    "merge_pos_nega.var"
   ]
  },
  {
   "cell_type": "code",
   "execution_count": null,
   "id": "5cac1792-ee1d-42dd-a736-92a2e51dd086",
   "metadata": {},
   "outputs": [],
   "source": [
    "1.shuffle"
   ]
  },
  {
   "cell_type": "code",
   "execution_count": null,
   "id": "341b489c-7360-4f7e-9a78-918ef9b6ea52",
   "metadata": {},
   "outputs": [],
   "source": [
    "## shuffle ad.var\n",
    "import random\n",
    "\n",
    "def shuffleData(ad, seed=666):\n",
    "    random.seed(seed)\n",
    "    index = [i for i in range(len(ad.var))]\n",
    "    random.shuffle(index)\n",
    "    ad_shuffled = ad[:,index]\n",
    "    return ad_shuffled"
   ]
  },
  {
   "cell_type": "code",
   "execution_count": null,
   "id": "47f110dd-8235-43ff-ac76-78725bc3d9e3",
   "metadata": {},
   "outputs": [],
   "source": [
    "ad = shuffleData(merge_pos_nega)\n",
    "ad"
   ]
  },
  {
   "cell_type": "code",
   "execution_count": null,
   "id": "15c96962-5cd5-4662-981f-c6f542aea9d1",
   "metadata": {},
   "outputs": [],
   "source": [
    "ad.var"
   ]
  },
  {
   "cell_type": "code",
   "execution_count": null,
   "id": "96ffa554-99bd-41f2-87c6-acd1499a1717",
   "metadata": {},
   "outputs": [],
   "source": [
    "feature = ad.var['features'].str.split(pat='-', n=-1, expand=True).rename(columns={0:'chr', 1:'start', 2:'end'}) \n",
    "feature['features'] = feature.chr+'-'+feature.start+'-'+feature.end\n",
    "feature"
   ]
  },
  {
   "cell_type": "code",
   "execution_count": null,
   "id": "6b6679ab-2cc2-4dc5-aea4-74ec626ac6ad",
   "metadata": {},
   "outputs": [],
   "source": [
    "ad.var['chr'] = feature['chr'].values\n",
    "ad.var['start'] = feature['start'].values\n",
    "ad.var['end'] = feature['end'].values"
   ]
  },
  {
   "cell_type": "code",
   "execution_count": null,
   "id": "904809cd-4b46-4b34-ac2e-853fc6c39ef2",
   "metadata": {},
   "outputs": [],
   "source": [
    "ad.var"
   ]
  },
  {
   "cell_type": "code",
   "execution_count": null,
   "id": "d057ec83-9cdf-4158-8a52-710561262b06",
   "metadata": {},
   "outputs": [],
   "source": [
    "peaks = ad.var.iloc[:,1:4]\n",
    "peaks"
   ]
  },
  {
   "cell_type": "code",
   "execution_count": null,
   "id": "3904a859-4427-488b-8050-e7f0c7555cba",
   "metadata": {},
   "outputs": [],
   "source": [
    "#start to pre datasets"
   ]
  },
  {
   "cell_type": "code",
   "execution_count": null,
   "id": "d951b8ca-f9f1-40dd-b925-9eca641adea2",
   "metadata": {},
   "outputs": [],
   "source": [
    "#ad.copy()\n",
    "#y = ad.X.T.toarray()\n",
    "#y[:5,:5],y.shape"
   ]
  },
  {
   "cell_type": "code",
   "execution_count": null,
   "id": "3ce42fc7-9b84-4b90-a566-866bbc59fe8b",
   "metadata": {},
   "outputs": [],
   "source": [
    "#one-hot"
   ]
  },
  {
   "cell_type": "code",
   "execution_count": null,
   "id": "4a88c386-05d2-474b-aa44-b90682eaa8af",
   "metadata": {},
   "outputs": [],
   "source": [
    "onehot_nuc = {'A':[1,0,0,0],\n",
    "            'C':[0,1,0,0],\n",
    "            'G':[0,0,1,0],\n",
    "            'T':[0,0,0,1],\n",
    "            'N':[0,0,0,0]}\n",
    "            \n",
    "def _onehot_seq(seq):\n",
    "    return np.array([onehot_nuc[nuc] for nuc in str(seq).upper()])"
   ]
  },
  {
   "cell_type": "code",
   "execution_count": null,
   "id": "987c89d3-d094-4ffd-938c-2c22eba6adad",
   "metadata": {},
   "outputs": [],
   "source": [
    "# genome\n",
    "genome = pysam.Fastafile('/file/path/prefix/ref/mm10/mm10.fa')\n",
    "genome"
   ]
  },
  {
   "cell_type": "code",
   "execution_count": null,
   "id": "c4f6d0f6-c0bf-440a-ace7-9567dbb084ae",
   "metadata": {},
   "outputs": [],
   "source": [
    "seq_onehot = []\n",
    "\n",
    "for peak in tqdm(peaks.values):\n",
    "    seqnames, start, end = peak[:3]\n",
    "    #chrom = str(seqnames.replace(\"chr\",\"\"))\n",
    "    start, end = int(start), int(end)\n",
    "    chrom = seqnames\n",
    "    # catch overflowed error\n",
    "    chrom_size = genome.get_reference_length(chrom)\n",
    "    if end >= chrom_size:\n",
    "        print(peak[-1])\n",
    "        pad = 'N' * (end - chrom_size) # pad N\n",
    "        end = chrom_size\n",
    "    # fetch sequence \n",
    "    seq = genome.fetch(reference=chrom, start=start, end=end)\n",
    "    # pad N\n",
    "    if start + 500 > chrom_size:\n",
    "        seq += pad\n",
    "    # onehot    \n",
    "    seq = _onehot_seq(seq)\n",
    "    seq_onehot.append(seq)\n",
    "\n",
    "seq_onehot = np.array(seq_onehot, dtype=np.bool)\n",
    "genome.close()\n",
    "\n",
    "seq_onehot.shape"
   ]
  },
  {
   "cell_type": "code",
   "execution_count": null,
   "id": "e90d6208-08cc-4946-a725-3596ad374e9e",
   "metadata": {},
   "outputs": [],
   "source": [
    "#.Split train/valid/test data"
   ]
  },
  {
   "cell_type": "code",
   "execution_count": null,
   "id": "42e3a5e9-8ecb-4e99-b2ad-2808a266cb93",
   "metadata": {},
   "outputs": [],
   "source": [
    "from sklearn.model_selection import train_test_split"
   ]
  },
  {
   "cell_type": "code",
   "execution_count": null,
   "id": "d7828327-81f4-45ea-9e88-23269d6b72e1",
   "metadata": {},
   "outputs": [],
   "source": [
    "idx = peaks.index.values\n",
    "mask = peaks.chr.astype(str) == 'chr8'\n",
    "\n",
    "test_idx = idx[mask]\n",
    "train_val_idx = idx[~mask]\n",
    "\n",
    "train_idx, val_idx = train_test_split(train_val_idx, test_size=0.1)\n",
    "\n",
    "train_idx.shape, val_idx.shape, test_idx.shape"
   ]
  },
  {
   "cell_type": "code",
   "execution_count": null,
   "id": "fb10d52c-5c9c-432a-bf65-7711e0831c07",
   "metadata": {},
   "outputs": [],
   "source": [
    "peaks['train_test_split'] = \"train\"\n",
    "peaks.loc[train_idx, 'train_test_split'] = \"train\"\n",
    "peaks.loc[val_idx, 'train_test_split'] = \"val\"\n",
    "peaks.loc[test_idx, 'train_test_split'] = \"test\"\n",
    "\n",
    "peaks.head()"
   ]
  },
  {
   "cell_type": "code",
   "execution_count": null,
   "id": "fa56b92a-aa27-48d9-82e6-5abe948f45c5",
   "metadata": {},
   "outputs": [],
   "source": [
    "# create coordinate sparse matrix\n",
    "pmat_co = coo_matrix(ad.X.T)"
   ]
  },
  {
   "cell_type": "code",
   "execution_count": null,
   "id": "a76e30a0-b807-4aa9-8b10-7f68922395cf",
   "metadata": {},
   "outputs": [],
   "source": [
    "pmat_co.shape"
   ]
  },
  {
   "cell_type": "code",
   "execution_count": null,
   "id": "fd0e401f-f508-4215-8ad5-28112077f4bc",
   "metadata": {},
   "outputs": [],
   "source": [
    "## 5.Write\n",
    "compress_args = {'compression': 'gzip', 'compression_opts': 1}\n",
    "\n",
    "h5file = h5py.File('Femalemus_5wCells_17wPeaks_8wnegative.shuffled.noimpute.500bp.20230822.h5', 'a')\n",
    "h5file.create_dataset(\"pmat/X\", data=seq_onehot, dtype=bool, **compress_args)\n",
    "h5file.create_dataset(\"pmat/peak\", data=peaks.values.astype(np.bytes_), **compress_args)\n",
    "\n",
    "# h5file.create_dataset(\"pmat/pmat_sc/y\", data=y, dtype=np.float32, **compress_args)\n",
    "h5file.create_dataset(\"pmat/pmat_sc/i\", data=pmat_co.row, dtype=np.int32, **compress_args)\n",
    "h5file.create_dataset(\"pmat/pmat_sc/j\", data=pmat_co.col, dtype=np.int32, **compress_args)\n",
    "h5file.create_dataset(\"pmat/pmat_sc/x\", data=pmat_co.data, dtype=np.int32, **compress_args)\n",
    "h5file.create_dataset(\"pmat/pmat_sc/dim\", data=pmat_co.shape, dtype=np.int32, **compress_args)\n",
    "\n",
    "# h5file.create_dataset(\"cellanno\", data=anno.values.astype(np.bytes_), **compress_args)\n",
    "\n",
    "h5file.close()"
   ]
  }
 ],
 "metadata": {
  "kernelspec": {
   "display_name": "Python 3 (ipykernel)",
   "language": "python",
   "name": "python3"
  },
  "language_info": {
   "codemirror_mode": {
    "name": "ipython",
    "version": 3
   },
   "file_extension": ".py",
   "mimetype": "text/x-python",
   "name": "python",
   "nbconvert_exporter": "python",
   "pygments_lexer": "ipython3",
   "version": "3.9.12"
  }
 },
 "nbformat": 4,
 "nbformat_minor": 5
}
