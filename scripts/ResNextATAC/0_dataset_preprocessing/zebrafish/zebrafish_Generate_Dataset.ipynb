{
 "cells": [
  {
   "cell_type": "code",
   "execution_count": null,
   "id": "f5ebf28f-9058-47c6-8691-907aba3c1977",
   "metadata": {},
   "outputs": [],
   "source": [
    "import h5py\n",
    "import pysam\n",
    "\n",
    "import numpy as np\n",
    "import pandas as pd\n",
    "from scipy.sparse import coo_matrix,csc_matrix\n",
    "\n",
    "import seaborn as sns\n",
    "import matplotlib.pyplot as plt\n",
    "import scanpy as sc\n",
    "import os\n",
    "import anndata"
   ]
  },
  {
   "cell_type": "code",
   "execution_count": null,
   "id": "ff96511a-e472-4421-ab3c-08d17de36435",
   "metadata": {},
   "outputs": [],
   "source": [
    "DataDir = '/file/path/prefix/'\n",
    "positive_ad = sc.read(os.path.join(DataDir,'Zebrafish_5wCells_7wPeaks.h5ad'))\n",
    "positive_ad"
   ]
  },
  {
   "cell_type": "code",
   "execution_count": null,
   "id": "eb64d0c0-970b-49a6-81c5-a850de60f38d",
   "metadata": {},
   "outputs": [],
   "source": [
    "positive_ad.var_names"
   ]
  },
  {
   "cell_type": "code",
   "execution_count": null,
   "id": "4f6b3046-5e0c-4458-92d1-01b30a29f467",
   "metadata": {},
   "outputs": [],
   "source": [
    "A=positive_ad.X\n",
    "from numpy import count_nonzero\n",
    "from scipy.sparse import csr_matrix \n",
    "1-count_nonzero(A.toarray())/A.toarray().size"
   ]
  },
  {
   "cell_type": "code",
   "execution_count": null,
   "id": "bb32c610-2613-40a7-8723-e28b47d2242c",
   "metadata": {},
   "outputs": [],
   "source": [
    "#create negative sample matrix"
   ]
  },
  {
   "cell_type": "code",
   "execution_count": null,
   "id": "7ba1295f-721e-4ba1-8d84-f382bad1f655",
   "metadata": {},
   "outputs": [],
   "source": [
    "nega = csc_matrix(arg1=(50027,37225))\n",
    "nega = sc.AnnData(nega)"
   ]
  },
  {
   "cell_type": "code",
   "execution_count": null,
   "id": "28f0aae2-4fac-4c53-945b-fc891a5cec1d",
   "metadata": {},
   "outputs": [],
   "source": [
    "nega.X.toarray()"
   ]
  },
  {
   "cell_type": "code",
   "execution_count": null,
   "id": "ed4e58bb-6f9c-4ef7-88c2-8a3916928b48",
   "metadata": {},
   "outputs": [],
   "source": [
    "nega.var_names"
   ]
  },
  {
   "cell_type": "code",
   "execution_count": null,
   "id": "8dcf9bec-5263-4814-a4f9-63990a9c1477",
   "metadata": {},
   "outputs": [],
   "source": [
    "nega_peak = pd.read_csv('./nega_zf.csv')\n",
    "nega_peak"
   ]
  },
  {
   "cell_type": "code",
   "execution_count": null,
   "id": "425b4421-1031-4547-9f44-efca24d17fa0",
   "metadata": {},
   "outputs": [],
   "source": [
    "nega.var_names = nega_peak['windows_negative_peak'].values"
   ]
  },
  {
   "cell_type": "code",
   "execution_count": null,
   "id": "c808bbd3-61e1-48ee-a2b1-c000e5073a48",
   "metadata": {},
   "outputs": [],
   "source": [
    "nega.var['features'] = nega.var_names"
   ]
  },
  {
   "cell_type": "code",
   "execution_count": null,
   "id": "7923489e-cdad-4a57-b2aa-873e535c9e89",
   "metadata": {},
   "outputs": [],
   "source": [
    "nega.obs_names = positive_ad.obs_names"
   ]
  },
  {
   "cell_type": "code",
   "execution_count": null,
   "id": "a160ba12-78e4-454f-a45a-c26dd246f5b3",
   "metadata": {},
   "outputs": [],
   "source": [
    "nega.obs"
   ]
  },
  {
   "cell_type": "code",
   "execution_count": null,
   "id": "885aa863-fc2f-465c-887a-d568dca6c0b3",
   "metadata": {},
   "outputs": [],
   "source": [
    "positive_ad.obs"
   ]
  },
  {
   "cell_type": "code",
   "execution_count": null,
   "id": "a67a3b5b-d1e0-48e8-87c1-2288269354cc",
   "metadata": {},
   "outputs": [],
   "source": [
    "positive_ad.shape, nega.shape"
   ]
  },
  {
   "cell_type": "code",
   "execution_count": null,
   "id": "4debbda8-bf0d-4ffa-af93-2df12a2b0695",
   "metadata": {},
   "outputs": [],
   "source": [
    "merge_pos_nega = anndata.concat([positive_ad,nega],join='outer',axis = 1)\n",
    "merge_pos_nega"
   ]
  },
  {
   "cell_type": "code",
   "execution_count": null,
   "id": "fe150bb2-fb90-4ae6-80ae-05c8d79f30a3",
   "metadata": {},
   "outputs": [],
   "source": [
    "merge_pos_nega.var"
   ]
  },
  {
   "cell_type": "code",
   "execution_count": null,
   "id": "cff0b702-a98d-4f38-9dbf-8a753775840d",
   "metadata": {},
   "outputs": [],
   "source": [
    "1.shuffle"
   ]
  },
  {
   "cell_type": "code",
   "execution_count": null,
   "id": "97dc8af2-04c9-402d-a09f-c64b7d9147cb",
   "metadata": {},
   "outputs": [],
   "source": [
    "## shuffle ad.var\n",
    "import random\n",
    "\n",
    "def shuffleData(ad, seed=666):\n",
    "    random.seed(seed)\n",
    "    index = [i for i in range(len(ad.var))]\n",
    "    random.shuffle(index)\n",
    "    ad_shuffled = ad[:,index]\n",
    "    return ad_shuffled"
   ]
  },
  {
   "cell_type": "code",
   "execution_count": null,
   "id": "b197c677-4b90-49b6-91c8-7859aad9dda3",
   "metadata": {},
   "outputs": [],
   "source": [
    "ad = shuffleData(merge_pos_nega)\n",
    "ad"
   ]
  },
  {
   "cell_type": "code",
   "execution_count": null,
   "id": "22021a2d-fa2e-436b-a3c2-6a865f16ecd4",
   "metadata": {},
   "outputs": [],
   "source": [
    "ad.var"
   ]
  },
  {
   "cell_type": "code",
   "execution_count": null,
   "id": "3b6cb9d2-4199-41cc-9e90-e95edf60c16f",
   "metadata": {},
   "outputs": [],
   "source": [
    "feature = ad.var['features'].str.split(pat='-', n=-1, expand=True).rename(columns={0:'chr', 1:'start', 2:'end'}) \n",
    "feature['features'] = feature.chr+'-'+feature.start+'-'+feature.end\n",
    "feature"
   ]
  },
  {
   "cell_type": "code",
   "execution_count": null,
   "id": "4ad5ccc4-0daa-4571-a2b6-f1bb6be291b3",
   "metadata": {},
   "outputs": [],
   "source": [
    "ad.var['chr'] = feature['chr'].values\n",
    "ad.var['start'] = feature['start'].values\n",
    "ad.var['end'] = feature['end'].values"
   ]
  },
  {
   "cell_type": "code",
   "execution_count": null,
   "id": "f298410b-30b2-4c6c-a0ef-9b3e8525d27c",
   "metadata": {},
   "outputs": [],
   "source": [
    "peaks = ad.var.iloc[:,1:4]\n",
    "peaks"
   ]
  },
  {
   "cell_type": "code",
   "execution_count": null,
   "id": "1796b064-b3f0-44f9-8595-e1c3ec3bb68b",
   "metadata": {},
   "outputs": [],
   "source": [
    "#one-hot"
   ]
  },
  {
   "cell_type": "code",
   "execution_count": null,
   "id": "2bed2a6c-5f5a-42c1-9929-626f71ea2b32",
   "metadata": {},
   "outputs": [],
   "source": [
    "onehot_nuc = {'A':[1,0,0,0],\n",
    "            'C':[0,1,0,0],\n",
    "            'G':[0,0,1,0],\n",
    "            'T':[0,0,0,1],\n",
    "            'N':[0,0,0,0]}\n",
    "            \n",
    "def _onehot_seq(seq):\n",
    "    return np.array([onehot_nuc[nuc] for nuc in str(seq).upper()])"
   ]
  },
  {
   "cell_type": "code",
   "execution_count": null,
   "id": "8db85850-3ce6-4360-b691-b916c5c75ed2",
   "metadata": {},
   "outputs": [],
   "source": [
    "# genome\n",
    "genome = pysam.Fastafile('/file/path/prefix/ref/danRer11/danRer11.fa')\n",
    "genome"
   ]
  },
  {
   "cell_type": "code",
   "execution_count": null,
   "id": "bc2fb344-a111-4356-b0cc-0b6371a87c5d",
   "metadata": {},
   "outputs": [],
   "source": [
    "from tqdm import tqdm"
   ]
  },
  {
   "cell_type": "code",
   "execution_count": null,
   "id": "48384338-29dc-47f0-b206-d9b11a5f0401",
   "metadata": {},
   "outputs": [],
   "source": [
    "seq_onehot = []\n",
    "\n",
    "for peak in tqdm(peaks.values):\n",
    "    seqnames, start, end = peak[:3]\n",
    "    #chrom = str(seqnames.replace(\"chr\",\"\"))\n",
    "    start, end = int(start), int(end)\n",
    "    chrom = seqnames\n",
    "    # catch overflowed error\n",
    "    chrom_size = genome.get_reference_length(chrom)\n",
    "    if end >= chrom_size:\n",
    "        print(peak[-1])\n",
    "        pad = 'N' * (end - chrom_size) # pad N\n",
    "        end = chrom_size\n",
    "    # fetch sequence \n",
    "    seq = genome.fetch(reference=chrom, start=start, end=end)\n",
    "    # pad N\n",
    "    if start + 500 > chrom_size:\n",
    "        seq += pad\n",
    "    # onehot    \n",
    "    seq = _onehot_seq(seq)\n",
    "    seq_onehot.append(seq)\n",
    "\n",
    "seq_onehot = np.array(seq_onehot, dtype=np.bool)\n",
    "genome.close()\n",
    "\n",
    "seq_onehot.shape"
   ]
  },
  {
   "cell_type": "code",
   "execution_count": null,
   "id": "f7512152-7949-418c-93d1-bdb6eff235ca",
   "metadata": {},
   "outputs": [],
   "source": [
    "#.Split train/valid/test data"
   ]
  },
  {
   "cell_type": "code",
   "execution_count": null,
   "id": "0e5f7ff8-f340-45cb-8e30-d1f9492f6808",
   "metadata": {},
   "outputs": [],
   "source": [
    "from sklearn.model_selection import train_test_split"
   ]
  },
  {
   "cell_type": "code",
   "execution_count": null,
   "id": "c4006d71-2650-4c71-b42f-84e909bfdaaf",
   "metadata": {},
   "outputs": [],
   "source": [
    "idx = peaks.index.values\n",
    "mask = peaks.chr.astype(str) == 'chr8'\n",
    "\n",
    "test_idx = idx[mask]\n",
    "train_val_idx = idx[~mask]\n",
    "\n",
    "train_idx, val_idx = train_test_split(train_val_idx, test_size=0.1)\n",
    "\n",
    "train_idx.shape, val_idx.shape, test_idx.shape"
   ]
  },
  {
   "cell_type": "code",
   "execution_count": null,
   "id": "29841023-8272-407a-a981-9fb7ffb90d2c",
   "metadata": {},
   "outputs": [],
   "source": [
    "peaks['train_test_split'] = \"train\"\n",
    "peaks.loc[train_idx, 'train_test_split'] = \"train\"\n",
    "peaks.loc[val_idx, 'train_test_split'] = \"val\"\n",
    "peaks.loc[test_idx, 'train_test_split'] = \"test\"\n",
    "\n",
    "peaks.head()"
   ]
  },
  {
   "cell_type": "code",
   "execution_count": null,
   "id": "baa179c3-421c-475c-bcb4-5d37061821e0",
   "metadata": {},
   "outputs": [],
   "source": [
    "# create coordinate sparse matrix\n",
    "pmat_co = coo_matrix(ad.X.T)"
   ]
  },
  {
   "cell_type": "code",
   "execution_count": null,
   "id": "e6ccb797-5b74-443e-b664-6436c8a231f9",
   "metadata": {},
   "outputs": [],
   "source": [
    "pmat_co.shape"
   ]
  },
  {
   "cell_type": "code",
   "execution_count": null,
   "id": "8493780f-3981-4d9a-90ac-f4545e1f4abc",
   "metadata": {},
   "outputs": [],
   "source": [
    "## 5.Write\n",
    "compress_args = {'compression': 'gzip', 'compression_opts': 1}\n",
    "\n",
    "h5file = h5py.File('Zebrafish_5wCells_7wPeaks_3wnegative.shuffled.noimpute.500bp.20230916.h5', 'a')\n",
    "h5file.create_dataset(\"pmat/X\", data=seq_onehot, dtype=bool, **compress_args)\n",
    "h5file.create_dataset(\"pmat/peak\", data=peaks.values.astype(np.bytes_), **compress_args)\n",
    "\n",
    "# h5file.create_dataset(\"pmat/pmat_sc/y\", data=y, dtype=np.float32, **compress_args)\n",
    "h5file.create_dataset(\"pmat/pmat_sc/i\", data=pmat_co.row, dtype=np.int32, **compress_args)\n",
    "h5file.create_dataset(\"pmat/pmat_sc/j\", data=pmat_co.col, dtype=np.int32, **compress_args)\n",
    "h5file.create_dataset(\"pmat/pmat_sc/x\", data=pmat_co.data, dtype=np.int32, **compress_args)\n",
    "h5file.create_dataset(\"pmat/pmat_sc/dim\", data=pmat_co.shape, dtype=np.int32, **compress_args)\n",
    "\n",
    "# h5file.create_dataset(\"cellanno\", data=anno.values.astype(np.bytes_), **compress_args)\n",
    "\n",
    "h5file.close()"
   ]
  },
  {
   "cell_type": "code",
   "execution_count": null,
   "id": "9202ab86-63d1-49be-b54e-f7a722267a2b",
   "metadata": {},
   "outputs": [],
   "source": []
  }
 ],
 "metadata": {
  "kernelspec": {
   "display_name": "Python 3 (ipykernel)",
   "language": "python",
   "name": "python3"
  },
  "language_info": {
   "codemirror_mode": {
    "name": "ipython",
    "version": 3
   },
   "file_extension": ".py",
   "mimetype": "text/x-python",
   "name": "python",
   "nbconvert_exporter": "python",
   "pygments_lexer": "ipython3",
   "version": "3.9.12"
  }
 },
 "nbformat": 4,
 "nbformat_minor": 5
}
