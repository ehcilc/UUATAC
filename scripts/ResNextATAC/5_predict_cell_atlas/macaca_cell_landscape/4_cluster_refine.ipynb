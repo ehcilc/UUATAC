{
 "cells": [
  {
   "cell_type": "code",
   "execution_count": null,
   "id": "f079edb4-8dc1-46b3-8973-8841ffb983f9",
   "metadata": {},
   "outputs": [],
   "source": [
    "import h5py\n",
    "import pysam\n",
    "\n",
    "import numpy as np\n",
    "import pandas as pd\n",
    "from scipy.sparse import coo_matrix,csc_matrix\n",
    "\n",
    "import seaborn as sns\n",
    "import matplotlib.pyplot as plt\n",
    "import scanpy as sc\n",
    "import os\n",
    "import anndata"
   ]
  },
  {
   "cell_type": "code",
   "execution_count": null,
   "id": "65e48bf1-75d8-4b63-9d4c-8fa29fa26adb",
   "metadata": {},
   "outputs": [],
   "source": [
    "mat = csc_matrix(arg1=(50040,100))\n",
    "ad = sc.AnnData(mat)"
   ]
  },
  {
   "cell_type": "code",
   "execution_count": null,
   "id": "05e26572-8e50-46fd-86a9-aa7bc3c05e7e",
   "metadata": {},
   "outputs": [],
   "source": [
    "ad"
   ]
  },
  {
   "cell_type": "code",
   "execution_count": null,
   "id": "f8d98a9c-edd2-4a6c-8eb3-bdb2ed6e9e79",
   "metadata": {},
   "outputs": [],
   "source": [
    "anno=pd.read_csv('./meta_pred.csv')\n",
    "anno"
   ]
  },
  {
   "cell_type": "code",
   "execution_count": null,
   "id": "94de94a2-6a69-4d5f-9e8b-8944c9a0321c",
   "metadata": {},
   "outputs": [],
   "source": [
    "ad.obs_names=anno.barcode.values"
   ]
  },
  {
   "cell_type": "code",
   "execution_count": null,
   "id": "91ff7851-97f8-435d-8eee-438dc8e5f209",
   "metadata": {},
   "outputs": [],
   "source": [
    "ad.obs_names"
   ]
  },
  {
   "cell_type": "code",
   "execution_count": null,
   "id": "2a394757-84a7-483f-88d6-1e353d6b5224",
   "metadata": {},
   "outputs": [],
   "source": [
    "tsne=pd.read_csv('./tsne_pred_1024.csv',index_col=0)\n",
    "tsne"
   ]
  },
  {
   "cell_type": "code",
   "execution_count": null,
   "id": "c2b55a35-d576-461e-9c7f-682f3715dc4d",
   "metadata": {},
   "outputs": [],
   "source": [
    "tsne1=tsne.loc[anno.barcode.values,]"
   ]
  },
  {
   "cell_type": "code",
   "execution_count": null,
   "id": "533ee8c1-4263-4e1d-bfdf-d631d9248593",
   "metadata": {},
   "outputs": [],
   "source": [
    "ad.obsm['X_tsne'] = np.array(tsne1)"
   ]
  },
  {
   "cell_type": "code",
   "execution_count": null,
   "id": "f2aa5180-a4d9-48c9-ab2d-2ae2c9c5c465",
   "metadata": {},
   "outputs": [],
   "source": [
    "ad.obs['lineage'] = anno.lineage.values"
   ]
  },
  {
   "cell_type": "code",
   "execution_count": null,
   "id": "46dcb295-f5f0-4273-a004-78dde8b3f49b",
   "metadata": {},
   "outputs": [],
   "source": [
    "ad.obs['subanno'] = anno.subanno.values"
   ]
  },
  {
   "cell_type": "code",
   "execution_count": null,
   "id": "6c24a4a3-340b-41ac-a850-4f68a9212137",
   "metadata": {},
   "outputs": [],
   "source": [
    "ad.obs"
   ]
  },
  {
   "cell_type": "code",
   "execution_count": null,
   "id": "776e6d15-d01e-4db0-8c61-39c4d644afff",
   "metadata": {},
   "outputs": [],
   "source": [
    "cluster=pd.read_csv('./meta_cluster_pred.csv')\n",
    "cluster"
   ]
  },
  {
   "cell_type": "code",
   "execution_count": null,
   "id": "ea334ea8-35e4-4e54-b719-8f0ad49e8739",
   "metadata": {},
   "outputs": [],
   "source": [
    "ad.obs['cluster'] = cluster.seurat_clusters.values.astype(str)"
   ]
  },
  {
   "cell_type": "code",
   "execution_count": null,
   "id": "348e169f-debf-4db1-a435-f352394ab0a7",
   "metadata": {},
   "outputs": [],
   "source": [
    "sc.settings.verbosity = 3\n",
    "sc.settings.set_figure_params(dpi=300, facecolor='white')"
   ]
  },
  {
   "cell_type": "code",
   "execution_count": null,
   "id": "6be7209b-311e-47dd-9e8f-bc77a84c9272",
   "metadata": {},
   "outputs": [],
   "source": [
    "col=pd.read_csv('/file/path/prefix/color.csv')"
   ]
  },
  {
   "cell_type": "code",
   "execution_count": null,
   "id": "95788f81-a3b5-4546-9da8-5cecedd031b5",
   "metadata": {},
   "outputs": [],
   "source": [
    "sc.pl.tsne(ad, color=['cluster'],legend_loc='on data',legend_fontsize=4,palette=list(col['col'].values),save='_pred_1024')"
   ]
  },
  {
   "cell_type": "code",
   "execution_count": null,
   "id": "fc6bcb8a-bcf5-4c14-ae4d-94e4a34ee521",
   "metadata": {},
   "outputs": [],
   "source": [
    "sc.pl.tsne(ad, color=['lineage'],legend_fontsize=4,palette=['#DC143C','#808080','#808080','#808080','#808080','#808080','#808080','#808080','#808080','#808080'])"
   ]
  },
  {
   "cell_type": "code",
   "execution_count": null,
   "id": "c9cb117a-90fd-4e27-8217-48aaec4138e8",
   "metadata": {},
   "outputs": [],
   "source": [
    "sc.pl.tsne(ad, color=['lineage'],legend_fontsize=4,palette=['#808080','#DC143C','#808080','#808080','#808080','#808080','#808080','#808080','#808080','#808080'],save='_epi_1024')"
   ]
  },
  {
   "cell_type": "code",
   "execution_count": null,
   "id": "84d63af1-c6f4-40c3-8be4-744a28ced2ae",
   "metadata": {},
   "outputs": [],
   "source": [
    "sc.pl.tsne(ad, color=['lineage'],legend_fontsize=4,palette=['#808080','#808080','#DC143C','#808080','#808080','#808080','#808080','#808080','#808080','#808080'])"
   ]
  },
  {
   "cell_type": "code",
   "execution_count": null,
   "id": "b53a0547-5541-4741-8ccd-91e8fe21759a",
   "metadata": {},
   "outputs": [],
   "source": [
    "sc.pl.tsne(ad, color=['lineage'],legend_fontsize=4,palette=['#808080','#808080','#808080','#DC143C','#808080','#808080','#808080','#808080','#808080','#808080'],save='_hepa_1024')"
   ]
  },
  {
   "cell_type": "code",
   "execution_count": null,
   "id": "f1bad432-b959-4c1b-8bf5-0be3ceb7f1ae",
   "metadata": {},
   "outputs": [],
   "source": [
    "sc.pl.tsne(ad, color=['lineage'],legend_fontsize=4,palette=['#808080','#808080','#808080','#808080','#DC143C','#808080','#808080','#808080','#808080','#808080'],save='_immune_1024')"
   ]
  },
  {
   "cell_type": "code",
   "execution_count": null,
   "id": "b3574535-55a7-4c01-b16b-0a6fc0f8b8cd",
   "metadata": {},
   "outputs": [],
   "source": [
    "sc.pl.tsne(ad, color=['lineage'],legend_fontsize=4,palette=['#808080','#808080','#808080','#808080','#808080','#DC143C','#808080','#808080','#808080','#808080'])"
   ]
  },
  {
   "cell_type": "code",
   "execution_count": null,
   "id": "9c902832-591b-42d1-ba75-63f14f8096b9",
   "metadata": {},
   "outputs": [],
   "source": [
    "sc.pl.tsne(ad, color=['lineage'],legend_fontsize=4,palette=['#808080','#808080','#808080','#808080','#808080','#808080','#DC143C','#808080','#808080','#808080'],save='_neuron_1024')"
   ]
  },
  {
   "cell_type": "code",
   "execution_count": null,
   "id": "ce39242c-db4a-4f4f-a3f3-017a818ea13e",
   "metadata": {},
   "outputs": [],
   "source": [
    "sc.pl.tsne(ad, color=['lineage'],legend_fontsize=4,palette=['#808080','#808080','#808080','#808080','#808080','#808080','#808080','#DC143C','#808080','#808080'])"
   ]
  },
  {
   "cell_type": "code",
   "execution_count": null,
   "id": "5a69cace-957a-47d6-b078-79452c8d6302",
   "metadata": {},
   "outputs": [],
   "source": [
    "sc.pl.tsne(ad, color=['lineage'],legend_fontsize=4,palette=['#808080','#808080','#808080','#808080','#808080','#808080','#808080','#808080','#DC143C','#808080'])"
   ]
  },
  {
   "cell_type": "code",
   "execution_count": null,
   "id": "c9f2d8db-e422-4b6a-8f48-ea26fefdd93a",
   "metadata": {},
   "outputs": [],
   "source": [
    "sc.pl.tsne(ad, color=['lineage'],legend_fontsize=4,palette=['#808080','#808080','#808080','#808080','#808080','#808080','#808080','#808080','#808080','#DC143C'])"
   ]
  }
 ],
 "metadata": {
  "kernelspec": {
   "display_name": "Python 3 (ipykernel)",
   "language": "python",
   "name": "python3"
  },
  "language_info": {
   "codemirror_mode": {
    "name": "ipython",
    "version": 3
   },
   "file_extension": ".py",
   "mimetype": "text/x-python",
   "name": "python",
   "nbconvert_exporter": "python",
   "pygments_lexer": "ipython3",
   "version": "3.9.12"
  }
 },
 "nbformat": 4,
 "nbformat_minor": 5
}
