{
 "cells": [
  {
   "cell_type": "code",
   "execution_count": null,
   "id": "d999fc9d-5b17-4ef1-a37a-c1050e681b85",
   "metadata": {},
   "outputs": [],
   "source": [
    "import h5py\n",
    "import pysam\n",
    "\n",
    "import numpy as np\n",
    "import pandas as pd\n",
    "from scipy.sparse import coo_matrix,csc_matrix\n",
    "\n",
    "import seaborn as sns\n",
    "import matplotlib.pyplot as plt\n",
    "import scanpy as sc\n",
    "import os\n",
    "import anndata"
   ]
  },
  {
   "cell_type": "code",
   "execution_count": null,
   "id": "7495afbb-6c2e-4438-96a5-8354aae698c0",
   "metadata": {},
   "outputs": [],
   "source": [
    "mat = csc_matrix(arg1=(50040,100))\n",
    "ad = sc.AnnData(mat)"
   ]
  },
  {
   "cell_type": "code",
   "execution_count": null,
   "id": "52ea5a45-6cd9-4402-bb39-cd5ea3507547",
   "metadata": {},
   "outputs": [],
   "source": [
    "ad"
   ]
  },
  {
   "cell_type": "code",
   "execution_count": null,
   "id": "b8b94afb-ca79-4ec5-87a8-5c33f540d212",
   "metadata": {},
   "outputs": [],
   "source": [
    "anno=pd.read_csv('./meta_pred.csv')\n",
    "anno"
   ]
  },
  {
   "cell_type": "code",
   "execution_count": null,
   "id": "647b52f5-39f2-412c-bab0-3177212a766a",
   "metadata": {},
   "outputs": [],
   "source": [
    "ad.obs_names=anno.barcode.values"
   ]
  },
  {
   "cell_type": "code",
   "execution_count": null,
   "id": "7d556993-906a-4efb-933b-f518455d6a0a",
   "metadata": {},
   "outputs": [],
   "source": [
    "ad.obs_names"
   ]
  },
  {
   "cell_type": "code",
   "execution_count": null,
   "id": "882c58fd-51e3-4c8a-b23d-1257f0b957ea",
   "metadata": {},
   "outputs": [],
   "source": [
    "tsne=pd.read_csv('./tsne_pred.csv',index_col=0)\n",
    "tsne"
   ]
  },
  {
   "cell_type": "code",
   "execution_count": null,
   "id": "200e56d3-ebc6-42b0-a7e1-57d9c621f256",
   "metadata": {},
   "outputs": [],
   "source": [
    "tsne1=tsne.loc[anno.barcode.values,]"
   ]
  },
  {
   "cell_type": "code",
   "execution_count": null,
   "id": "462affe7-ef62-4a68-906d-c5c5f549c871",
   "metadata": {},
   "outputs": [],
   "source": [
    "ad.obsm['X_tsne'] = np.array(tsne1)"
   ]
  },
  {
   "cell_type": "code",
   "execution_count": null,
   "id": "a706a3e2-1bb2-48b7-ae3f-d0bcbf5f526a",
   "metadata": {},
   "outputs": [],
   "source": [
    "ad.obs['lineage'] = anno.lineage.values"
   ]
  },
  {
   "cell_type": "code",
   "execution_count": null,
   "id": "d8cc805e-31dc-47ba-a6f5-c83b97522cb1",
   "metadata": {},
   "outputs": [],
   "source": [
    "ad.obs['subanno'] = anno.subanno.values"
   ]
  },
  {
   "cell_type": "code",
   "execution_count": null,
   "id": "38bcfa6e-98e0-4ba7-86fb-e112cdc687aa",
   "metadata": {},
   "outputs": [],
   "source": [
    "ad.obs"
   ]
  },
  {
   "cell_type": "code",
   "execution_count": null,
   "id": "7fc51a40-cd6c-4b92-ae61-99ee0dbc67e4",
   "metadata": {},
   "outputs": [],
   "source": [
    "cluster=pd.read_csv('./meta_cluster_pred.csv')\n",
    "cluster"
   ]
  },
  {
   "cell_type": "code",
   "execution_count": null,
   "id": "fdae7bfe-646b-4dcd-9118-e2537f05b3b5",
   "metadata": {},
   "outputs": [],
   "source": [
    "ad.obs['cluster'] = cluster.seurat_clusters.values.astype(str)"
   ]
  },
  {
   "cell_type": "code",
   "execution_count": null,
   "id": "52a6b05f-8cba-4b0d-af03-56339aa76a26",
   "metadata": {},
   "outputs": [],
   "source": [
    "sc.settings.verbosity = 3\n",
    "sc.settings.set_figure_params(dpi=300, facecolor='white')"
   ]
  },
  {
   "cell_type": "code",
   "execution_count": null,
   "id": "1a5cd6c8-8554-415a-b493-c173008ccffb",
   "metadata": {},
   "outputs": [],
   "source": [
    "col=pd.read_csv('/file/path/prefix/color.csv')"
   ]
  },
  {
   "cell_type": "code",
   "execution_count": null,
   "id": "f026b896-4e0d-4683-85fa-0523ddb9730d",
   "metadata": {},
   "outputs": [],
   "source": [
    "sc.pl.tsne(ad, color=['cluster'],legend_loc='on data',legend_fontsize=4,palette=list(col['col'].values),save='_pred')"
   ]
  },
  {
   "cell_type": "code",
   "execution_count": null,
   "id": "c0545af5-4158-4a87-8523-108b88f7eb5c",
   "metadata": {},
   "outputs": [],
   "source": [
    "sc.pl.tsne(ad, color=['lineage'],legend_fontsize=4,palette=['#DC143C','#808080','#808080','#808080','#808080','#808080','#808080','#808080','#808080','#808080'])"
   ]
  },
  {
   "cell_type": "code",
   "execution_count": null,
   "id": "80edd447-bac7-4f77-9ec0-2fc889c81629",
   "metadata": {},
   "outputs": [],
   "source": [
    "sc.pl.tsne(ad, color=['lineage'],legend_fontsize=4,palette=['#808080','#DC143C','#808080','#808080','#808080','#808080','#808080','#808080','#808080','#808080'],save='_epi')"
   ]
  },
  {
   "cell_type": "code",
   "execution_count": null,
   "id": "97d2beba-a262-4b84-9b1e-30a2ec1e72b9",
   "metadata": {},
   "outputs": [],
   "source": [
    "sc.pl.tsne(ad, color=['lineage'],legend_fontsize=4,palette=['#808080','#808080','#DC143C','#808080','#808080','#808080','#808080','#808080','#808080','#808080'])"
   ]
  },
  {
   "cell_type": "code",
   "execution_count": null,
   "id": "326ecb28-0742-4f75-ab6c-a1eedff6355a",
   "metadata": {},
   "outputs": [],
   "source": [
    "sc.pl.tsne(ad, color=['lineage'],legend_fontsize=4,palette=['#808080','#808080','#808080','#DC143C','#808080','#808080','#808080','#808080','#808080','#808080'],save='_hepa')"
   ]
  },
  {
   "cell_type": "code",
   "execution_count": null,
   "id": "ff6007ae-7e57-4cdd-b06c-53df357dfd97",
   "metadata": {},
   "outputs": [],
   "source": [
    "sc.pl.tsne(ad, color=['lineage'],legend_fontsize=4,palette=['#808080','#808080','#808080','#808080','#DC143C','#808080','#808080','#808080','#808080','#808080'],save='_immune')"
   ]
  },
  {
   "cell_type": "code",
   "execution_count": null,
   "id": "cae46958-8c86-4214-b3de-9a76d23838d0",
   "metadata": {},
   "outputs": [],
   "source": [
    "sc.pl.tsne(ad, color=['lineage'],legend_fontsize=4,palette=['#808080','#808080','#808080','#808080','#808080','#DC143C','#808080','#808080','#808080','#808080'])"
   ]
  },
  {
   "cell_type": "code",
   "execution_count": null,
   "id": "99967b52-2e5b-444b-a156-c37e0c0f4c42",
   "metadata": {},
   "outputs": [],
   "source": [
    "sc.pl.tsne(ad, color=['lineage'],legend_fontsize=4,palette=['#808080','#808080','#808080','#808080','#808080','#808080','#DC143C','#808080','#808080','#808080'],save='_neuron')"
   ]
  },
  {
   "cell_type": "code",
   "execution_count": null,
   "id": "32a126c9-e773-43dc-b101-953c97a5e537",
   "metadata": {},
   "outputs": [],
   "source": [
    "sc.pl.tsne(ad, color=['lineage'],legend_fontsize=4,palette=['#808080','#808080','#808080','#808080','#808080','#808080','#808080','#DC143C','#808080','#808080'])"
   ]
  },
  {
   "cell_type": "code",
   "execution_count": null,
   "id": "e3294f76-7bb8-4184-bc5e-4110ed14494e",
   "metadata": {},
   "outputs": [],
   "source": [
    "sc.pl.tsne(ad, color=['lineage'],legend_fontsize=4,palette=['#808080','#808080','#808080','#808080','#808080','#808080','#808080','#808080','#DC143C','#808080'])"
   ]
  },
  {
   "cell_type": "code",
   "execution_count": null,
   "id": "189c1d63-2e9f-4c36-97bb-65b3b71d9d95",
   "metadata": {},
   "outputs": [],
   "source": [
    "sc.pl.tsne(ad, color=['lineage'],legend_fontsize=4,palette=['#808080','#808080','#808080','#808080','#808080','#808080','#808080','#808080','#808080','#DC143C'])"
   ]
  },
  {
   "cell_type": "code",
   "execution_count": null,
   "id": "5148a715-cab5-47b0-b2af-b18244073c5a",
   "metadata": {},
   "outputs": [],
   "source": [
    "sc.pl.tsne(ad, color=['lineage'],palette=list(col['col'].values))"
   ]
  },
  {
   "cell_type": "code",
   "execution_count": null,
   "id": "e0d7a7ff-bb14-45cb-b869-b4899643b6f7",
   "metadata": {},
   "outputs": [],
   "source": []
  }
 ],
 "metadata": {
  "kernelspec": {
   "display_name": "Python 3 (ipykernel)",
   "language": "python",
   "name": "python3"
  },
  "language_info": {
   "codemirror_mode": {
    "name": "ipython",
    "version": 3
   },
   "file_extension": ".py",
   "mimetype": "text/x-python",
   "name": "python",
   "nbconvert_exporter": "python",
   "pygments_lexer": "ipython3",
   "version": "3.9.12"
  }
 },
 "nbformat": 4,
 "nbformat_minor": 5
}
